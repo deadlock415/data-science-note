{
 "cells": [
  {
   "cell_type": "code",
   "execution_count": null,
   "id": "0f0bd980",
   "metadata": {},
   "outputs": [],
   "source": [
    "data1_age = 12,20,30,40,400,50 = mean()\n",
    "data2_age = 12,20,30,40,40,50  = mean()"
   ]
  },
  {
   "cell_type": "markdown",
   "id": "176ae69c",
   "metadata": {},
   "source": [
    "### Numpy"
   ]
  },
  {
   "cell_type": "code",
   "execution_count": null,
   "id": "281df230",
   "metadata": {},
   "outputs": [],
   "source": [
    "Numpy > Numerical Python"
   ]
  },
  {
   "cell_type": "markdown",
   "id": "8e968b81",
   "metadata": {},
   "source": [
    "## Applications"
   ]
  },
  {
   "cell_type": "code",
   "execution_count": null,
   "id": "60cef807",
   "metadata": {},
   "outputs": [],
   "source": [
    "1) Linear regression\n",
    "2) Statistics  (mean,mode,median,std,variance)\n",
    "3) Probability\n",
    "4) Trignomentry (tan,cos,sin,cosine etc)\n",
    "5) calculs\n",
    "6) Meatrix\n",
    "7) Linear alegrbra   5x + 2y =3 and 5x+ 3y=1 \n",
    "8) Random Number Generation"
   ]
  },
  {
   "cell_type": "code",
   "execution_count": 3,
   "id": "ea4e46d6",
   "metadata": {},
   "outputs": [],
   "source": [
    "import numpy as np"
   ]
  },
  {
   "cell_type": "raw",
   "id": "e2efbd10",
   "metadata": {},
   "source": [
    "Array = >>  Array is  a container which is used to hold number of items and these should be of the same data type\n",
    "int,complex,str"
   ]
  },
  {
   "cell_type": "code",
   "execution_count": 4,
   "id": "77197ce6",
   "metadata": {},
   "outputs": [
    {
     "data": {
      "text/plain": [
       "['1', 2, 3.4]"
      ]
     },
     "execution_count": 4,
     "metadata": {},
     "output_type": "execute_result"
    }
   ],
   "source": [
    "lst = [\"1\",2,3.4]\n",
    "lst"
   ]
  },
  {
   "cell_type": "code",
   "execution_count": 5,
   "id": "f325265e",
   "metadata": {},
   "outputs": [
    {
     "data": {
      "text/plain": [
       "array(['1', '2', '3.4'], dtype='<U32')"
      ]
     },
     "execution_count": 5,
     "metadata": {},
     "output_type": "execute_result"
    }
   ],
   "source": [
    "lst = [\"1\",2,3.4]\n",
    "n1  = np.array(lst)\n",
    "n1"
   ]
  },
  {
   "cell_type": "code",
   "execution_count": 10,
   "id": "022c095b",
   "metadata": {},
   "outputs": [
    {
     "name": "stdout",
     "output_type": "stream",
     "text": [
      "['5' '3.3' '4' '(2+3j)' '4']\n"
     ]
    }
   ],
   "source": [
    "n2 = np.array([5,3.3,4,2+3j,\"4\"]) # \n",
    "print(n2)"
   ]
  },
  {
   "cell_type": "code",
   "execution_count": 11,
   "id": "b3a964c6",
   "metadata": {},
   "outputs": [
    {
     "name": "stdout",
     "output_type": "stream",
     "text": [
      "[5. +0.j 3.3+0.j 4. +0.j 2. +3.j]\n"
     ]
    }
   ],
   "source": [
    "n2 = np.array([5,3.3,4,2+3j]) # \n",
    "print(n2)"
   ]
  },
  {
   "cell_type": "code",
   "execution_count": 12,
   "id": "851a3b64",
   "metadata": {},
   "outputs": [
    {
     "name": "stdout",
     "output_type": "stream",
     "text": [
      "[5.  3.3 4.  2. ]\n"
     ]
    }
   ],
   "source": [
    "n2 = np.array([5,3.3,4,2]) # \n",
    "print(n2)"
   ]
  },
  {
   "cell_type": "code",
   "execution_count": 13,
   "id": "5e478478",
   "metadata": {},
   "outputs": [
    {
     "name": "stdout",
     "output_type": "stream",
     "text": [
      "[5 3 4 6]\n"
     ]
    }
   ],
   "source": [
    "n2 = np.array([5,3,4,6]) # \n",
    "print(n2)"
   ]
  },
  {
   "cell_type": "markdown",
   "id": "20795dfe",
   "metadata": {},
   "source": [
    "## Properties of Numpy"
   ]
  },
  {
   "cell_type": "code",
   "execution_count": null,
   "id": "970b3806",
   "metadata": {},
   "outputs": [],
   "source": [
    "1) It is collection of Homogenous data type\n",
    "2) Numpy is faster than list(Hetrogeneous) \n",
    "3) Numpy is written in C/C++ langauge and partially written in python\n",
    "4) ndarray >> n dimensional array (0D,1D,2D,3D....nD)\n",
    "5) Array can be creatd using python dta type i.e list/tuple"
   ]
  },
  {
   "cell_type": "code",
   "execution_count": 17,
   "id": "83cc175a",
   "metadata": {},
   "outputs": [
    {
     "data": {
      "text/plain": [
       "array(['1', '2', '3', '4', '5.5'], dtype='<U32')"
      ]
     },
     "execution_count": 17,
     "metadata": {},
     "output_type": "execute_result"
    }
   ],
   "source": [
    "# List\n",
    "lst = [1,2,3,\"4\",5.5]\n",
    "arr1 = np.array(lst)\n",
    "arr1"
   ]
  },
  {
   "cell_type": "code",
   "execution_count": 18,
   "id": "e09a1675",
   "metadata": {},
   "outputs": [
    {
     "data": {
      "text/plain": [
       "array(['1', '2', '3', '4', '5.5'], dtype='<U32')"
      ]
     },
     "execution_count": 18,
     "metadata": {},
     "output_type": "execute_result"
    }
   ],
   "source": [
    "# tuple\n",
    "lst = (1,2,3,\"4\",5.5)\n",
    "arr1 = np.array(lst)\n",
    "arr1"
   ]
  },
  {
   "cell_type": "code",
   "execution_count": 19,
   "id": "793e12e4",
   "metadata": {},
   "outputs": [
    {
     "data": {
      "text/plain": [
       "array({'tuple1': (1, 2, 3, '4', 5.5)}, dtype=object)"
      ]
     },
     "execution_count": 19,
     "metadata": {},
     "output_type": "execute_result"
    }
   ],
   "source": [
    "# tuple\n",
    "dict1 = {\"tuple1\":(1,2,3,\"4\",5.5)}\n",
    "arr1 = np.array(dict1)\n",
    "arr1 # wrong way"
   ]
  },
  {
   "cell_type": "code",
   "execution_count": null,
   "id": "ce0fdd41",
   "metadata": {},
   "outputs": [],
   "source": []
  },
  {
   "cell_type": "markdown",
   "id": "aeedcdd3",
   "metadata": {},
   "source": [
    "## change datatype"
   ]
  },
  {
   "cell_type": "code",
   "execution_count": null,
   "id": "e073db86",
   "metadata": {},
   "outputs": [],
   "source": [
    "# convert to int"
   ]
  },
  {
   "cell_type": "code",
   "execution_count": 16,
   "id": "8678393e",
   "metadata": {},
   "outputs": [
    {
     "data": {
      "text/plain": [
       "array([5, 3, 4, 2])"
      ]
     },
     "execution_count": 16,
     "metadata": {},
     "output_type": "execute_result"
    }
   ],
   "source": [
    "n2 = np.array([5,3.3,4,2],dtype=int) # \n",
    "n2"
   ]
  },
  {
   "cell_type": "code",
   "execution_count": null,
   "id": "5cebbb7d",
   "metadata": {},
   "outputs": [],
   "source": [
    "# convert to complex"
   ]
  },
  {
   "cell_type": "code",
   "execution_count": 20,
   "id": "1b8afc2a",
   "metadata": {},
   "outputs": [
    {
     "data": {
      "text/plain": [
       "array([5. +0.j, 3.3+0.j, 4. +0.j, 2. +0.j])"
      ]
     },
     "execution_count": 20,
     "metadata": {},
     "output_type": "execute_result"
    }
   ],
   "source": [
    "n2 = np.array([5,3.3,4,2],dtype=complex) # \n",
    "n2"
   ]
  },
  {
   "cell_type": "code",
   "execution_count": 21,
   "id": "5312ced0",
   "metadata": {},
   "outputs": [
    {
     "data": {
      "text/plain": [
       "array([5. , 3.3, 4. , 2. ])"
      ]
     },
     "execution_count": 21,
     "metadata": {},
     "output_type": "execute_result"
    }
   ],
   "source": [
    "n2 = np.array([5,3.3,4,2],dtype=float) # \n",
    "n2"
   ]
  },
  {
   "cell_type": "code",
   "execution_count": 22,
   "id": "63831a2f",
   "metadata": {},
   "outputs": [
    {
     "data": {
      "text/plain": [
       "array(['5', '3.3', '4', '2'], dtype='<U3')"
      ]
     },
     "execution_count": 22,
     "metadata": {},
     "output_type": "execute_result"
    }
   ],
   "source": [
    "n2 = np.array([5,3.3,4,2],dtype=str) # \n",
    "n2"
   ]
  },
  {
   "cell_type": "code",
   "execution_count": 23,
   "id": "dba57b4f",
   "metadata": {},
   "outputs": [
    {
     "ename": "TypeError",
     "evalue": "can't convert complex to int",
     "output_type": "error",
     "traceback": [
      "\u001b[1;31m---------------------------------------------------------------------------\u001b[0m",
      "\u001b[1;31mTypeError\u001b[0m                                 Traceback (most recent call last)",
      "\u001b[1;32m~\\AppData\\Local\\Temp/ipykernel_10788/1679241993.py\u001b[0m in \u001b[0;36m<module>\u001b[1;34m\u001b[0m\n\u001b[1;32m----> 1\u001b[1;33m \u001b[0mn2\u001b[0m \u001b[1;33m=\u001b[0m \u001b[0mnp\u001b[0m\u001b[1;33m.\u001b[0m\u001b[0marray\u001b[0m\u001b[1;33m(\u001b[0m\u001b[1;33m[\u001b[0m\u001b[1;36m5\u001b[0m\u001b[1;33m,\u001b[0m\u001b[1;36m3.3\u001b[0m\u001b[1;33m,\u001b[0m\u001b[1;36m4\u001b[0m\u001b[1;33m,\u001b[0m\u001b[1;36m2\u001b[0m\u001b[1;33m+\u001b[0m\u001b[1;36m3j\u001b[0m\u001b[1;33m]\u001b[0m\u001b[1;33m,\u001b[0m\u001b[0mdtype\u001b[0m\u001b[1;33m=\u001b[0m\u001b[0mint\u001b[0m\u001b[1;33m)\u001b[0m \u001b[1;31m#\u001b[0m\u001b[1;33m\u001b[0m\u001b[1;33m\u001b[0m\u001b[0m\n\u001b[0m\u001b[0;32m      2\u001b[0m \u001b[0mn2\u001b[0m\u001b[1;33m\u001b[0m\u001b[1;33m\u001b[0m\u001b[0m\n",
      "\u001b[1;31mTypeError\u001b[0m: can't convert complex to int"
     ]
    }
   ],
   "source": [
    "n2 = np.array([5,3.3,4,2+3j],dtype=int) # \n",
    "n2"
   ]
  },
  {
   "cell_type": "code",
   "execution_count": 26,
   "id": "1b5d3d94",
   "metadata": {},
   "outputs": [
    {
     "data": {
      "text/plain": [
       "array([5, 3, 4, 2])"
      ]
     },
     "execution_count": 26,
     "metadata": {},
     "output_type": "execute_result"
    }
   ],
   "source": [
    "n2 = np.array([5,3.3,4,\"2\"],dtype=int) # \n",
    "n2"
   ]
  },
  {
   "cell_type": "code",
   "execution_count": 27,
   "id": "cf582cd5",
   "metadata": {},
   "outputs": [
    {
     "name": "stdout",
     "output_type": "stream",
     "text": [
      "Enter the value::::4\n"
     ]
    },
    {
     "data": {
      "text/plain": [
       "str"
      ]
     },
     "execution_count": 27,
     "metadata": {},
     "output_type": "execute_result"
    }
   ],
   "source": [
    "a = (input(\"Enter the value::::\"))\n",
    "type(a)"
   ]
  },
  {
   "cell_type": "code",
   "execution_count": 25,
   "id": "ecf88e1e",
   "metadata": {},
   "outputs": [
    {
     "name": "stdout",
     "output_type": "stream",
     "text": [
      "Enter the value::::4\n"
     ]
    },
    {
     "data": {
      "text/plain": [
       "int"
      ]
     },
     "execution_count": 25,
     "metadata": {},
     "output_type": "execute_result"
    }
   ],
   "source": [
    "a = int(input(\"Enter the value::::\"))\n",
    "type(a)"
   ]
  },
  {
   "cell_type": "code",
   "execution_count": null,
   "id": "3e84f65b",
   "metadata": {},
   "outputs": [],
   "source": [
    "# conclusion\n",
    "int >float,complex,str\n",
    "float > int,complex,str\n",
    "complex> not int,not float"
   ]
  },
  {
   "cell_type": "markdown",
   "id": "1f0dd8c3",
   "metadata": {},
   "source": [
    "## Numpy Functions"
   ]
  },
  {
   "cell_type": "markdown",
   "id": "4bb4d6dd",
   "metadata": {},
   "source": [
    "1) np.array()\n",
    "2) array.tolist() >> N-dimensional numpy array convert to list\n",
    "3) array.ndim  # to know dimension of array\n",
    "4) array.shape > to know the shape of array"
   ]
  },
  {
   "cell_type": "markdown",
   "id": "0d79ae22",
   "metadata": {},
   "source": [
    "## 1) np.array()"
   ]
  },
  {
   "cell_type": "code",
   "execution_count": 28,
   "id": "ec5a7903",
   "metadata": {},
   "outputs": [
    {
     "data": {
      "text/plain": [
       "array([2. , 3. , 4. , 5. , 5.5])"
      ]
     },
     "execution_count": 28,
     "metadata": {},
     "output_type": "execute_result"
    }
   ],
   "source": [
    "lst = [2,3,4,5,5.5]\n",
    "arr1 = np.array(lst)\n",
    "arr1"
   ]
  },
  {
   "cell_type": "markdown",
   "id": "9dee5b88",
   "metadata": {},
   "source": [
    "## 2) arr1.tolist()"
   ]
  },
  {
   "cell_type": "code",
   "execution_count": 30,
   "id": "6a4e5fd2",
   "metadata": {},
   "outputs": [
    {
     "data": {
      "text/plain": [
       "[4, 9, 16, 25, 36]"
      ]
     },
     "execution_count": 30,
     "metadata": {},
     "output_type": "execute_result"
    }
   ],
   "source": [
    "# question >> \n",
    "# i/p[2,3,4,5,6] >> o/p[4,9,16,25,36]\n",
    "lst = [2,3,4,5,6] \n",
    "o_p = list(map(lambda x:x**2,lst))\n",
    "o_p"
   ]
  },
  {
   "cell_type": "code",
   "execution_count": 40,
   "id": "55997a6c",
   "metadata": {},
   "outputs": [
    {
     "data": {
      "text/plain": [
       "[4, 9, 16, 25, 36]"
      ]
     },
     "execution_count": 40,
     "metadata": {},
     "output_type": "execute_result"
    }
   ],
   "source": [
    "lst = [2,3,4,5,6] \n",
    "o_p = []\n",
    "for i in lst:\n",
    "    o_p.append(i**2)\n",
    "o_p"
   ]
  },
  {
   "cell_type": "code",
   "execution_count": 35,
   "id": "59089b63",
   "metadata": {},
   "outputs": [
    {
     "data": {
      "text/plain": [
       "[4, 9, 16, 25, 36]"
      ]
     },
     "execution_count": 35,
     "metadata": {},
     "output_type": "execute_result"
    }
   ],
   "source": [
    "lst = [2,3,4,5,6] \n",
    "o_p = [i**2 for i in lst]\n",
    "o_p"
   ]
  },
  {
   "cell_type": "code",
   "execution_count": 42,
   "id": "8abc0d57",
   "metadata": {},
   "outputs": [
    {
     "data": {
      "text/plain": [
       "array([ 4,  9, 16, 25, 36], dtype=int32)"
      ]
     },
     "execution_count": 42,
     "metadata": {},
     "output_type": "execute_result"
    }
   ],
   "source": [
    "lst = [2,3,4,5,6]\n",
    "arr1 = np.array(lst)**2\n",
    "arr1  # array o/p"
   ]
  },
  {
   "cell_type": "code",
   "execution_count": 39,
   "id": "a8f001d3",
   "metadata": {},
   "outputs": [
    {
     "data": {
      "text/plain": [
       "[4, 9, 16, 25, 36]"
      ]
     },
     "execution_count": 39,
     "metadata": {},
     "output_type": "execute_result"
    }
   ],
   "source": [
    "lst = [2,3,4,5,6]\n",
    "arr1 = np.array(lst)**2\n",
    "arr1.tolist() # list as o/p"
   ]
  },
  {
   "cell_type": "code",
   "execution_count": 41,
   "id": "d44d08bd",
   "metadata": {},
   "outputs": [
    {
     "data": {
      "text/plain": [
       "[8, 27, 64, 125, 216]"
      ]
     },
     "execution_count": 41,
     "metadata": {},
     "output_type": "execute_result"
    }
   ],
   "source": [
    "lst = [2,3,4,5,6]\n",
    "lst = (np.array(lst)**3).tolist()\n",
    "lst # list as o/p"
   ]
  },
  {
   "cell_type": "markdown",
   "id": "2a83e266",
   "metadata": {},
   "source": [
    "## 3) array.ndim"
   ]
  },
  {
   "cell_type": "markdown",
   "id": "9ede7a13",
   "metadata": {},
   "source": [
    "## 3.1 0-D"
   ]
  },
  {
   "cell_type": "code",
   "execution_count": null,
   "id": "f97e77cb",
   "metadata": {},
   "outputs": [],
   "source": [
    "only single value"
   ]
  },
  {
   "cell_type": "code",
   "execution_count": 43,
   "id": "2b902f16",
   "metadata": {},
   "outputs": [
    {
     "name": "stdout",
     "output_type": "stream",
     "text": [
      "Number of dimension are \n",
      ": 0\n"
     ]
    }
   ],
   "source": [
    "arr0 = np.array(12)\n",
    "print(\"Number of dimension are \\n:\",arr0.ndim)"
   ]
  },
  {
   "cell_type": "markdown",
   "id": "478a593c",
   "metadata": {},
   "source": [
    "## 3.2 1-D"
   ]
  },
  {
   "cell_type": "code",
   "execution_count": null,
   "id": "3c8acdea",
   "metadata": {},
   "outputs": [],
   "source": [
    "it is collection of multiple 0-D array >> it means list etc"
   ]
  },
  {
   "cell_type": "code",
   "execution_count": 45,
   "id": "cdb7f7c2",
   "metadata": {},
   "outputs": [
    {
     "name": "stdout",
     "output_type": "stream",
     "text": [
      "Number of dimension are \n",
      ": 1\n"
     ]
    }
   ],
   "source": [
    "arr1 = np.array([12,13,14,15])\n",
    "print(\"Number of dimension are \\n:\",arr1.ndim)"
   ]
  },
  {
   "cell_type": "markdown",
   "id": "58120b95",
   "metadata": {},
   "source": [
    "## 3.2 2-D"
   ]
  },
  {
   "cell_type": "code",
   "execution_count": null,
   "id": "2d18884a",
   "metadata": {},
   "outputs": [],
   "source": [
    "It is collection of multiple 1-D array >> it means matrix"
   ]
  },
  {
   "cell_type": "code",
   "execution_count": 46,
   "id": "b89ef1a5",
   "metadata": {},
   "outputs": [
    {
     "name": "stdout",
     "output_type": "stream",
     "text": [
      "Number of dimension are \n",
      ": 2\n"
     ]
    }
   ],
   "source": [
    "arr1 = np.array([[12,13,14,15],[12,13,14,15],[12,13,14,15],[12,13,14,15]])\n",
    "print(\"Number of dimension are \\n:\",arr1.ndim)"
   ]
  },
  {
   "cell_type": "markdown",
   "id": "fd40ea7a",
   "metadata": {},
   "source": [
    "## 3.3 3-D"
   ]
  },
  {
   "cell_type": "code",
   "execution_count": null,
   "id": "30f2da01",
   "metadata": {},
   "outputs": [],
   "source": [
    "It is collection of multiple 2-D array "
   ]
  },
  {
   "cell_type": "code",
   "execution_count": 47,
   "id": "06cb6720",
   "metadata": {},
   "outputs": [
    {
     "name": "stdout",
     "output_type": "stream",
     "text": [
      "Number of dimension are \n",
      ": 3\n"
     ]
    }
   ],
   "source": [
    "arr1 = np.array([[[12,13,14,15],[12,13,14,15]]])\n",
    "print(\"Number of dimension are \\n:\",arr1.ndim)"
   ]
  },
  {
   "cell_type": "markdown",
   "id": "8afc28ad",
   "metadata": {},
   "source": [
    "## 4) array.shape"
   ]
  },
  {
   "cell_type": "code",
   "execution_count": 49,
   "id": "085ac3f5",
   "metadata": {},
   "outputs": [
    {
     "name": "stdout",
     "output_type": "stream",
     "text": [
      "Number of dimension are \n",
      ": 3\n",
      "[[[12 13 14 15]\n",
      "  [12 13 14 15]]]\n",
      "Shape of array\n",
      ": (1, 2, 4)\n"
     ]
    }
   ],
   "source": [
    "arr1 = np.array([[[12,13,14,15],[12,13,14,15]]])\n",
    "print(\"Number of dimension are \\n:\",arr1.ndim)\n",
    "print(arr1)\n",
    "print(\"Shape of array\\n:\",arr1.shape)"
   ]
  },
  {
   "cell_type": "code",
   "execution_count": 51,
   "id": "ad731388",
   "metadata": {},
   "outputs": [
    {
     "name": "stdout",
     "output_type": "stream",
     "text": [
      "Number of dimension are \n",
      ": 2\n",
      "[[12 13 14 15]\n",
      " [12 13 14 15]\n",
      " [12 13 14 15]\n",
      " [12 13 14 15]]\n",
      "Shape of array\n",
      ": (4, 4)\n"
     ]
    }
   ],
   "source": [
    "arr1 = np.array([[12,13,14,15],[12,13,14,15],[12,13,14,15],[12,13,14,15]])\n",
    "print(\"Number of dimension are \\n:\",arr1.ndim) # 2D\n",
    "print(arr1)\n",
    "print(\"Shape of array\\n:\",arr1.shape)"
   ]
  },
  {
   "cell_type": "code",
   "execution_count": 53,
   "id": "e1040572",
   "metadata": {},
   "outputs": [
    {
     "name": "stdout",
     "output_type": "stream",
     "text": [
      "Number of dimension are \n",
      ": 1\n",
      "[12 13 14 15]\n",
      "Shape of array\n",
      ": (4,)\n"
     ]
    }
   ],
   "source": [
    "arr1 = np.array([12,13,14,15])\n",
    "print(\"Number of dimension are \\n:\",arr1.ndim)\n",
    "print(arr1)\n",
    "print(\"Shape of array\\n:\",arr1.shape)"
   ]
  },
  {
   "cell_type": "code",
   "execution_count": 54,
   "id": "71f3f6c1",
   "metadata": {},
   "outputs": [
    {
     "name": "stdout",
     "output_type": "stream",
     "text": [
      "Number of dimension are \n",
      ": 1\n",
      "[12 13 14 15 67  4]\n",
      "Shape of array\n",
      ": (6,)\n"
     ]
    }
   ],
   "source": [
    "arr1 = np.array([12,13,14,15,67,4])\n",
    "print(\"Number of dimension are \\n:\",arr1.ndim)\n",
    "print(arr1)\n",
    "print(\"Shape of array\\n:\",arr1.shape)"
   ]
  },
  {
   "cell_type": "code",
   "execution_count": 55,
   "id": "d89baf6c",
   "metadata": {},
   "outputs": [
    {
     "name": "stdout",
     "output_type": "stream",
     "text": [
      "Number of dimension are \n",
      ": 2\n",
      "[[12 13 14 15 67  4]]\n",
      "Shape of array\n",
      ": (1, 6)\n"
     ]
    }
   ],
   "source": [
    "arr1 = np.array([[12,13,14,15,67,4]])\n",
    "print(\"Number of dimension are \\n:\",arr1.ndim)\n",
    "print(arr1)\n",
    "print(\"Shape of array\\n:\",arr1.shape) # (1,6) >>row :column"
   ]
  },
  {
   "cell_type": "code",
   "execution_count": null,
   "id": "b7b78bc3",
   "metadata": {},
   "outputs": [],
   "source": []
  }
 ],
 "metadata": {
  "kernelspec": {
   "display_name": "Python 3 (ipykernel)",
   "language": "python",
   "name": "python3"
  },
  "language_info": {
   "codemirror_mode": {
    "name": "ipython",
    "version": 3
   },
   "file_extension": ".py",
   "mimetype": "text/x-python",
   "name": "python",
   "nbconvert_exporter": "python",
   "pygments_lexer": "ipython3",
   "version": "3.8.10"
  }
 },
 "nbformat": 4,
 "nbformat_minor": 5
}

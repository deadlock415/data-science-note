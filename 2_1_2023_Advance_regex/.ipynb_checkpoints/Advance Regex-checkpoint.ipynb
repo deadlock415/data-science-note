{
 "cells": [
  {
   "cell_type": "code",
   "execution_count": null,
   "id": "257d91d8",
   "metadata": {},
   "outputs": [],
   "source": [
    "# Look ahead negative A(?!B)  >> Look for such an expression A which does not precede B\n",
    "# look behind negative (?<!B)A  >> look for such an expression A which does not follow B\n",
    "# look ahead positive A(?=B) >>look for such an expression A that is presedes expression B\n",
    "# look behind positive (?<=B)A  >> lOOK for such an expression A that is followed by B"
   ]
  },
  {
   "cell_type": "code",
   "execution_count": 2,
   "id": "c01573a9",
   "metadata": {},
   "outputs": [
    {
     "name": "stdout",
     "output_type": "stream",
     "text": [
      "<li>Lillith Daniel<br/>935-1670 Neque. St.<br/>Centennial Delaware 48432<br/>(387) 142-9434</li>\n"
     ]
    }
   ],
   "source": [
    "import re\n",
    "data = \"<li>Lillith Daniel<br/>935-1670 Neque. St.<br/>Centennial Delaware 48432<br/>(387) 142-9434</li>\"\n",
    "print(data)"
   ]
  },
  {
   "cell_type": "markdown",
   "id": "08df4a7f",
   "metadata": {},
   "source": [
    "## 1) look ahead positive A(?=B)"
   ]
  },
  {
   "cell_type": "code",
   "execution_count": null,
   "id": "c799a096",
   "metadata": {},
   "outputs": [],
   "source": [
    "# look ahead positive A(?=B) >>look for such an expression A that is presedes expression B"
   ]
  },
  {
   "cell_type": "code",
   "execution_count": 3,
   "id": "65db55d7",
   "metadata": {},
   "outputs": [
    {
     "data": {
      "text/plain": [
       "['MUBAI', 'PUNE']"
      ]
     },
     "execution_count": 3,
     "metadata": {},
     "output_type": "execute_result"
    }
   ],
   "source": [
    "data = \"MUBAI01#PMK##PUNE02848887\"  # [\"MUB\",\"PUN\"]\n",
    "lst = re.findall(r\"[A-Z]+(?=\\d+)\",data)\n",
    "lst"
   ]
  },
  {
   "cell_type": "markdown",
   "id": "996cc255",
   "metadata": {},
   "source": [
    "## 2) Negative Look Ahead"
   ]
  },
  {
   "cell_type": "code",
   "execution_count": null,
   "id": "67c34a17",
   "metadata": {},
   "outputs": [],
   "source": [
    "# Look ahead negative A(?!B)  >> Look for such an expression A which does not precede B "
   ]
  },
  {
   "cell_type": "code",
   "execution_count": 6,
   "id": "702f0a05",
   "metadata": {},
   "outputs": [
    {
     "data": {
      "text/plain": [
       "['MUBA', 'PMK', 'PUNE']"
      ]
     },
     "execution_count": 6,
     "metadata": {},
     "output_type": "execute_result"
    }
   ],
   "source": [
    "data = \"MUBAI01#PMK##PUNE02848887\"  # [\"MUB\",\"PUN\"]\n",
    "lst = re.findall(r\"[A-Z]+(?!\\d+)\",data)\n",
    "lst"
   ]
  },
  {
   "cell_type": "code",
   "execution_count": 9,
   "id": "ff78deaf",
   "metadata": {},
   "outputs": [
    {
     "data": {
      "text/plain": [
       "['Maharashtra Pun']"
      ]
     },
     "execution_count": 9,
     "metadata": {},
     "output_type": "execute_result"
    }
   ],
   "source": [
    "data = \"Maharashtra Pune 1234\"#  # o/p [\"Maharashtra Pune\"]\n",
    "lst = re.findall(r\"[A-Za-z ]+(?!\\d+)\",data)\n",
    "lst"
   ]
  },
  {
   "cell_type": "markdown",
   "id": "f6825d2b",
   "metadata": {},
   "source": [
    "## 3) Look behind Positive"
   ]
  },
  {
   "cell_type": "code",
   "execution_count": null,
   "id": "877e2167",
   "metadata": {},
   "outputs": [],
   "source": [
    "# look behind positive (?<=B)A  >> lOOK for such an expression A that is followed by B"
   ]
  },
  {
   "cell_type": "code",
   "execution_count": 10,
   "id": "2476c5ed",
   "metadata": {},
   "outputs": [
    {
     "data": {
      "text/plain": [
       "['333', '111', '12', '50']"
      ]
     },
     "execution_count": 10,
     "metadata": {},
     "output_type": "execute_result"
    }
   ],
   "source": [
    "str1 = \"we333 are111 learning regex12 and Data science course50 34 55\" # [\"333\",,\"111\",12\",\"50\"]\n",
    "lst = re.findall(r\"(?<=[A-Za-z])\\d+\",str1)\n",
    "lst"
   ]
  },
  {
   "cell_type": "markdown",
   "id": "2edaaa2b",
   "metadata": {},
   "source": [
    "## 4) Look behind negative"
   ]
  },
  {
   "cell_type": "code",
   "execution_count": null,
   "id": "e54ae7b8",
   "metadata": {},
   "outputs": [],
   "source": [
    "# look behind negative (?<!B)A  >> look for such an expression A which does not follow B\n"
   ]
  },
  {
   "cell_type": "code",
   "execution_count": 11,
   "id": "481a07d1",
   "metadata": {},
   "outputs": [
    {
     "data": {
      "text/plain": [
       "['33', '11', '2', '0', '34', '55']"
      ]
     },
     "execution_count": 11,
     "metadata": {},
     "output_type": "execute_result"
    }
   ],
   "source": [
    "str1 = \"we333 are111 learning regex12 and Data science course50 34 55\" # [\"33\",,\"11\",2\",\"0\",\"34\",\"55\"]\n",
    "lst = re.findall(r\"(?<![A-Za-z])\\d+\",str1)\n",
    "lst"
   ]
  },
  {
   "cell_type": "code",
   "execution_count": 22,
   "id": "cba4b1e2",
   "metadata": {},
   "outputs": [
    {
     "name": "stdout",
     "output_type": "stream",
     "text": [
      "<li>Lillith Daniel<br/>935-1670 Neque. St.<br/>Centennial Delaware 48432<br/>(387) 142-9434</li>\n"
     ]
    }
   ],
   "source": [
    "import re\n",
    "data = \"<li>Lillith Daniel<br/>935-1670 Neque. St.<br/>Centennial Delaware 48432<br/>(387) 142-9434</li>\"\n",
    "print(data)"
   ]
  },
  {
   "cell_type": "code",
   "execution_count": 26,
   "id": "fb7995b1",
   "metadata": {},
   "outputs": [
    {
     "data": {
      "text/plain": [
       "['Neque. St.']"
      ]
     },
     "execution_count": 26,
     "metadata": {},
     "output_type": "execute_result"
    }
   ],
   "source": [
    "lst = re.findall(\"(?<=[0-9- ]{9})[A-Za-z. ]+(?![a-z])\",data)\n",
    "lst"
   ]
  },
  {
   "cell_type": "code",
   "execution_count": 27,
   "id": "44860140",
   "metadata": {},
   "outputs": [
    {
     "name": "stdout",
     "output_type": "stream",
     "text": [
      "<li>Lillith Daniel<br/>935-1670 Velocity Pune<br/>Centennial Delaware 48432<br/>(387) 142-9434</li>\n"
     ]
    },
    {
     "data": {
      "text/plain": [
       "['Velocity Pune']"
      ]
     },
     "execution_count": 27,
     "metadata": {},
     "output_type": "execute_result"
    }
   ],
   "source": [
    "import re\n",
    "data = \"<li>Lillith Daniel<br/>935-1670 Velocity Pune<br/>Centennial Delaware 48432<br/>(387) 142-9434</li>\"\n",
    "print(data)\n",
    "lst = re.findall(\"(?<=[0-9- ]{9})[A-Za-z. ]+(?![a-z])\",data)\n",
    "lst"
   ]
  },
  {
   "cell_type": "code",
   "execution_count": 38,
   "id": "f7bda6fd",
   "metadata": {},
   "outputs": [
    {
     "data": {
      "text/plain": [
       "['1545848']"
      ]
     },
     "execution_count": 38,
     "metadata": {},
     "output_type": "execute_result"
    }
   ],
   "source": [
    "data = \"$1545848 $487879.548668\"  # [\"1545848\"]\n",
    "lst =re.findall(r\"(?<=[$])\\d{7}(?![.])\",data)  # look behind positive (?<=B)A  and # Look ahead negative A(?!B\n",
    "lst"
   ]
  },
  {
   "cell_type": "code",
   "execution_count": 39,
   "id": "e120bbc3",
   "metadata": {},
   "outputs": [
    {
     "data": {
      "text/plain": [
       "['1545848']"
      ]
     },
     "execution_count": 39,
     "metadata": {},
     "output_type": "execute_result"
    }
   ],
   "source": [
    "data = \"$1545848 $487879.548668\"  # [\"1545848\"]\n",
    "lst =re.findall(r\"(?<=[$])\\d+(?=\\s)\",data)  # look behind positive (?<=B)A  and # Look ahead positive \n",
    "lst"
   ]
  },
  {
   "cell_type": "code",
   "execution_count": null,
   "id": "83e9eac9",
   "metadata": {},
   "outputs": [],
   "source": []
  },
  {
   "cell_type": "code",
   "execution_count": null,
   "id": "60da6487",
   "metadata": {},
   "outputs": [],
   "source": []
  }
 ],
 "metadata": {
  "kernelspec": {
   "display_name": "Python 3 (ipykernel)",
   "language": "python",
   "name": "python3"
  },
  "language_info": {
   "codemirror_mode": {
    "name": "ipython",
    "version": 3
   },
   "file_extension": ".py",
   "mimetype": "text/x-python",
   "name": "python",
   "nbconvert_exporter": "python",
   "pygments_lexer": "ipython3",
   "version": "3.9.7"
  }
 },
 "nbformat": 4,
 "nbformat_minor": 5
}

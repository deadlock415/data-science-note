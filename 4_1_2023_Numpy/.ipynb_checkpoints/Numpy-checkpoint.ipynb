{
 "cells": [
  {
   "cell_type": "code",
   "execution_count": null,
   "id": "1008d45b",
   "metadata": {},
   "outputs": [],
   "source": [
    "1) Slicing Array\n",
    "2) reshape\n",
    "3) nditter\n",
    "4) ndenumerate\n",
    "5) flatten\n",
    "6) ravel \n",
    "7) zeros\n",
    "8) Ones\n",
    "9) full"
   ]
  },
  {
   "cell_type": "markdown",
   "id": "eb50fcb8",
   "metadata": {},
   "source": [
    "## 17) arange"
   ]
  },
  {
   "cell_type": "code",
   "execution_count": 1,
   "id": "82631291",
   "metadata": {},
   "outputs": [
    {
     "name": "stdout",
     "output_type": "stream",
     "text": [
      "2\n",
      "3\n",
      "4\n",
      "5\n",
      "6\n",
      "7\n",
      "8\n",
      "9\n"
     ]
    }
   ],
   "source": [
    "for i in range(2,10):\n",
    "    print(i)"
   ]
  },
  {
   "cell_type": "code",
   "execution_count": 10,
   "id": "256bc49b",
   "metadata": {},
   "outputs": [],
   "source": [
    "import numpy as  np"
   ]
  },
  {
   "cell_type": "code",
   "execution_count": 3,
   "id": "f947dfd9",
   "metadata": {},
   "outputs": [
    {
     "name": "stdout",
     "output_type": "stream",
     "text": [
      "2\n",
      "3\n",
      "4\n",
      "5\n",
      "6\n",
      "7\n",
      "8\n",
      "9\n"
     ]
    }
   ],
   "source": [
    "for i in np.arange(2,10):\n",
    "    print(i)"
   ]
  },
  {
   "cell_type": "code",
   "execution_count": 4,
   "id": "a0207412",
   "metadata": {},
   "outputs": [
    {
     "name": "stdout",
     "output_type": "stream",
     "text": [
      "2\n",
      "4\n",
      "6\n",
      "8\n"
     ]
    }
   ],
   "source": [
    "for i in np.arange(2,10,2):\n",
    "    print(i)"
   ]
  },
  {
   "cell_type": "markdown",
   "id": "ff2556a2",
   "metadata": {},
   "source": [
    "## 18) around()"
   ]
  },
  {
   "cell_type": "code",
   "execution_count": 5,
   "id": "1173feeb",
   "metadata": {},
   "outputs": [
    {
     "data": {
      "text/plain": [
       "2"
      ]
     },
     "execution_count": 5,
     "metadata": {},
     "output_type": "execute_result"
    }
   ],
   "source": [
    "round(2.455)"
   ]
  },
  {
   "cell_type": "code",
   "execution_count": 6,
   "id": "f4e08b1c",
   "metadata": {},
   "outputs": [
    {
     "data": {
      "text/plain": [
       "2.0"
      ]
     },
     "execution_count": 6,
     "metadata": {},
     "output_type": "execute_result"
    }
   ],
   "source": [
    "np.around(2.4555)"
   ]
  },
  {
   "cell_type": "code",
   "execution_count": 7,
   "id": "85bde481",
   "metadata": {},
   "outputs": [
    {
     "data": {
      "text/plain": [
       "(2.46, 2.46)"
      ]
     },
     "execution_count": 7,
     "metadata": {},
     "output_type": "execute_result"
    }
   ],
   "source": [
    "round(2.455,2),np.around(2.4555,2)"
   ]
  },
  {
   "cell_type": "code",
   "execution_count": 11,
   "id": "3c8ff0d5",
   "metadata": {},
   "outputs": [
    {
     "data": {
      "text/plain": [
       "(2, 2)"
      ]
     },
     "execution_count": 11,
     "metadata": {},
     "output_type": "execute_result"
    }
   ],
   "source": [
    "array = np.array([[1.255,5.666],[7.889,6.666]])\n",
    "array.shape"
   ]
  },
  {
   "cell_type": "code",
   "execution_count": 13,
   "id": "deb1493f",
   "metadata": {},
   "outputs": [
    {
     "data": {
      "text/plain": [
       "[[1.25, 5.67], [7.89, 6.67]]"
      ]
     },
     "execution_count": 13,
     "metadata": {},
     "output_type": "execute_result"
    }
   ],
   "source": [
    "np.around(array,2).tolist()"
   ]
  },
  {
   "cell_type": "markdown",
   "id": "e154fab6",
   "metadata": {},
   "source": [
    "## 19) linspace"
   ]
  },
  {
   "cell_type": "code",
   "execution_count": null,
   "id": "d4e86446",
   "metadata": {},
   "outputs": [],
   "source": [
    "np.linspace(start,end,num=50)\n",
    "It returns evenly spaced values"
   ]
  },
  {
   "cell_type": "code",
   "execution_count": 14,
   "id": "2f370220",
   "metadata": {},
   "outputs": [
    {
     "data": {
      "text/plain": [
       "array([ 1.,  2.,  3.,  4.,  5.,  6.,  7.,  8.,  9., 10., 11., 12., 13.,\n",
       "       14., 15., 16., 17., 18., 19., 20., 21., 22., 23., 24., 25., 26.,\n",
       "       27., 28., 29., 30., 31., 32., 33., 34., 35., 36., 37., 38., 39.,\n",
       "       40., 41., 42., 43., 44., 45., 46., 47., 48., 49., 50.])"
      ]
     },
     "execution_count": 14,
     "metadata": {},
     "output_type": "execute_result"
    }
   ],
   "source": [
    "np.linspace(1,50) # 2 4 6 8 10 "
   ]
  },
  {
   "cell_type": "code",
   "execution_count": 15,
   "id": "1ff03e95",
   "metadata": {},
   "outputs": [
    {
     "data": {
      "text/plain": [
       "array([ 1.        ,  3.04166667,  5.08333333,  7.125     ,  9.16666667,\n",
       "       11.20833333, 13.25      , 15.29166667, 17.33333333, 19.375     ,\n",
       "       21.41666667, 23.45833333, 25.5       , 27.54166667, 29.58333333,\n",
       "       31.625     , 33.66666667, 35.70833333, 37.75      , 39.79166667,\n",
       "       41.83333333, 43.875     , 45.91666667, 47.95833333, 50.        ])"
      ]
     },
     "execution_count": 15,
     "metadata": {},
     "output_type": "execute_result"
    }
   ],
   "source": [
    "np.linspace(1,50,num=25) # 2 4 6 8 10 "
   ]
  },
  {
   "cell_type": "code",
   "execution_count": 16,
   "id": "dccc3cef",
   "metadata": {},
   "outputs": [
    {
     "data": {
      "text/plain": [
       "25"
      ]
     },
     "execution_count": 16,
     "metadata": {},
     "output_type": "execute_result"
    }
   ],
   "source": [
    "len(np.linspace(1,50,num=25))"
   ]
  },
  {
   "cell_type": "code",
   "execution_count": 17,
   "id": "67364a52",
   "metadata": {},
   "outputs": [
    {
     "data": {
      "text/plain": [
       "array([ 1.        ,  6.44444444, 11.88888889, 17.33333333, 22.77777778,\n",
       "       28.22222222, 33.66666667, 39.11111111, 44.55555556, 50.        ])"
      ]
     },
     "execution_count": 17,
     "metadata": {},
     "output_type": "execute_result"
    }
   ],
   "source": [
    "np.linspace(1,50,num=10) # 2 4 6 8 10 "
   ]
  },
  {
   "cell_type": "code",
   "execution_count": 18,
   "id": "5294b004",
   "metadata": {},
   "outputs": [
    {
     "data": {
      "text/plain": [
       "(array([ 1.        ,  6.44444444, 11.88888889, 17.33333333, 22.77777778,\n",
       "        28.22222222, 33.66666667, 39.11111111, 44.55555556, 50.        ]),\n",
       " 5.444444444444445)"
      ]
     },
     "execution_count": 18,
     "metadata": {},
     "output_type": "execute_result"
    }
   ],
   "source": [
    "np.linspace(1,50,num=10,retstep=True) "
   ]
  },
  {
   "cell_type": "code",
   "execution_count": 19,
   "id": "0d9e0e0c",
   "metadata": {},
   "outputs": [
    {
     "data": {
      "text/plain": [
       "5.444444444444445"
      ]
     },
     "execution_count": 19,
     "metadata": {},
     "output_type": "execute_result"
    }
   ],
   "source": [
    "49/9"
   ]
  },
  {
   "cell_type": "code",
   "execution_count": 21,
   "id": "1be7df84",
   "metadata": {},
   "outputs": [
    {
     "data": {
      "text/plain": [
       "(array([ 2.        ,  2.88888889,  3.77777778,  4.66666667,  5.55555556,\n",
       "         6.44444444,  7.33333333,  8.22222222,  9.11111111, 10.        ]),\n",
       " 0.8888888888888888)"
      ]
     },
     "execution_count": 21,
     "metadata": {},
     "output_type": "execute_result"
    }
   ],
   "source": [
    "np.linspace(2,10,num=10,retstep=True) "
   ]
  },
  {
   "cell_type": "code",
   "execution_count": 20,
   "id": "a43c5dab",
   "metadata": {},
   "outputs": [
    {
     "data": {
      "text/plain": [
       "0.8888888888888888"
      ]
     },
     "execution_count": 20,
     "metadata": {},
     "output_type": "execute_result"
    }
   ],
   "source": [
    "8/9"
   ]
  },
  {
   "cell_type": "markdown",
   "id": "ba7af9f5",
   "metadata": {},
   "source": [
    "## 20) eye"
   ]
  },
  {
   "cell_type": "code",
   "execution_count": 23,
   "id": "2a632700",
   "metadata": {},
   "outputs": [
    {
     "data": {
      "text/plain": [
       "array([[1., 0., 0.],\n",
       "       [0., 1., 0.],\n",
       "       [0., 0., 1.]])"
      ]
     },
     "execution_count": 23,
     "metadata": {},
     "output_type": "execute_result"
    }
   ],
   "source": [
    "arr1 = np.eye(3,dtype=float) # default value dtype=Float\n",
    "arr1"
   ]
  },
  {
   "cell_type": "code",
   "execution_count": 24,
   "id": "27b68d5e",
   "metadata": {},
   "outputs": [
    {
     "data": {
      "text/plain": [
       "array([[1, 0, 0],\n",
       "       [0, 1, 0],\n",
       "       [0, 0, 1]])"
      ]
     },
     "execution_count": 24,
     "metadata": {},
     "output_type": "execute_result"
    }
   ],
   "source": [
    "arr1 = np.eye(3,dtype=int) # default value dtype=Float\n",
    "arr1"
   ]
  },
  {
   "cell_type": "code",
   "execution_count": 25,
   "id": "062efc41",
   "metadata": {},
   "outputs": [
    {
     "data": {
      "text/plain": [
       "array([[1, 0, 0, 0, 0],\n",
       "       [0, 1, 0, 0, 0],\n",
       "       [0, 0, 1, 0, 0],\n",
       "       [0, 0, 0, 1, 0],\n",
       "       [0, 0, 0, 0, 1]])"
      ]
     },
     "execution_count": 25,
     "metadata": {},
     "output_type": "execute_result"
    }
   ],
   "source": [
    "arr1 = np.eye(5,dtype=int) # default value dtype=Float\n",
    "arr1"
   ]
  },
  {
   "cell_type": "code",
   "execution_count": 26,
   "id": "5025a9a9",
   "metadata": {},
   "outputs": [
    {
     "data": {
      "text/plain": [
       "array([[1, 0, 0, 0, 0],\n",
       "       [0, 1, 0, 0, 0]])"
      ]
     },
     "execution_count": 26,
     "metadata": {},
     "output_type": "execute_result"
    }
   ],
   "source": [
    "arr1 = np.eye(2,5,dtype=int) # default value dtype=Float\n",
    "arr1"
   ]
  },
  {
   "cell_type": "markdown",
   "id": "4a94c84e",
   "metadata": {},
   "source": [
    "## 21) identity"
   ]
  },
  {
   "cell_type": "code",
   "execution_count": 27,
   "id": "d1984f44",
   "metadata": {},
   "outputs": [
    {
     "data": {
      "text/plain": [
       "array([[1, 0, 0, 0],\n",
       "       [0, 1, 0, 0],\n",
       "       [0, 0, 1, 0],\n",
       "       [0, 0, 0, 1]])"
      ]
     },
     "execution_count": 27,
     "metadata": {},
     "output_type": "execute_result"
    }
   ],
   "source": [
    "np.identity(4,dtype=int)"
   ]
  },
  {
   "cell_type": "code",
   "execution_count": 28,
   "id": "ddcc40e1",
   "metadata": {},
   "outputs": [
    {
     "ename": "TypeError",
     "evalue": "identity() got multiple values for argument 'dtype'",
     "output_type": "error",
     "traceback": [
      "\u001b[1;31m---------------------------------------------------------------------------\u001b[0m",
      "\u001b[1;31mTypeError\u001b[0m                                 Traceback (most recent call last)",
      "\u001b[1;32m~\\AppData\\Local\\Temp/ipykernel_5408/2102629848.py\u001b[0m in \u001b[0;36m<module>\u001b[1;34m\u001b[0m\n\u001b[1;32m----> 1\u001b[1;33m \u001b[0mnp\u001b[0m\u001b[1;33m.\u001b[0m\u001b[0midentity\u001b[0m\u001b[1;33m(\u001b[0m\u001b[1;36m2\u001b[0m\u001b[1;33m,\u001b[0m\u001b[1;36m4\u001b[0m\u001b[1;33m,\u001b[0m\u001b[0mdtype\u001b[0m\u001b[1;33m=\u001b[0m\u001b[0mint\u001b[0m\u001b[1;33m)\u001b[0m\u001b[1;33m\u001b[0m\u001b[1;33m\u001b[0m\u001b[0m\n\u001b[0m",
      "\u001b[1;31mTypeError\u001b[0m: identity() got multiple values for argument 'dtype'"
     ]
    }
   ],
   "source": [
    "np.identity(2,4,dtype=int)"
   ]
  },
  {
   "cell_type": "markdown",
   "id": "aba3a3fc",
   "metadata": {},
   "source": [
    "## 22) random"
   ]
  },
  {
   "cell_type": "code",
   "execution_count": null,
   "id": "7074ef4e",
   "metadata": {},
   "outputs": [],
   "source": [
    "Used to generate random number"
   ]
  },
  {
   "cell_type": "code",
   "execution_count": null,
   "id": "0b713dae",
   "metadata": {},
   "outputs": [],
   "source": [
    "random :\n",
    "    1. random.rand\n",
    "    2. random.randint\n",
    "    3. random.randn\n",
    "    4. random.ranf"
   ]
  },
  {
   "cell_type": "markdown",
   "id": "646ee156",
   "metadata": {},
   "source": [
    "## 22.1) random.rand"
   ]
  },
  {
   "cell_type": "code",
   "execution_count": null,
   "id": "e566b12b",
   "metadata": {},
   "outputs": [],
   "source": [
    "it returns values between 0 to 1  # "
   ]
  },
  {
   "cell_type": "code",
   "execution_count": 31,
   "id": "e380af5f",
   "metadata": {},
   "outputs": [
    {
     "data": {
      "text/plain": [
       "array([0.56409864, 0.2287096 , 0.25964233, 0.09155325, 0.14033893])"
      ]
     },
     "execution_count": 31,
     "metadata": {},
     "output_type": "execute_result"
    }
   ],
   "source": [
    "array = np.random.rand(5)\n",
    "array"
   ]
  },
  {
   "cell_type": "code",
   "execution_count": 32,
   "id": "88358bc3",
   "metadata": {},
   "outputs": [
    {
     "data": {
      "text/plain": [
       "array([0.31254534, 0.20107208, 0.51630986, 0.69129296, 0.88753544,\n",
       "       0.72961513, 0.87337673, 0.54104357, 0.11923508, 0.20416842])"
      ]
     },
     "execution_count": 32,
     "metadata": {},
     "output_type": "execute_result"
    }
   ],
   "source": [
    "array = np.random.rand(10) # 1D array\n",
    "array"
   ]
  },
  {
   "cell_type": "code",
   "execution_count": 33,
   "id": "5fe4619c",
   "metadata": {},
   "outputs": [
    {
     "data": {
      "text/plain": [
       "array([[0.88011939, 0.61131471, 0.78823666, 0.85533059, 0.08920837],\n",
       "       [0.4879115 , 0.15805456, 0.54731418, 0.34770954, 0.39567856]])"
      ]
     },
     "execution_count": 33,
     "metadata": {},
     "output_type": "execute_result"
    }
   ],
   "source": [
    "array = np.random.rand(2,5) # 2D\n",
    "array"
   ]
  },
  {
   "cell_type": "markdown",
   "id": "df770cdc",
   "metadata": {},
   "source": [
    "## 22.2)  random.randint"
   ]
  },
  {
   "cell_type": "code",
   "execution_count": null,
   "id": "2c780a29",
   "metadata": {},
   "outputs": [],
   "source": [
    "Used to gernerate random int number"
   ]
  },
  {
   "cell_type": "code",
   "execution_count": null,
   "id": "dfb6d89d",
   "metadata": {},
   "outputs": [],
   "source": [
    "np.random.randint(start_value,end_value,size=1)"
   ]
  },
  {
   "cell_type": "code",
   "execution_count": 38,
   "id": "800bdc33",
   "metadata": {},
   "outputs": [
    {
     "data": {
      "text/plain": [
       "array([69])"
      ]
     },
     "execution_count": 38,
     "metadata": {},
     "output_type": "execute_result"
    }
   ],
   "source": [
    "np.random.randint(10,100,size=1)"
   ]
  },
  {
   "cell_type": "code",
   "execution_count": 39,
   "id": "2970a2ce",
   "metadata": {},
   "outputs": [
    {
     "data": {
      "text/plain": [
       "array([38, 41, 14, 46, 93])"
      ]
     },
     "execution_count": 39,
     "metadata": {},
     "output_type": "execute_result"
    }
   ],
   "source": [
    "np.random.randint(10,100,size=5)"
   ]
  },
  {
   "cell_type": "code",
   "execution_count": 40,
   "id": "f2117c34",
   "metadata": {},
   "outputs": [
    {
     "data": {
      "text/plain": [
       "array([97, 88, 83, 12, 48, 53, 60, 70, 36, 22])"
      ]
     },
     "execution_count": 40,
     "metadata": {},
     "output_type": "execute_result"
    }
   ],
   "source": [
    "np.random.randint(10,100,size=10)# 1D ARRAY"
   ]
  },
  {
   "cell_type": "code",
   "execution_count": 42,
   "id": "e0317cd3",
   "metadata": {},
   "outputs": [
    {
     "data": {
      "text/plain": [
       "array([[63, 86, 46, 64, 61, 11, 10, 23, 24, 47],\n",
       "       [81, 18, 89, 48, 13, 28, 39, 97, 75, 24],\n",
       "       [53, 12, 47, 77, 26, 35, 45, 55, 98, 17]])"
      ]
     },
     "execution_count": 42,
     "metadata": {},
     "output_type": "execute_result"
    }
   ],
   "source": [
    "np.random.randint(10,100,size=(3,10))# 2D ARRAY"
   ]
  },
  {
   "cell_type": "code",
   "execution_count": 43,
   "id": "ff533673",
   "metadata": {},
   "outputs": [
    {
     "data": {
      "text/plain": [
       "array([[78, 70, 29],\n",
       "       [10, 94, 97],\n",
       "       [33, 74, 28],\n",
       "       [26, 66, 39]])"
      ]
     },
     "execution_count": 43,
     "metadata": {},
     "output_type": "execute_result"
    }
   ],
   "source": [
    "np.random.randint(10,100,size=(4,3))# 2D ARRAY"
   ]
  },
  {
   "cell_type": "markdown",
   "id": "847dd9f3",
   "metadata": {},
   "source": [
    "## 22.3) random.randn"
   ]
  },
  {
   "cell_type": "code",
   "execution_count": null,
   "id": "60f63569",
   "metadata": {},
   "outputs": [],
   "source": [
    "It return samples values from normally distributed data"
   ]
  },
  {
   "cell_type": "code",
   "execution_count": 47,
   "id": "d96b8899",
   "metadata": {},
   "outputs": [
    {
     "data": {
      "text/plain": [
       "array([-0.96801818, -0.28890721,  0.53369685, -1.29228704,  0.12967228,\n",
       "        1.94062548, -2.31424359,  2.11146117,  0.94106137, -0.52605481])"
      ]
     },
     "execution_count": 47,
     "metadata": {},
     "output_type": "execute_result"
    }
   ],
   "source": [
    "arr = np.random.randn(10)\n",
    "arr"
   ]
  },
  {
   "cell_type": "code",
   "execution_count": 45,
   "id": "59a0114a",
   "metadata": {},
   "outputs": [],
   "source": [
    "import seaborn as sns"
   ]
  },
  {
   "cell_type": "code",
   "execution_count": 48,
   "id": "c47deafc",
   "metadata": {},
   "outputs": [
    {
     "data": {
      "text/plain": [
       "<AxesSubplot:ylabel='Density'>"
      ]
     },
     "execution_count": 48,
     "metadata": {},
     "output_type": "execute_result"
    },
    {
     "data": {
      "image/png": "[encoded data removed]",
      "text/plain": [
       "<Figure size 432x288 with 1 Axes>"
      ]
     },
     "metadata": {
      "needs_background": "light"
     },
     "output_type": "display_data"
    }
   ],
   "source": [
    "sns.kdeplot(arr)"
   ]
  },
  {
   "cell_type": "markdown",
   "id": "98f99ffa",
   "metadata": {},
   "source": [
    "## 22.4 random.ranf"
   ]
  },
  {
   "cell_type": "code",
   "execution_count": null,
   "id": "164aa4f5",
   "metadata": {},
   "outputs": [],
   "source": [
    "it return values in 0 to 1"
   ]
  },
  {
   "cell_type": "code",
   "execution_count": 49,
   "id": "317b8a5d",
   "metadata": {},
   "outputs": [
    {
     "data": {
      "text/plain": [
       "array([0.76788649, 0.73194554, 0.29509144, 0.40500391, 0.06172237,\n",
       "       0.88109481, 0.347687  , 0.45183401, 0.75513561, 0.32024622])"
      ]
     },
     "execution_count": 49,
     "metadata": {},
     "output_type": "execute_result"
    }
   ],
   "source": [
    "np.random.rand(10)"
   ]
  },
  {
   "cell_type": "code",
   "execution_count": 50,
   "id": "ab9d5177",
   "metadata": {},
   "outputs": [
    {
     "data": {
      "text/plain": [
       "array([0.07357597, 0.18003245, 0.24236539, 0.6604094 , 0.34609437,\n",
       "       0.28856111, 0.07209564, 0.67787211, 0.93808555, 0.92338101])"
      ]
     },
     "execution_count": 50,
     "metadata": {},
     "output_type": "execute_result"
    }
   ],
   "source": [
    "np.random.ranf(10)"
   ]
  },
  {
   "cell_type": "code",
   "execution_count": 52,
   "id": "d28b63c9",
   "metadata": {},
   "outputs": [],
   "source": [
    "import pandas as pd"
   ]
  },
  {
   "cell_type": "code",
   "execution_count": 54,
   "id": "c14b80e6",
   "metadata": {},
   "outputs": [
    {
     "data": {
      "text/plain": [
       "array([[ 2, 29, 22, 11, 29],\n",
       "       [12, 21, 23,  5,  6],\n",
       "       [29, 29,  3, 24, 25],\n",
       "       [ 5, 16,  4,  7,  3]])"
      ]
     },
     "execution_count": 54,
     "metadata": {},
     "output_type": "execute_result"
    }
   ],
   "source": [
    "arr = np.random.randint(2,30,size=(4,5))\n",
    "arr"
   ]
  },
  {
   "cell_type": "code",
   "execution_count": 55,
   "id": "67b0a20e",
   "metadata": {},
   "outputs": [
    {
     "data": {
      "text/html": [
       "<div>\n",
       "<style scoped>\n",
       "    .dataframe tbody tr th:only-of-type {\n",
       "        vertical-align: middle;\n",
       "    }\n",
       "\n",
       "    .dataframe tbody tr th {\n",
       "        vertical-align: top;\n",
       "    }\n",
       "\n",
       "    .dataframe thead th {\n",
       "        text-align: right;\n",
       "    }\n",
       "</style>\n",
       "<table border=\"1\" class=\"dataframe\">\n",
       "  <thead>\n",
       "    <tr style=\"text-align: right;\">\n",
       "      <th></th>\n",
       "      <th>0</th>\n",
       "      <th>1</th>\n",
       "      <th>2</th>\n",
       "      <th>3</th>\n",
       "      <th>4</th>\n",
       "    </tr>\n",
       "  </thead>\n",
       "  <tbody>\n",
       "    <tr>\n",
       "      <th>0</th>\n",
       "      <td>2</td>\n",
       "      <td>29</td>\n",
       "      <td>22</td>\n",
       "      <td>11</td>\n",
       "      <td>29</td>\n",
       "    </tr>\n",
       "    <tr>\n",
       "      <th>1</th>\n",
       "      <td>12</td>\n",
       "      <td>21</td>\n",
       "      <td>23</td>\n",
       "      <td>5</td>\n",
       "      <td>6</td>\n",
       "    </tr>\n",
       "    <tr>\n",
       "      <th>2</th>\n",
       "      <td>29</td>\n",
       "      <td>29</td>\n",
       "      <td>3</td>\n",
       "      <td>24</td>\n",
       "      <td>25</td>\n",
       "    </tr>\n",
       "    <tr>\n",
       "      <th>3</th>\n",
       "      <td>5</td>\n",
       "      <td>16</td>\n",
       "      <td>4</td>\n",
       "      <td>7</td>\n",
       "      <td>3</td>\n",
       "    </tr>\n",
       "  </tbody>\n",
       "</table>\n",
       "</div>"
      ],
      "text/plain": [
       "    0   1   2   3   4\n",
       "0   2  29  22  11  29\n",
       "1  12  21  23   5   6\n",
       "2  29  29   3  24  25\n",
       "3   5  16   4   7   3"
      ]
     },
     "execution_count": 55,
     "metadata": {},
     "output_type": "execute_result"
    }
   ],
   "source": [
    "pd.DataFrame(arr)"
   ]
  },
  {
   "cell_type": "code",
   "execution_count": 57,
   "id": "144048fc",
   "metadata": {},
   "outputs": [
    {
     "data": {
      "text/html": [
       "<div>\n",
       "<style scoped>\n",
       "    .dataframe tbody tr th:only-of-type {\n",
       "        vertical-align: middle;\n",
       "    }\n",
       "\n",
       "    .dataframe tbody tr th {\n",
       "        vertical-align: top;\n",
       "    }\n",
       "\n",
       "    .dataframe thead th {\n",
       "        text-align: right;\n",
       "    }\n",
       "</style>\n",
       "<table border=\"1\" class=\"dataframe\">\n",
       "  <thead>\n",
       "    <tr style=\"text-align: right;\">\n",
       "      <th></th>\n",
       "      <th>Zeros</th>\n",
       "      <th>Ones</th>\n",
       "      <th>arange</th>\n",
       "      <th>Linspace</th>\n",
       "      <th>randint</th>\n",
       "      <th>Full</th>\n",
       "    </tr>\n",
       "  </thead>\n",
       "  <tbody>\n",
       "    <tr>\n",
       "      <th>0</th>\n",
       "      <td>0</td>\n",
       "      <td>1</td>\n",
       "      <td>10</td>\n",
       "      <td>10.000000</td>\n",
       "      <td>88</td>\n",
       "      <td>4</td>\n",
       "    </tr>\n",
       "    <tr>\n",
       "      <th>1</th>\n",
       "      <td>0</td>\n",
       "      <td>1</td>\n",
       "      <td>11</td>\n",
       "      <td>11.111111</td>\n",
       "      <td>50</td>\n",
       "      <td>4</td>\n",
       "    </tr>\n",
       "    <tr>\n",
       "      <th>2</th>\n",
       "      <td>0</td>\n",
       "      <td>1</td>\n",
       "      <td>12</td>\n",
       "      <td>12.222222</td>\n",
       "      <td>40</td>\n",
       "      <td>4</td>\n",
       "    </tr>\n",
       "    <tr>\n",
       "      <th>3</th>\n",
       "      <td>0</td>\n",
       "      <td>1</td>\n",
       "      <td>13</td>\n",
       "      <td>13.333333</td>\n",
       "      <td>91</td>\n",
       "      <td>4</td>\n",
       "    </tr>\n",
       "    <tr>\n",
       "      <th>4</th>\n",
       "      <td>0</td>\n",
       "      <td>1</td>\n",
       "      <td>14</td>\n",
       "      <td>14.444444</td>\n",
       "      <td>98</td>\n",
       "      <td>4</td>\n",
       "    </tr>\n",
       "    <tr>\n",
       "      <th>5</th>\n",
       "      <td>0</td>\n",
       "      <td>1</td>\n",
       "      <td>15</td>\n",
       "      <td>15.555556</td>\n",
       "      <td>57</td>\n",
       "      <td>4</td>\n",
       "    </tr>\n",
       "    <tr>\n",
       "      <th>6</th>\n",
       "      <td>0</td>\n",
       "      <td>1</td>\n",
       "      <td>16</td>\n",
       "      <td>16.666667</td>\n",
       "      <td>43</td>\n",
       "      <td>4</td>\n",
       "    </tr>\n",
       "    <tr>\n",
       "      <th>7</th>\n",
       "      <td>0</td>\n",
       "      <td>1</td>\n",
       "      <td>17</td>\n",
       "      <td>17.777778</td>\n",
       "      <td>84</td>\n",
       "      <td>4</td>\n",
       "    </tr>\n",
       "    <tr>\n",
       "      <th>8</th>\n",
       "      <td>0</td>\n",
       "      <td>1</td>\n",
       "      <td>18</td>\n",
       "      <td>18.888889</td>\n",
       "      <td>53</td>\n",
       "      <td>4</td>\n",
       "    </tr>\n",
       "    <tr>\n",
       "      <th>9</th>\n",
       "      <td>0</td>\n",
       "      <td>1</td>\n",
       "      <td>19</td>\n",
       "      <td>20.000000</td>\n",
       "      <td>44</td>\n",
       "      <td>4</td>\n",
       "    </tr>\n",
       "  </tbody>\n",
       "</table>\n",
       "</div>"
      ],
      "text/plain": [
       "   Zeros  Ones  arange   Linspace  randint  Full\n",
       "0      0     1      10  10.000000       88     4\n",
       "1      0     1      11  11.111111       50     4\n",
       "2      0     1      12  12.222222       40     4\n",
       "3      0     1      13  13.333333       91     4\n",
       "4      0     1      14  14.444444       98     4\n",
       "5      0     1      15  15.555556       57     4\n",
       "6      0     1      16  16.666667       43     4\n",
       "7      0     1      17  17.777778       84     4\n",
       "8      0     1      18  18.888889       53     4\n",
       "9      0     1      19  20.000000       44     4"
      ]
     },
     "execution_count": 57,
     "metadata": {},
     "output_type": "execute_result"
    }
   ],
   "source": [
    "dict1 = {\"Zeros\"   :np.zeros(10,dtype=int),\n",
    "         \"Ones\"    :np.ones(10,dtype=int),\n",
    "         \"arange\"  :np.arange(10,20),\n",
    "         \"Linspace\":np.linspace(10,20,num=10),\n",
    "         \"randint\" :np.random.randint(40,100,size=10),\n",
    "         \"Full\"    :np.full(10,4)}\n",
    "pd.DataFrame(dict1)"
   ]
  },
  {
   "cell_type": "markdown",
   "id": "e1e885fc",
   "metadata": {},
   "source": [
    "## 23) np.append()"
   ]
  },
  {
   "cell_type": "code",
   "execution_count": null,
   "id": "f14eed10",
   "metadata": {},
   "outputs": [],
   "source": [
    "Syntax :\n",
    "    np.append(array_old,value(array_new),axis=None)\n",
    "axis= None # fattened the array\n",
    "axis=0 # rows\n",
    "axis=1 # column\n",
    "append # it return an array with a new array"
   ]
  },
  {
   "cell_type": "code",
   "execution_count": 58,
   "id": "8d5748ce",
   "metadata": {},
   "outputs": [
    {
     "data": {
      "text/plain": [
       "array([ 1,  2,  3, 40,  5, 67,  8,  9])"
      ]
     },
     "execution_count": 58,
     "metadata": {},
     "output_type": "execute_result"
    }
   ],
   "source": [
    "arr1 = np.array([1,2,3,40])\n",
    "arr2 = np.array([5,67,8,9])\n",
    "np.append(arr1,arr2,axis=None)"
   ]
  },
  {
   "cell_type": "code",
   "execution_count": 59,
   "id": "b2c8633f",
   "metadata": {},
   "outputs": [
    {
     "data": {
      "text/plain": [
       "array([  1,   2,   3,  40, 100])"
      ]
     },
     "execution_count": 59,
     "metadata": {},
     "output_type": "execute_result"
    }
   ],
   "source": [
    "arr1 = np.array([1,2,3,40])\n",
    "arr2 = np.array([5,67,8,9])\n",
    "np.append(arr1,100,axis=None)"
   ]
  },
  {
   "cell_type": "code",
   "execution_count": null,
   "id": "d31f36be",
   "metadata": {},
   "outputs": [],
   "source": [
    "# 2D"
   ]
  },
  {
   "cell_type": "code",
   "execution_count": 61,
   "id": "808abcf3",
   "metadata": {},
   "outputs": [
    {
     "name": "stdout",
     "output_type": "stream",
     "text": [
      "Array1\n",
      " [[1 4]\n",
      " [5 6]]\n",
      "Array2\n",
      " [[10 20]\n",
      " [11 13]]\n"
     ]
    }
   ],
   "source": [
    "arr1 = np.array([[1,4],[5,6]])\n",
    "arr2 = np.array([[10,20],[11,13]])\n",
    "print(\"Array1\\n\",arr1)\n",
    "print(\"Array2\\n\",arr2)"
   ]
  },
  {
   "cell_type": "code",
   "execution_count": 62,
   "id": "bcd1eedd",
   "metadata": {},
   "outputs": [
    {
     "data": {
      "text/plain": [
       "array([ 1,  4,  5,  6, 10, 20, 11, 13])"
      ]
     },
     "execution_count": 62,
     "metadata": {},
     "output_type": "execute_result"
    }
   ],
   "source": [
    "np.append(arr1,arr2) # if axis=None the flattend"
   ]
  },
  {
   "cell_type": "code",
   "execution_count": null,
   "id": "6c5dc39b",
   "metadata": {},
   "outputs": [],
   "source": [
    "row # axis=0\n",
    "[[1 4]\n",
    " [5 6]]\n",
    "[[10 20]\n",
    " [11 13]]\n",
    "col # axis=1\n",
    "[[1 4]  [[10 20]\n",
    " [5 6]] [11 13]]"
   ]
  },
  {
   "cell_type": "code",
   "execution_count": 63,
   "id": "01daf2cc",
   "metadata": {},
   "outputs": [
    {
     "data": {
      "text/plain": [
       "array([[ 1,  4],\n",
       "       [ 5,  6],\n",
       "       [10, 20],\n",
       "       [11, 13]])"
      ]
     },
     "execution_count": 63,
     "metadata": {},
     "output_type": "execute_result"
    }
   ],
   "source": [
    "np.append(arr1,arr2,axis=0) # if axis=0 rows"
   ]
  },
  {
   "cell_type": "code",
   "execution_count": 64,
   "id": "779f95d1",
   "metadata": {},
   "outputs": [
    {
     "data": {
      "text/plain": [
       "array([[ 1,  4, 10, 20],\n",
       "       [ 5,  6, 11, 13]])"
      ]
     },
     "execution_count": 64,
     "metadata": {},
     "output_type": "execute_result"
    }
   ],
   "source": [
    "np.append(arr1,arr2,axis=1) # if axis=0 rows"
   ]
  },
  {
   "cell_type": "markdown",
   "id": "4547087a",
   "metadata": {},
   "source": [
    "## 24) np.concatenate()"
   ]
  },
  {
   "cell_type": "code",
   "execution_count": null,
   "id": "cea8bf75",
   "metadata": {},
   "outputs": [],
   "source": [
    "To add multiple arrays\n",
    "Join  a sequence of arrays along the existing axis\n",
    "np.concatenate([arr1,arr2,arr3,arr4,.....arrN],axis=0)"
   ]
  },
  {
   "cell_type": "code",
   "execution_count": 65,
   "id": "6759a383",
   "metadata": {},
   "outputs": [
    {
     "data": {
      "text/plain": [
       "array([[  1,   4],\n",
       "       [  5,   6],\n",
       "       [ 10,  20],\n",
       "       [ 11,  13],\n",
       "       [144,  47],\n",
       "       [ 78,  95]])"
      ]
     },
     "execution_count": 65,
     "metadata": {},
     "output_type": "execute_result"
    }
   ],
   "source": [
    "arr1 = np.array([[1,4],[5,6]])\n",
    "arr2 = np.array([[10,20],[11,13]])\n",
    "arr3 = np.array([[144,47],[78,95]])\n",
    "np.concatenate([arr1,arr2,arr3]) # row wise joining of multiple arrays and default axis =0 (row)"
   ]
  },
  {
   "cell_type": "code",
   "execution_count": 66,
   "id": "ec385f5f",
   "metadata": {},
   "outputs": [
    {
     "data": {
      "text/plain": [
       "array([[  1,   4,  10,  20, 144,  47],\n",
       "       [  5,   6,  11,  13,  78,  95]])"
      ]
     },
     "execution_count": 66,
     "metadata": {},
     "output_type": "execute_result"
    }
   ],
   "source": [
    "arr1 = np.array([[1,4],[5,6]])  # 2x2\n",
    "arr2 = np.array([[10,20],[11,13]]) #2x2\n",
    "arr3 = np.array([[144,47],[78,95]]) # 2x2\n",
    "np.concatenate([arr1,arr2,arr3],axis=1) # column wise joining of multiple arrays"
   ]
  },
  {
   "cell_type": "code",
   "execution_count": 71,
   "id": "323ba704",
   "metadata": {},
   "outputs": [
    {
     "name": "stdout",
     "output_type": "stream",
     "text": [
      "[[10 20]\n",
      " [11 13]\n",
      " [11 13]]\n"
     ]
    },
    {
     "ename": "ValueError",
     "evalue": "all the input array dimensions for the concatenation axis must match exactly, but along dimension 0, the array at index 0 has size 2 and the array at index 1 has size 3",
     "output_type": "error",
     "traceback": [
      "\u001b[1;31m---------------------------------------------------------------------------\u001b[0m",
      "\u001b[1;31mValueError\u001b[0m                                Traceback (most recent call last)",
      "\u001b[1;32m~\\AppData\\Local\\Temp/ipykernel_5408/3105309454.py\u001b[0m in \u001b[0;36m<module>\u001b[1;34m\u001b[0m\n\u001b[0;32m      3\u001b[0m \u001b[0mprint\u001b[0m\u001b[1;33m(\u001b[0m\u001b[0marr2\u001b[0m\u001b[1;33m)\u001b[0m\u001b[1;33m\u001b[0m\u001b[1;33m\u001b[0m\u001b[0m\n\u001b[0;32m      4\u001b[0m \u001b[0marr3\u001b[0m \u001b[1;33m=\u001b[0m \u001b[0mnp\u001b[0m\u001b[1;33m.\u001b[0m\u001b[0marray\u001b[0m\u001b[1;33m(\u001b[0m\u001b[1;33m[\u001b[0m\u001b[1;33m[\u001b[0m\u001b[1;36m144\u001b[0m\u001b[1;33m,\u001b[0m\u001b[1;36m47\u001b[0m\u001b[1;33m]\u001b[0m\u001b[1;33m,\u001b[0m\u001b[1;33m[\u001b[0m\u001b[1;36m78\u001b[0m\u001b[1;33m,\u001b[0m\u001b[1;36m95\u001b[0m\u001b[1;33m]\u001b[0m\u001b[1;33m]\u001b[0m\u001b[1;33m)\u001b[0m \u001b[1;31m# 2x2\u001b[0m\u001b[1;33m\u001b[0m\u001b[1;33m\u001b[0m\u001b[0m\n\u001b[1;32m----> 5\u001b[1;33m \u001b[0mnp\u001b[0m\u001b[1;33m.\u001b[0m\u001b[0mconcatenate\u001b[0m\u001b[1;33m(\u001b[0m\u001b[1;33m[\u001b[0m\u001b[0marr1\u001b[0m\u001b[1;33m,\u001b[0m\u001b[0marr2\u001b[0m\u001b[1;33m,\u001b[0m\u001b[0marr3\u001b[0m\u001b[1;33m]\u001b[0m\u001b[1;33m,\u001b[0m\u001b[0maxis\u001b[0m\u001b[1;33m=\u001b[0m\u001b[1;36m1\u001b[0m\u001b[1;33m)\u001b[0m \u001b[1;31m# column wise joining of multiple arrays\u001b[0m\u001b[1;33m\u001b[0m\u001b[1;33m\u001b[0m\u001b[0m\n\u001b[0m",
      "\u001b[1;32m<__array_function__ internals>\u001b[0m in \u001b[0;36mconcatenate\u001b[1;34m(*args, **kwargs)\u001b[0m\n",
      "\u001b[1;31mValueError\u001b[0m: all the input array dimensions for the concatenation axis must match exactly, but along dimension 0, the array at index 0 has size 2 and the array at index 1 has size 3"
     ]
    }
   ],
   "source": [
    "arr1 = np.array([[1,4],[5,6]])  # 2x2\n",
    "arr2 = np.array([[10,20],[11,13],[11,13]]) #3x2\n",
    "print(arr2)\n",
    "arr3 = np.array([[144,47],[78,95]]) # 2x2\n",
    "np.concatenate([arr1,arr2,arr3],axis=1) # column wise joining of multiple arrays"
   ]
  },
  {
   "cell_type": "code",
   "execution_count": null,
   "id": "24d4e384",
   "metadata": {},
   "outputs": [],
   "source": []
  },
  {
   "cell_type": "markdown",
   "id": "0374f9dc",
   "metadata": {},
   "source": [
    "## 25) sort"
   ]
  },
  {
   "cell_type": "code",
   "execution_count": 73,
   "id": "d3269c12",
   "metadata": {},
   "outputs": [
    {
     "name": "stdout",
     "output_type": "stream",
     "text": [
      "[12 10 10 12 16 19 18 12 18 17]\n"
     ]
    },
    {
     "data": {
      "text/plain": [
       "array([10, 10, 12, 12, 12, 16, 17, 18, 18, 19])"
      ]
     },
     "execution_count": 73,
     "metadata": {},
     "output_type": "execute_result"
    }
   ],
   "source": [
    "arr = np.random.randint(10,20,size=10)\n",
    "print(arr)\n",
    "sort_array = np.sort(arr)\n",
    "sort_array # ascending array"
   ]
  },
  {
   "cell_type": "code",
   "execution_count": 74,
   "id": "f0064488",
   "metadata": {},
   "outputs": [
    {
     "name": "stdout",
     "output_type": "stream",
     "text": [
      "[10 13 10 19 16 13 12 10 11 16]\n"
     ]
    },
    {
     "data": {
      "text/plain": [
       "array([19, 16, 16, 13, 13, 12, 11, 10, 10, 10])"
      ]
     },
     "execution_count": 74,
     "metadata": {},
     "output_type": "execute_result"
    }
   ],
   "source": [
    "arr = np.random.randint(10,20,size=10)\n",
    "print(arr)\n",
    "sort_array = np.sort(arr)[::-1]\n",
    "sort_array # descending array"
   ]
  },
  {
   "cell_type": "code",
   "execution_count": 75,
   "id": "f730a63a",
   "metadata": {},
   "outputs": [
    {
     "name": "stdout",
     "output_type": "stream",
     "text": [
      "[12 15 13 11 13 14 12 13 15 18]\n"
     ]
    },
    {
     "data": {
      "text/plain": [
       "array([18, 15, 15, 14, 13, 13, 13, 12, 12, 11])"
      ]
     },
     "execution_count": 75,
     "metadata": {},
     "output_type": "execute_result"
    }
   ],
   "source": [
    "arr = np.random.randint(10,20,size=10)\n",
    "print(arr)\n",
    "sort_array = np.flip(np.sort(arr))\n",
    "sort_array # descending array"
   ]
  },
  {
   "cell_type": "code",
   "execution_count": null,
   "id": "933efa04",
   "metadata": {},
   "outputs": [],
   "source": [
    "# 2D"
   ]
  },
  {
   "cell_type": "code",
   "execution_count": 78,
   "id": "0278df82",
   "metadata": {},
   "outputs": [
    {
     "name": "stdout",
     "output_type": "stream",
     "text": [
      "Array\n",
      " [[ 1  2  5  3]\n",
      " [ 3 14  5  6]]\n"
     ]
    },
    {
     "data": {
      "text/plain": [
       "array([[ 1,  2,  3,  5],\n",
       "       [ 3,  5,  6, 14]])"
      ]
     },
     "execution_count": 78,
     "metadata": {},
     "output_type": "execute_result"
    }
   ],
   "source": [
    "arr = np.array([[1,2,5,3],\n",
    "               [3,14,5,6]])\n",
    "print(\"Array\\n\",arr)\n",
    "sort_array = np.sort(arr)\n",
    "sort_array # ascending order > rows wise"
   ]
  },
  {
   "cell_type": "code",
   "execution_count": 82,
   "id": "5920a27e",
   "metadata": {},
   "outputs": [
    {
     "name": "stdout",
     "output_type": "stream",
     "text": [
      "Array\n",
      " [[ 1  2  5  3]\n",
      " [ 3 14  5  6]]\n"
     ]
    },
    {
     "data": {
      "text/plain": [
       "array([[ 5,  3,  2,  1],\n",
       "       [14,  6,  5,  3]])"
      ]
     },
     "execution_count": 82,
     "metadata": {},
     "output_type": "execute_result"
    }
   ],
   "source": [
    "arr = np.array([[1,2,5,3],\n",
    "               [3,14,5,6]])\n",
    "print(\"Array\\n\",arr)\n",
    "sort_array = np.sort(arr)[::1,::-1]\n",
    "sort_array # descending order > rows wise"
   ]
  },
  {
   "cell_type": "code",
   "execution_count": null,
   "id": "fb9a0e22",
   "metadata": {},
   "outputs": [],
   "source": [
    "[[ 1  2  5  3 ]      >>>> \n",
    " [ 3 14  5  6]]\n",
    "\n",
    "[[ 5  3  2  1]\n",
    " [ 14 6  5  3]]"
   ]
  },
  {
   "cell_type": "code",
   "execution_count": 84,
   "id": "d7849f46",
   "metadata": {},
   "outputs": [
    {
     "name": "stdout",
     "output_type": "stream",
     "text": [
      "Array\n",
      " [[ 1  2  5  3]\n",
      " [ 3 14  5  6]]\n"
     ]
    },
    {
     "data": {
      "text/plain": [
       "array([[ 5,  3,  2,  1],\n",
       "       [14,  6,  5,  3]])"
      ]
     },
     "execution_count": 84,
     "metadata": {},
     "output_type": "execute_result"
    }
   ],
   "source": [
    "arr = np.array([[1,2,5,3],\n",
    "               [3,14,5,6]])\n",
    "print(\"Array\\n\",arr)\n",
    "sort_array = -np.sort(-arr)\n",
    "sort_array # descending order > rows wise"
   ]
  },
  {
   "cell_type": "code",
   "execution_count": 89,
   "id": "650b047e",
   "metadata": {},
   "outputs": [
    {
     "name": "stdout",
     "output_type": "stream",
     "text": [
      "Array\n",
      " [[11  2 15  3]\n",
      " [ 3 14  5  6]]\n"
     ]
    },
    {
     "data": {
      "text/plain": [
       "array([[ 3,  2,  5,  3],\n",
       "       [11, 14, 15,  6]])"
      ]
     },
     "execution_count": 89,
     "metadata": {},
     "output_type": "execute_result"
    }
   ],
   "source": [
    "arr = np.array([[11,2,15,3],\n",
    "               [3,14,5,6]])\n",
    "print(\"Array\\n\",arr)\n",
    "sort_array = np.sort(arr,axis=0)\n",
    "sort_array # Ascending order > col wise\n",
    "\n",
    "\n",
    "0 1 2 3 4 >> Ascending\n",
    "10 9 8 7 6 5 4 3 2 1 >> Descending"
   ]
  },
  {
   "cell_type": "code",
   "execution_count": 92,
   "id": "cf717831",
   "metadata": {},
   "outputs": [
    {
     "name": "stdout",
     "output_type": "stream",
     "text": [
      "Array\n",
      " [[11  2 15  3]\n",
      " [ 3 14  5  6]]\n"
     ]
    },
    {
     "data": {
      "text/plain": [
       "array([[11, 14, 15,  6],\n",
       "       [ 3,  2,  5,  3]])"
      ]
     },
     "execution_count": 92,
     "metadata": {},
     "output_type": "execute_result"
    }
   ],
   "source": [
    "arr = np.array([[11,2,15,3],\n",
    "               [3,14,5,6]])\n",
    "print(\"Array\\n\",arr)\n",
    "sort_array = -np.sort(-arr,axis=0)\n",
    "sort_array # descending order > col wise"
   ]
  },
  {
   "cell_type": "code",
   "execution_count": null,
   "id": "75652440",
   "metadata": {},
   "outputs": [],
   "source": []
  },
  {
   "cell_type": "code",
   "execution_count": null,
   "id": "ef3e32a7",
   "metadata": {},
   "outputs": [],
   "source": []
  },
  {
   "cell_type": "code",
   "execution_count": null,
   "id": "e035a114",
   "metadata": {},
   "outputs": [],
   "source": []
  },
  {
   "cell_type": "markdown",
   "id": "726d124a",
   "metadata": {},
   "source": [
    "## 26) np.flip"
   ]
  },
  {
   "cell_type": "code",
   "execution_count": 76,
   "id": "e6ac236d",
   "metadata": {},
   "outputs": [
    {
     "name": "stdout",
     "output_type": "stream",
     "text": [
      "[14 12 17 10 15 13 10 17 18 10]\n"
     ]
    },
    {
     "data": {
      "text/plain": [
       "array([18, 17, 17, 15, 14, 13, 12, 10, 10, 10])"
      ]
     },
     "execution_count": 76,
     "metadata": {},
     "output_type": "execute_result"
    }
   ],
   "source": [
    "arr = np.random.randint(10,20,size=10)\n",
    "print(arr)\n",
    "sort_array = np.flip(np.sort(arr))\n",
    "sort_array # descending array"
   ]
  },
  {
   "cell_type": "code",
   "execution_count": null,
   "id": "76430962",
   "metadata": {},
   "outputs": [],
   "source": []
  }
 ],
 "metadata": {
  "kernelspec": {
   "display_name": "Python 3 (ipykernel)",
   "language": "python",
   "name": "python3"
  },
  "language_info": {
   "codemirror_mode": {
    "name": "ipython",
    "version": 3
   },
   "file_extension": ".py",
   "mimetype": "text/x-python",
   "name": "python",
   "nbconvert_exporter": "python",
   "pygments_lexer": "ipython3",
   "version": "3.9.7"
  }
 },
 "nbformat": 4,
 "nbformat_minor": 5
}

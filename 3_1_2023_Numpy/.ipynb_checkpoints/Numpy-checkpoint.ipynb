{
 "cells": [
  {
   "cell_type": "code",
   "execution_count": null,
   "id": "81cd38dd",
   "metadata": {},
   "outputs": [],
   "source": [
    "1. 0D Array\n",
    "2. 1D Array\n",
    "3. 2D Array\n",
    "4. np.array()\n",
    "5. array.ndim\n",
    "6. array.shape\n",
    "7. array.tolist()\n",
    "8.slicing\n",
    "9. array.reshape\n",
    "10.np.nditer()\n",
    "11.np.ndenumerate()\n",
    "12.flatten\n",
    "13.np.ravel\n",
    "14.np.zeros()\n",
    "15.np.ones()\n",
    "16.np.full()"
   ]
  },
  {
   "cell_type": "code",
   "execution_count": 1,
   "id": "1979c2c7",
   "metadata": {},
   "outputs": [],
   "source": [
    "import numpy as np"
   ]
  },
  {
   "cell_type": "code",
   "execution_count": 2,
   "id": "d0b9afbe",
   "metadata": {},
   "outputs": [
    {
     "data": {
      "text/plain": [
       "array(['1', '2', '3', '4', '5', '6.6', '3'], dtype='<U32')"
      ]
     },
     "execution_count": 2,
     "metadata": {},
     "output_type": "execute_result"
    }
   ],
   "source": [
    "array = np.array([1,2,3,4,5,6.6,\"3\"])\n",
    "array"
   ]
  },
  {
   "cell_type": "code",
   "execution_count": 6,
   "id": "692d96f9",
   "metadata": {},
   "outputs": [
    {
     "data": {
      "text/plain": [
       "['3', '4', '5']"
      ]
     },
     "execution_count": 6,
     "metadata": {},
     "output_type": "execute_result"
    }
   ],
   "source": [
    "lst = ['1', '2', '3', '4', '5', '6.6', '3'] # [\"3\",\"4\",\"5\"]\n",
    "# lst[2:5]\n",
    "lst[-5:-2:1]\n",
    "lst[2:-2]"
   ]
  },
  {
   "cell_type": "markdown",
   "id": "f144b98f",
   "metadata": {},
   "source": [
    "## 1-D"
   ]
  },
  {
   "cell_type": "code",
   "execution_count": 7,
   "id": "bb2f8828",
   "metadata": {},
   "outputs": [
    {
     "data": {
      "text/plain": [
       "array(['1', '2', '3', '4', '5', '6.6', '3'], dtype='<U32')"
      ]
     },
     "execution_count": 7,
     "metadata": {},
     "output_type": "execute_result"
    }
   ],
   "source": [
    "array = np.array([1,2,3,4,5,6.6,\"3\"])\n",
    "array"
   ]
  },
  {
   "cell_type": "code",
   "execution_count": 8,
   "id": "4f4425f0",
   "metadata": {},
   "outputs": [
    {
     "data": {
      "text/plain": [
       "'3'"
      ]
     },
     "execution_count": 8,
     "metadata": {},
     "output_type": "execute_result"
    }
   ],
   "source": [
    "array[2]"
   ]
  },
  {
   "cell_type": "code",
   "execution_count": 9,
   "id": "02aca723",
   "metadata": {},
   "outputs": [
    {
     "data": {
      "text/plain": [
       "array(['3', '4', '5'], dtype='<U32')"
      ]
     },
     "execution_count": 9,
     "metadata": {},
     "output_type": "execute_result"
    }
   ],
   "source": [
    "array[2:-2]"
   ]
  },
  {
   "cell_type": "code",
   "execution_count": null,
   "id": "6848f2ad",
   "metadata": {},
   "outputs": [],
   "source": []
  },
  {
   "cell_type": "code",
   "execution_count": null,
   "id": "3d3fa059",
   "metadata": {},
   "outputs": [],
   "source": []
  },
  {
   "cell_type": "code",
   "execution_count": null,
   "id": "71ecf834",
   "metadata": {},
   "outputs": [],
   "source": []
  },
  {
   "cell_type": "code",
   "execution_count": null,
   "id": "a02cdace",
   "metadata": {},
   "outputs": [],
   "source": []
  },
  {
   "cell_type": "markdown",
   "id": "1aadd6b5",
   "metadata": {},
   "source": [
    "## 2-D"
   ]
  },
  {
   "cell_type": "code",
   "execution_count": 14,
   "id": "9aa5cea5",
   "metadata": {},
   "outputs": [
    {
     "name": "stdout",
     "output_type": "stream",
     "text": [
      "Dimension 2\n",
      "Shape (2, 3)\n",
      "\n",
      "[[2 3 4]\n",
      " [5 6 7]]\n"
     ]
    }
   ],
   "source": [
    "arr2 = np.array([[2,3,4],[5,6,7]])\n",
    "print(\"Dimension\",arr2.ndim)\n",
    "print(\"Shape\",arr2.shape)\n",
    "print()\n",
    "print(arr2)\n"
   ]
  },
  {
   "cell_type": "code",
   "execution_count": 17,
   "id": "5218d733",
   "metadata": {},
   "outputs": [
    {
     "data": {
      "text/plain": [
       "array([2, 3, 4])"
      ]
     },
     "execution_count": 17,
     "metadata": {},
     "output_type": "execute_result"
    }
   ],
   "source": [
    "arr2[0] # 1st row"
   ]
  },
  {
   "cell_type": "code",
   "execution_count": 18,
   "id": "bf3830b6",
   "metadata": {},
   "outputs": [
    {
     "data": {
      "text/plain": [
       "4"
      ]
     },
     "execution_count": 18,
     "metadata": {},
     "output_type": "execute_result"
    }
   ],
   "source": [
    "arr2[0][2]"
   ]
  },
  {
   "cell_type": "code",
   "execution_count": 19,
   "id": "f25e4c1a",
   "metadata": {},
   "outputs": [
    {
     "data": {
      "text/plain": [
       "array([5, 6, 7])"
      ]
     },
     "execution_count": 19,
     "metadata": {},
     "output_type": "execute_result"
    }
   ],
   "source": [
    "arr2[1]# 2nd row"
   ]
  },
  {
   "cell_type": "code",
   "execution_count": 20,
   "id": "503c9466",
   "metadata": {},
   "outputs": [
    {
     "data": {
      "text/plain": [
       "7"
      ]
     },
     "execution_count": 20,
     "metadata": {},
     "output_type": "execute_result"
    }
   ],
   "source": [
    "arr2[1][-1]"
   ]
  },
  {
   "cell_type": "code",
   "execution_count": 21,
   "id": "1fb7ead3",
   "metadata": {},
   "outputs": [
    {
     "data": {
      "text/plain": [
       "7"
      ]
     },
     "execution_count": 21,
     "metadata": {},
     "output_type": "execute_result"
    }
   ],
   "source": [
    "arr2[1][2]"
   ]
  },
  {
   "cell_type": "code",
   "execution_count": 22,
   "id": "9501507f",
   "metadata": {},
   "outputs": [
    {
     "name": "stdout",
     "output_type": "stream",
     "text": [
      "Dimension 2\n",
      "Shape (2, 3)\n",
      "\n",
      "[[2 3 4]\n",
      " [5 6 7]]\n"
     ]
    }
   ],
   "source": [
    "arr2 = np.array([[2,3,4],[5,6,7]])\n",
    "print(\"Dimension\",arr2.ndim)\n",
    "print(\"Shape\",arr2.shape)\n",
    "print()\n",
    "print(arr2)\n"
   ]
  },
  {
   "cell_type": "code",
   "execution_count": 24,
   "id": "e3f94268",
   "metadata": {},
   "outputs": [
    {
     "data": {
      "text/plain": [
       "3"
      ]
     },
     "execution_count": 24,
     "metadata": {},
     "output_type": "execute_result"
    }
   ],
   "source": [
    "arr2[0,1] # it will work only for array"
   ]
  },
  {
   "cell_type": "code",
   "execution_count": 26,
   "id": "d85a7cde",
   "metadata": {},
   "outputs": [
    {
     "data": {
      "text/plain": [
       "7"
      ]
     },
     "execution_count": 26,
     "metadata": {},
     "output_type": "execute_result"
    }
   ],
   "source": [
    "arr2[1,2]"
   ]
  },
  {
   "cell_type": "code",
   "execution_count": 27,
   "id": "2f0820f1",
   "metadata": {},
   "outputs": [
    {
     "data": {
      "text/plain": [
       "7"
      ]
     },
     "execution_count": 27,
     "metadata": {},
     "output_type": "execute_result"
    }
   ],
   "source": [
    "arr2[1,-1]"
   ]
  },
  {
   "cell_type": "code",
   "execution_count": 25,
   "id": "8c51deaa",
   "metadata": {},
   "outputs": [
    {
     "ename": "TypeError",
     "evalue": "list indices must be integers or slices, not tuple",
     "output_type": "error",
     "traceback": [
      "\u001b[1;31m---------------------------------------------------------------------------\u001b[0m",
      "\u001b[1;31mTypeError\u001b[0m                                 Traceback (most recent call last)",
      "\u001b[1;32m~\\AppData\\Local\\Temp/ipykernel_9492/914289795.py\u001b[0m in \u001b[0;36m<module>\u001b[1;34m\u001b[0m\n\u001b[0;32m      1\u001b[0m \u001b[0mlst\u001b[0m \u001b[1;33m=\u001b[0m \u001b[1;33m[\u001b[0m\u001b[1;33m[\u001b[0m\u001b[1;36m2\u001b[0m\u001b[1;33m,\u001b[0m\u001b[1;36m3\u001b[0m\u001b[1;33m,\u001b[0m\u001b[1;36m4\u001b[0m\u001b[1;33m]\u001b[0m\u001b[1;33m,\u001b[0m\u001b[1;33m[\u001b[0m\u001b[1;36m5\u001b[0m\u001b[1;33m,\u001b[0m\u001b[1;36m6\u001b[0m\u001b[1;33m,\u001b[0m\u001b[1;36m7\u001b[0m\u001b[1;33m]\u001b[0m\u001b[1;33m]\u001b[0m \u001b[1;31m# nested list\u001b[0m\u001b[1;33m\u001b[0m\u001b[1;33m\u001b[0m\u001b[0m\n\u001b[1;32m----> 2\u001b[1;33m \u001b[0mlst\u001b[0m\u001b[1;33m[\u001b[0m\u001b[1;36m0\u001b[0m\u001b[1;33m,\u001b[0m\u001b[1;36m1\u001b[0m\u001b[1;33m]\u001b[0m\u001b[1;33m\u001b[0m\u001b[1;33m\u001b[0m\u001b[0m\n\u001b[0m",
      "\u001b[1;31mTypeError\u001b[0m: list indices must be integers or slices, not tuple"
     ]
    }
   ],
   "source": [
    "lst = [[2,3,4],[5,6,7]] # nested list\n",
    "lst[0,1]\n"
   ]
  },
  {
   "cell_type": "code",
   "execution_count": 28,
   "id": "e1abb5fa",
   "metadata": {},
   "outputs": [
    {
     "name": "stdout",
     "output_type": "stream",
     "text": [
      "Dimension 2\n",
      "Shape (3, 3)\n",
      "\n",
      "[[ 2  3  4]\n",
      " [ 5  6  7]\n",
      " [11 12 13]]\n"
     ]
    }
   ],
   "source": [
    "arr2 = np.array([[2,3,4],[5,6,7],[11,12,13]])\n",
    "print(\"Dimension\",arr2.ndim)\n",
    "print(\"Shape\",arr2.shape)\n",
    "print()\n",
    "print(arr2)\n"
   ]
  },
  {
   "cell_type": "code",
   "execution_count": 29,
   "id": "ec6452f7",
   "metadata": {},
   "outputs": [
    {
     "data": {
      "text/plain": [
       "3"
      ]
     },
     "execution_count": 29,
     "metadata": {},
     "output_type": "execute_result"
    }
   ],
   "source": [
    "arr2[0,1]"
   ]
  },
  {
   "cell_type": "code",
   "execution_count": null,
   "id": "e7553642",
   "metadata": {},
   "outputs": [],
   "source": [
    "syntax slicing >\n",
    "# array[start_index(row) : end_index(row) (exclude), start_index(col):end_index(col)(exclude) ]"
   ]
  },
  {
   "cell_type": "code",
   "execution_count": 32,
   "id": "82115fee",
   "metadata": {},
   "outputs": [
    {
     "data": {
      "text/plain": [
       "array([[3]])"
      ]
     },
     "execution_count": 32,
     "metadata": {},
     "output_type": "execute_result"
    }
   ],
   "source": [
    "arr2[0:1,1:2]  "
   ]
  },
  {
   "cell_type": "code",
   "execution_count": 37,
   "id": "c452a53c",
   "metadata": {},
   "outputs": [
    {
     "data": {
      "text/plain": [
       "array([[3]])"
      ]
     },
     "execution_count": 37,
     "metadata": {},
     "output_type": "execute_result"
    }
   ],
   "source": [
    "arr2[0:1,1:2]"
   ]
  },
  {
   "cell_type": "code",
   "execution_count": 35,
   "id": "1a273c7e",
   "metadata": {},
   "outputs": [
    {
     "data": {
      "text/plain": [
       "array([[6, 7]])"
      ]
     },
     "execution_count": 35,
     "metadata": {},
     "output_type": "execute_result"
    }
   ],
   "source": [
    "arr2[1:2,1:3]"
   ]
  },
  {
   "cell_type": "code",
   "execution_count": 36,
   "id": "42e36f17",
   "metadata": {},
   "outputs": [
    {
     "data": {
      "text/plain": [
       "array([[6, 7]])"
      ]
     },
     "execution_count": 36,
     "metadata": {},
     "output_type": "execute_result"
    }
   ],
   "source": [
    "arr2[1:2,1:]"
   ]
  },
  {
   "cell_type": "code",
   "execution_count": 34,
   "id": "affdb2e7",
   "metadata": {},
   "outputs": [
    {
     "data": {
      "text/plain": [
       "array([[2, 3]])"
      ]
     },
     "execution_count": 34,
     "metadata": {},
     "output_type": "execute_result"
    }
   ],
   "source": [
    "arr2[0:1,0:2]"
   ]
  },
  {
   "cell_type": "code",
   "execution_count": 38,
   "id": "de4a2bcc",
   "metadata": {},
   "outputs": [
    {
     "name": "stdout",
     "output_type": "stream",
     "text": [
      "[[ 2  3  4]\n",
      " [ 5  6  7]\n",
      " [11 12 13]]\n"
     ]
    }
   ],
   "source": [
    "print(arr2)"
   ]
  },
  {
   "cell_type": "code",
   "execution_count": null,
   "id": "233b26ea",
   "metadata": {},
   "outputs": [],
   "source": [
    "6 7 \n",
    "12 13"
   ]
  },
  {
   "cell_type": "code",
   "execution_count": 42,
   "id": "3d638d98",
   "metadata": {},
   "outputs": [
    {
     "data": {
      "text/plain": [
       "array([[ 6,  7],\n",
       "       [12, 13]])"
      ]
     },
     "execution_count": 42,
     "metadata": {},
     "output_type": "execute_result"
    }
   ],
   "source": [
    "arr2[1:,1:]"
   ]
  },
  {
   "cell_type": "code",
   "execution_count": 41,
   "id": "0bcd17d0",
   "metadata": {},
   "outputs": [
    {
     "data": {
      "text/plain": [
       "array([[ 6,  7],\n",
       "       [12, 13]])"
      ]
     },
     "execution_count": 41,
     "metadata": {},
     "output_type": "execute_result"
    }
   ],
   "source": [
    "arr2[1:3,1:3]"
   ]
  },
  {
   "cell_type": "code",
   "execution_count": 43,
   "id": "d612773d",
   "metadata": {},
   "outputs": [
    {
     "data": {
      "text/plain": [
       "array([[ 2,  3,  4],\n",
       "       [ 5,  6,  7],\n",
       "       [11, 12, 13]])"
      ]
     },
     "execution_count": 43,
     "metadata": {},
     "output_type": "execute_result"
    }
   ],
   "source": [
    "arr2[:,:]"
   ]
  },
  {
   "cell_type": "code",
   "execution_count": 45,
   "id": "1067ea9e",
   "metadata": {},
   "outputs": [
    {
     "data": {
      "text/plain": [
       "array([[2, 3],\n",
       "       [5, 6]])"
      ]
     },
     "execution_count": 45,
     "metadata": {},
     "output_type": "execute_result"
    }
   ],
   "source": [
    "arr2[:2,:2]"
   ]
  },
  {
   "cell_type": "code",
   "execution_count": 46,
   "id": "d2b95f4b",
   "metadata": {},
   "outputs": [
    {
     "data": {
      "text/plain": [
       "array([[2, 3],\n",
       "       [5, 6]])"
      ]
     },
     "execution_count": 46,
     "metadata": {},
     "output_type": "execute_result"
    }
   ],
   "source": [
    "arr2[0:2,0:2]"
   ]
  },
  {
   "cell_type": "code",
   "execution_count": null,
   "id": "7f4947fd",
   "metadata": {},
   "outputs": [],
   "source": [
    "2,  3,\n",
    "11, 12,"
   ]
  },
  {
   "cell_type": "code",
   "execution_count": 49,
   "id": "35bde843",
   "metadata": {},
   "outputs": [
    {
     "data": {
      "text/plain": [
       "array([[ 2,  3],\n",
       "       [11, 12]])"
      ]
     },
     "execution_count": 49,
     "metadata": {},
     "output_type": "execute_result"
    }
   ],
   "source": [
    "arr2[::2,0:2]"
   ]
  },
  {
   "cell_type": "markdown",
   "id": "24e9ea47",
   "metadata": {},
   "source": [
    "## reshape"
   ]
  },
  {
   "cell_type": "code",
   "execution_count": 50,
   "id": "14c8744d",
   "metadata": {},
   "outputs": [
    {
     "name": "stdout",
     "output_type": "stream",
     "text": [
      "Shape (10,)\n"
     ]
    }
   ],
   "source": [
    "arr1 = np.array([2,3,4,5,6,7,8,9,10,11])\n",
    "print(\"Shape\",arr1.shape)"
   ]
  },
  {
   "cell_type": "code",
   "execution_count": 54,
   "id": "03aa4af9",
   "metadata": {},
   "outputs": [
    {
     "name": "stdout",
     "output_type": "stream",
     "text": [
      "Shape of the array :: (10,)\n",
      "Dimension of the array :: 1\n"
     ]
    }
   ],
   "source": [
    "def get_summary(array):\n",
    "    print(\"Shape of the array ::\",array.shape)\n",
    "    print(\"Dimension of the array ::\",array.ndim)\n",
    "arr1 = np.array([2,3,4,5,6,7,8,9,10,11])\n",
    "get_summary(arr1)"
   ]
  },
  {
   "cell_type": "code",
   "execution_count": 55,
   "id": "636d8eeb",
   "metadata": {},
   "outputs": [
    {
     "data": {
      "text/plain": [
       "array([[ 2,  3,  4,  5,  6],\n",
       "       [ 7,  8,  9, 10, 11]])"
      ]
     },
     "execution_count": 55,
     "metadata": {},
     "output_type": "execute_result"
    }
   ],
   "source": [
    "arr1.reshape(2,5)"
   ]
  },
  {
   "cell_type": "code",
   "execution_count": 56,
   "id": "008c306c",
   "metadata": {},
   "outputs": [
    {
     "data": {
      "text/plain": [
       "array([[ 2,  3],\n",
       "       [ 4,  5],\n",
       "       [ 6,  7],\n",
       "       [ 8,  9],\n",
       "       [10, 11]])"
      ]
     },
     "execution_count": 56,
     "metadata": {},
     "output_type": "execute_result"
    }
   ],
   "source": [
    "arr1.reshape(5,2)"
   ]
  },
  {
   "cell_type": "code",
   "execution_count": 57,
   "id": "346afcec",
   "metadata": {},
   "outputs": [
    {
     "data": {
      "text/plain": [
       "array([[ 2,  3,  4,  5,  6,  7,  8,  9, 10, 11]])"
      ]
     },
     "execution_count": 57,
     "metadata": {},
     "output_type": "execute_result"
    }
   ],
   "source": [
    "arr1.reshape(1,10)"
   ]
  },
  {
   "cell_type": "code",
   "execution_count": null,
   "id": "8f4c61e4",
   "metadata": {},
   "outputs": [],
   "source": [
    "arr1.reshape(1,10)"
   ]
  },
  {
   "cell_type": "code",
   "execution_count": null,
   "id": "2707d029",
   "metadata": {},
   "outputs": [],
   "source": [
    "10 :\n",
    "2X5 \n",
    "5X2\n",
    "1x10\n",
    "10x1\n",
    "\n",
    "12\n",
    "4x3\n",
    "3x4\n",
    "2x6\n",
    "6x2\n",
    "1x12\n",
    "12x1\n",
    "2x3x2\n",
    "2x2x3\n",
    "2x1x6\n",
    "2x6x1"
   ]
  },
  {
   "cell_type": "code",
   "execution_count": 58,
   "id": "a44caaa2",
   "metadata": {},
   "outputs": [
    {
     "name": "stdout",
     "output_type": "stream",
     "text": [
      "Shape of the array :: (12,)\n",
      "Dimension of the array :: 1\n"
     ]
    }
   ],
   "source": [
    "arr1 = np.array([2,3,4,5,6,7,8,9,10,11,13,12])\n",
    "get_summary(arr1)"
   ]
  },
  {
   "cell_type": "code",
   "execution_count": 59,
   "id": "0fdb7af4",
   "metadata": {},
   "outputs": [
    {
     "data": {
      "text/plain": [
       "array([[ 2,  3,  4,  5],\n",
       "       [ 6,  7,  8,  9],\n",
       "       [10, 11, 13, 12]])"
      ]
     },
     "execution_count": 59,
     "metadata": {},
     "output_type": "execute_result"
    }
   ],
   "source": [
    "arr1.reshape(3,4)"
   ]
  },
  {
   "cell_type": "code",
   "execution_count": 60,
   "id": "1d029052",
   "metadata": {},
   "outputs": [
    {
     "data": {
      "text/plain": [
       "array([[ 2,  3,  4],\n",
       "       [ 5,  6,  7],\n",
       "       [ 8,  9, 10],\n",
       "       [11, 13, 12]])"
      ]
     },
     "execution_count": 60,
     "metadata": {},
     "output_type": "execute_result"
    }
   ],
   "source": [
    "arr1.reshape(4,3)"
   ]
  },
  {
   "cell_type": "code",
   "execution_count": 61,
   "id": "2836e13c",
   "metadata": {},
   "outputs": [
    {
     "ename": "ValueError",
     "evalue": "cannot reshape array of size 12 into shape (10,4)",
     "output_type": "error",
     "traceback": [
      "\u001b[1;31m---------------------------------------------------------------------------\u001b[0m",
      "\u001b[1;31mValueError\u001b[0m                                Traceback (most recent call last)",
      "\u001b[1;32m~\\AppData\\Local\\Temp/ipykernel_9492/3929053222.py\u001b[0m in \u001b[0;36m<module>\u001b[1;34m\u001b[0m\n\u001b[1;32m----> 1\u001b[1;33m \u001b[0marr1\u001b[0m\u001b[1;33m.\u001b[0m\u001b[0mreshape\u001b[0m\u001b[1;33m(\u001b[0m\u001b[1;36m10\u001b[0m\u001b[1;33m,\u001b[0m\u001b[1;36m4\u001b[0m\u001b[1;33m)\u001b[0m\u001b[1;33m\u001b[0m\u001b[1;33m\u001b[0m\u001b[0m\n\u001b[0m",
      "\u001b[1;31mValueError\u001b[0m: cannot reshape array of size 12 into shape (10,4)"
     ]
    }
   ],
   "source": [
    "arr1.reshape(10,4)"
   ]
  },
  {
   "cell_type": "markdown",
   "id": "c39ce40d",
   "metadata": {},
   "source": [
    "## 1D TO 3D"
   ]
  },
  {
   "cell_type": "code",
   "execution_count": 62,
   "id": "2a7942b0",
   "metadata": {},
   "outputs": [
    {
     "name": "stdout",
     "output_type": "stream",
     "text": [
      "Shape of the array :: (12,)\n",
      "Dimension of the array :: 1\n"
     ]
    }
   ],
   "source": [
    "arr1 = np.array([2,3,4,5,6,7,8,9,10,11,13,12])\n",
    "get_summary(arr1)"
   ]
  },
  {
   "cell_type": "code",
   "execution_count": 64,
   "id": "8c877a5b",
   "metadata": {},
   "outputs": [
    {
     "data": {
      "text/plain": [
       "array([[[ 2,  3],\n",
       "        [ 4,  5],\n",
       "        [ 6,  7]],\n",
       "\n",
       "       [[ 8,  9],\n",
       "        [10, 11],\n",
       "        [13, 12]]])"
      ]
     },
     "execution_count": 64,
     "metadata": {},
     "output_type": "execute_result"
    }
   ],
   "source": [
    "arr2 = arr1.reshape(2,3,2)\n",
    "arr2"
   ]
  },
  {
   "cell_type": "code",
   "execution_count": 67,
   "id": "c73b4965",
   "metadata": {},
   "outputs": [
    {
     "data": {
      "text/plain": [
       "array([[10]])"
      ]
     },
     "execution_count": 67,
     "metadata": {},
     "output_type": "execute_result"
    }
   ],
   "source": [
    "arr2[1,1:2,0:1]  #             # 10"
   ]
  },
  {
   "cell_type": "code",
   "execution_count": 71,
   "id": "6aca936d",
   "metadata": {},
   "outputs": [
    {
     "data": {
      "text/plain": [
       "array([7])"
      ]
     },
     "execution_count": 71,
     "metadata": {},
     "output_type": "execute_result"
    }
   ],
   "source": [
    "arr2[0,2,1:]"
   ]
  },
  {
   "cell_type": "markdown",
   "id": "72c1a6a0",
   "metadata": {},
   "source": [
    "## 10.np.nditer()"
   ]
  },
  {
   "cell_type": "code",
   "execution_count": 73,
   "id": "515d9eee",
   "metadata": {},
   "outputs": [
    {
     "data": {
      "text/plain": [
       "array([ 2,  3,  4,  5,  6,  7,  8,  9, 10, 11, 13, 12])"
      ]
     },
     "execution_count": 73,
     "metadata": {},
     "output_type": "execute_result"
    }
   ],
   "source": [
    "arr1"
   ]
  },
  {
   "cell_type": "code",
   "execution_count": 74,
   "id": "6a31ee31",
   "metadata": {},
   "outputs": [
    {
     "name": "stdout",
     "output_type": "stream",
     "text": [
      "2\n",
      "3\n",
      "4\n",
      "5\n",
      "6\n",
      "7\n",
      "8\n",
      "9\n",
      "10\n",
      "11\n",
      "13\n",
      "12\n"
     ]
    }
   ],
   "source": [
    "for i in arr1:\n",
    "    print(i)"
   ]
  },
  {
   "cell_type": "code",
   "execution_count": 75,
   "id": "980e361b",
   "metadata": {},
   "outputs": [
    {
     "data": {
      "text/plain": [
       "array([[2, 3],\n",
       "       [4, 5],\n",
       "       [6, 7]])"
      ]
     },
     "execution_count": 75,
     "metadata": {},
     "output_type": "execute_result"
    }
   ],
   "source": [
    "arr3 = np.array([[ 2,  3],\n",
    "        [ 4,  5],\n",
    "        [ 6,  7]])\n",
    "arr3 "
   ]
  },
  {
   "cell_type": "code",
   "execution_count": 76,
   "id": "20c82d2e",
   "metadata": {},
   "outputs": [
    {
     "name": "stdout",
     "output_type": "stream",
     "text": [
      "[2 3]\n",
      "[4 5]\n",
      "[6 7]\n"
     ]
    }
   ],
   "source": [
    "for i in arr3:\n",
    "    print(i)"
   ]
  },
  {
   "cell_type": "code",
   "execution_count": 77,
   "id": "3a4b72f0",
   "metadata": {},
   "outputs": [
    {
     "name": "stdout",
     "output_type": "stream",
     "text": [
      "2\n",
      "3\n",
      "4\n",
      "5\n",
      "6\n",
      "7\n"
     ]
    }
   ],
   "source": [
    "for i in arr3:\n",
    "    for j in i:\n",
    "        print(j)"
   ]
  },
  {
   "cell_type": "code",
   "execution_count": 81,
   "id": "2431339b",
   "metadata": {},
   "outputs": [
    {
     "name": "stdout",
     "output_type": "stream",
     "text": [
      "Shape of the array :: (2, 3, 2)\n",
      "Dimension of the array :: 3\n"
     ]
    },
    {
     "data": {
      "text/plain": [
       "array([[[ 2,  3],\n",
       "        [ 4,  5],\n",
       "        [ 6,  7]],\n",
       "\n",
       "       [[ 8,  9],\n",
       "        [10, 11],\n",
       "        [13, 12]]])"
      ]
     },
     "execution_count": 81,
     "metadata": {},
     "output_type": "execute_result"
    }
   ],
   "source": [
    "arr2 = arr1.reshape(2,3,2)\n",
    "get_summary(arr2)\n",
    "arr2"
   ]
  },
  {
   "cell_type": "code",
   "execution_count": 84,
   "id": "7239077b",
   "metadata": {},
   "outputs": [
    {
     "name": "stdout",
     "output_type": "stream",
     "text": [
      "2\n",
      "3\n",
      "4\n",
      "5\n",
      "6\n",
      "7\n",
      "8\n",
      "9\n",
      "10\n",
      "11\n",
      "13\n",
      "12\n"
     ]
    }
   ],
   "source": [
    "for i in arr2:\n",
    "    for j in i:\n",
    "        for k in j:\n",
    "            print(k)"
   ]
  },
  {
   "cell_type": "code",
   "execution_count": 87,
   "id": "36307400",
   "metadata": {},
   "outputs": [
    {
     "name": "stdout",
     "output_type": "stream",
     "text": [
      "Shape of the array :: (2, 3, 2)\n",
      "Dimension of the array :: 3\n",
      "2\n",
      "3\n",
      "4\n",
      "5\n",
      "6\n",
      "7\n",
      "8\n",
      "9\n",
      "10\n",
      "11\n",
      "13\n",
      "12\n"
     ]
    }
   ],
   "source": [
    "get_summary(arr2)\n",
    "for i in np.nditer(arr2):\n",
    "    print(i)"
   ]
  },
  {
   "cell_type": "code",
   "execution_count": 88,
   "id": "76c5d775",
   "metadata": {},
   "outputs": [
    {
     "name": "stdout",
     "output_type": "stream",
     "text": [
      "Shape of the array :: (3, 2)\n",
      "Dimension of the array :: 2\n"
     ]
    }
   ],
   "source": [
    "arr3 = np.array([[ 2,  3],\n",
    "        [ 4,  5],\n",
    "        [ 6,  7]])\n",
    "get_summary(arr3)"
   ]
  },
  {
   "cell_type": "code",
   "execution_count": 89,
   "id": "d5457486",
   "metadata": {},
   "outputs": [
    {
     "name": "stdout",
     "output_type": "stream",
     "text": [
      "2\n",
      "3\n",
      "4\n",
      "5\n",
      "6\n",
      "7\n"
     ]
    }
   ],
   "source": [
    "for i in np.nditer(arr3):\n",
    "    print(i)"
   ]
  },
  {
   "cell_type": "markdown",
   "id": "0d3c7c58",
   "metadata": {},
   "source": [
    "## 11.np.ndenumerate()"
   ]
  },
  {
   "cell_type": "code",
   "execution_count": 92,
   "id": "6508eecf",
   "metadata": {},
   "outputs": [
    {
     "name": "stdout",
     "output_type": "stream",
     "text": [
      "Shape of the array :: (3, 2)\n",
      "Dimension of the array :: 2\n",
      "[[2 3]\n",
      " [4 5]\n",
      " [6 7]]\n"
     ]
    }
   ],
   "source": [
    "arr3 = np.array([[ 2,  3],\n",
    "        [ 4,  5],\n",
    "        [ 6,  7]])\n",
    "get_summary(arr3)\n",
    "print(arr3)"
   ]
  },
  {
   "cell_type": "code",
   "execution_count": 91,
   "id": "2eb67e95",
   "metadata": {},
   "outputs": [
    {
     "name": "stdout",
     "output_type": "stream",
     "text": [
      "(0, 0) 2\n",
      "(0, 1) 3\n",
      "(1, 0) 4\n",
      "(1, 1) 5\n",
      "(2, 0) 6\n",
      "(2, 1) 7\n"
     ]
    }
   ],
   "source": [
    "for index,value in np.ndenumerate(arr3):\n",
    "    print(index,value)"
   ]
  },
  {
   "cell_type": "markdown",
   "id": "51ae0b27",
   "metadata": {},
   "source": [
    "## 12.flatten"
   ]
  },
  {
   "cell_type": "code",
   "execution_count": null,
   "id": "37a0556f",
   "metadata": {},
   "outputs": [],
   "source": [
    "It is used to convert n-dimenstional array to 1-D array"
   ]
  },
  {
   "cell_type": "code",
   "execution_count": 95,
   "id": "5f451250",
   "metadata": {},
   "outputs": [
    {
     "name": "stdout",
     "output_type": "stream",
     "text": [
      "Shape of the array :: (2, 3, 2)\n",
      "Dimension of the array :: 3\n",
      "[[[ 2  3]\n",
      "  [ 4  5]\n",
      "  [ 6  7]]\n",
      "\n",
      " [[ 8  9]\n",
      "  [10 11]\n",
      "  [13 12]]]\n"
     ]
    }
   ],
   "source": [
    "get_summary(arr2)\n",
    "print(arr2)"
   ]
  },
  {
   "cell_type": "code",
   "execution_count": 96,
   "id": "44977312",
   "metadata": {},
   "outputs": [
    {
     "data": {
      "text/plain": [
       "array([ 2,  3,  4,  5,  6,  7,  8,  9, 10, 11, 13, 12])"
      ]
     },
     "execution_count": 96,
     "metadata": {},
     "output_type": "execute_result"
    }
   ],
   "source": [
    "arr2.flatten() # 3D to 1D"
   ]
  },
  {
   "cell_type": "code",
   "execution_count": 99,
   "id": "b3b18d8d",
   "metadata": {},
   "outputs": [
    {
     "name": "stdout",
     "output_type": "stream",
     "text": [
      "Shape of the array :: (3, 2)\n",
      "Dimension of the array :: 2\n",
      "[[2 3]\n",
      " [4 5]\n",
      " [6 7]]\n"
     ]
    }
   ],
   "source": [
    "get_summary(arr3)\n",
    "print(arr3)"
   ]
  },
  {
   "cell_type": "code",
   "execution_count": 100,
   "id": "db67e4dd",
   "metadata": {},
   "outputs": [
    {
     "data": {
      "text/plain": [
       "array([2, 3, 4, 5, 6, 7])"
      ]
     },
     "execution_count": 100,
     "metadata": {},
     "output_type": "execute_result"
    }
   ],
   "source": [
    "arr3.flatten() # 2D to 1D"
   ]
  },
  {
   "cell_type": "code",
   "execution_count": 101,
   "id": "8f83d1ac",
   "metadata": {},
   "outputs": [
    {
     "data": {
      "text/plain": [
       "array([1, 2, 3, 3, 4, 5])"
      ]
     },
     "execution_count": 101,
     "metadata": {},
     "output_type": "execute_result"
    }
   ],
   "source": [
    "lst = [[1,2,3],[3,4,5]]\n",
    "array = np.array(lst).flatten()\n",
    "array"
   ]
  },
  {
   "cell_type": "markdown",
   "id": "b46fe1ce",
   "metadata": {},
   "source": [
    "## 13.ravel"
   ]
  },
  {
   "cell_type": "code",
   "execution_count": null,
   "id": "914cb8a7",
   "metadata": {},
   "outputs": [],
   "source": [
    "It returns only reference of orginal array\n",
    "Used to convert n-D TO 1-D array"
   ]
  },
  {
   "cell_type": "code",
   "execution_count": 104,
   "id": "728ab10e",
   "metadata": {},
   "outputs": [
    {
     "name": "stdout",
     "output_type": "stream",
     "text": [
      "Shape of the array :: (3, 2)\n",
      "Dimension of the array :: 2\n",
      "[[2 3]\n",
      " [4 5]\n",
      " [6 7]]\n"
     ]
    }
   ],
   "source": [
    "get_summary(arr3)\n",
    "print(arr3)"
   ]
  },
  {
   "cell_type": "code",
   "execution_count": 105,
   "id": "87def3ed",
   "metadata": {},
   "outputs": [
    {
     "data": {
      "text/plain": [
       "array([2, 3, 4, 5, 6, 7])"
      ]
     },
     "execution_count": 105,
     "metadata": {},
     "output_type": "execute_result"
    }
   ],
   "source": [
    "arr3.ravel()"
   ]
  },
  {
   "cell_type": "code",
   "execution_count": 107,
   "id": "45f70db6",
   "metadata": {},
   "outputs": [
    {
     "name": "stdout",
     "output_type": "stream",
     "text": [
      "Shape of the array :: (2, 3, 2)\n",
      "Dimension of the array :: 3\n",
      "[[[ 2  3]\n",
      "  [ 4  5]\n",
      "  [ 6  7]]\n",
      "\n",
      " [[ 8  9]\n",
      "  [10 11]\n",
      "  [13 12]]]\n"
     ]
    },
    {
     "data": {
      "text/plain": [
       "array([ 2,  3,  4,  5,  6,  7,  8,  9, 10, 11, 13, 12])"
      ]
     },
     "execution_count": 107,
     "metadata": {},
     "output_type": "execute_result"
    }
   ],
   "source": [
    "get_summary(arr2)\n",
    "print(arr2)\n",
    "arr2.ravel()"
   ]
  },
  {
   "cell_type": "code",
   "execution_count": 130,
   "id": "d90b95b6",
   "metadata": {},
   "outputs": [
    {
     "name": "stdout",
     "output_type": "stream",
     "text": [
      "Shape of the array :: (3, 2)\n",
      "Dimension of the array :: 2\n",
      "****\n",
      "[[4]]\n",
      "Array 3>>>>>\n",
      " [[ 2  3]\n",
      " [44  5]\n",
      " [ 6  7]]\n",
      "****\n",
      "Array 1>>>>>\n",
      " [[ 2  3]\n",
      " [44  5]\n",
      " [ 6  7]]\n"
     ]
    }
   ],
   "source": [
    "arr3 = np.array([[ 2,  3],\n",
    "        [ 4,  5],\n",
    "        [ 6,  7]])\n",
    "\n",
    "get_summary(arr3)\n",
    "# print(arr3)\n",
    "print(\"****\")\n",
    "arr1 = arr3 # refernce\n",
    "print(arr1[1:2,0:1])\n",
    "arr1[1:2,0:1] = 44\n",
    "print(\"Array 3>>>>>\\n\",arr3)\n",
    "print(\"****\")\n",
    "print(\"Array 1>>>>>\\n\",arr1)"
   ]
  },
  {
   "cell_type": "code",
   "execution_count": 127,
   "id": "f28d5e96",
   "metadata": {
    "scrolled": true
   },
   "outputs": [
    {
     "name": "stdout",
     "output_type": "stream",
     "text": [
      "Shape of the array :: (3, 2)\n",
      "Dimension of the array :: 2\n",
      "Arr3>>>>>>\n",
      " [[   2    3]\n",
      " [1000    5]\n",
      " [   6    7]]\n",
      "\n",
      "Arr1\n",
      " [   2    3 1000    5    6    7]\n"
     ]
    }
   ],
   "source": [
    "arr3 = np.array([[ 2,  3],\n",
    "        [ 4,  5],\n",
    "        [ 6,  7]])\n",
    "\n",
    "get_summary(arr3)\n",
    "# print(arr3)\n",
    "arr1 = arr3.ravel()  #  reference \n",
    "arr1[2] = 1000\n",
    "print(\"Arr3>>>>>>\\n\",arr3)\n",
    "print()\n",
    "print(\"Arr1\\n\",arr1)"
   ]
  },
  {
   "cell_type": "code",
   "execution_count": 128,
   "id": "de112765",
   "metadata": {},
   "outputs": [
    {
     "name": "stdout",
     "output_type": "stream",
     "text": [
      "Shape of the array :: (3, 2)\n",
      "Dimension of the array :: 2\n",
      "Arr3\n",
      " [[2 3]\n",
      " [4 5]\n",
      " [6 7]]\n",
      "\n",
      "Arr1\n",
      " [   2    3 1000    5    6    7]\n"
     ]
    }
   ],
   "source": [
    "arr3 = np.array([[ 2,  3],\n",
    "        [ 4,  5],\n",
    "        [ 6,  7]])\n",
    "get_summary(arr3)\n",
    "# print(arr3) # 2D\n",
    "arr1 = arr3.flatten()\n",
    "arr1 # 1 D\n",
    "arr1[2] = 1000\n",
    "print(\"Arr3\\n\",arr3)\n",
    "print()\n",
    "print(\"Arr1\\n\",arr1)"
   ]
  },
  {
   "cell_type": "markdown",
   "id": "61faf676",
   "metadata": {},
   "source": [
    "## copy"
   ]
  },
  {
   "cell_type": "code",
   "execution_count": 132,
   "id": "e296fbfa",
   "metadata": {},
   "outputs": [
    {
     "name": "stdout",
     "output_type": "stream",
     "text": [
      "Shape of the array :: (3, 2)\n",
      "Dimension of the array :: 2\n",
      "Arr3>>>>>>\n",
      " [[2 3]\n",
      " [4 5]\n",
      " [6 7]]\n",
      "\n",
      "Arr1\n",
      " [   2    3 1000    5    6    7]\n"
     ]
    }
   ],
   "source": [
    "arr3 = np.array([[ 2,  3],\n",
    "        [ 4,  5],\n",
    "        [ 6,  7]])\n",
    "\n",
    "get_summary(arr3)\n",
    "# print(arr3)\n",
    "arr1 = arr3.ravel().copy()  # copy\n",
    "arr1[2] = 1000\n",
    "print(\"Arr3>>>>>>\\n\",arr3)\n",
    "print()\n",
    "print(\"Arr1\\n\",arr1)"
   ]
  },
  {
   "cell_type": "markdown",
   "id": "2211163d",
   "metadata": {},
   "source": [
    "## zeros"
   ]
  },
  {
   "cell_type": "code",
   "execution_count": null,
   "id": "79561aa8",
   "metadata": {},
   "outputs": [],
   "source": [
    "np.zeros(shape,dtype=float)"
   ]
  },
  {
   "cell_type": "code",
   "execution_count": 133,
   "id": "7bb0b04a",
   "metadata": {},
   "outputs": [
    {
     "data": {
      "text/plain": [
       "array([0., 0., 0., 0., 0., 0., 0., 0., 0., 0.])"
      ]
     },
     "execution_count": 133,
     "metadata": {},
     "output_type": "execute_result"
    }
   ],
   "source": [
    "np.zeros(10)"
   ]
  },
  {
   "cell_type": "code",
   "execution_count": 134,
   "id": "3b4bdb3d",
   "metadata": {},
   "outputs": [
    {
     "data": {
      "text/plain": [
       "array([0, 0, 0, 0, 0, 0, 0, 0, 0, 0])"
      ]
     },
     "execution_count": 134,
     "metadata": {},
     "output_type": "execute_result"
    }
   ],
   "source": [
    "np.zeros(10,dtype=int)"
   ]
  },
  {
   "cell_type": "code",
   "execution_count": 135,
   "id": "18320437",
   "metadata": {},
   "outputs": [
    {
     "data": {
      "text/plain": [
       "array([[0, 0, 0, 0],\n",
       "       [0, 0, 0, 0],\n",
       "       [0, 0, 0, 0],\n",
       "       [0, 0, 0, 0]])"
      ]
     },
     "execution_count": 135,
     "metadata": {},
     "output_type": "execute_result"
    }
   ],
   "source": [
    "np.zeros([4,4],dtype=int)"
   ]
  },
  {
   "cell_type": "code",
   "execution_count": 136,
   "id": "60c991f9",
   "metadata": {},
   "outputs": [
    {
     "data": {
      "text/plain": [
       "array([[0, 0, 0, 0],\n",
       "       [0, 0, 0, 0]])"
      ]
     },
     "execution_count": 136,
     "metadata": {},
     "output_type": "execute_result"
    }
   ],
   "source": [
    "np.zeros([2,4],dtype=int)"
   ]
  },
  {
   "cell_type": "markdown",
   "id": "381fddab",
   "metadata": {},
   "source": [
    "## Ones"
   ]
  },
  {
   "cell_type": "code",
   "execution_count": null,
   "id": "f869bd13",
   "metadata": {},
   "outputs": [],
   "source": [
    "np.ones(shape,dtype=float) # "
   ]
  },
  {
   "cell_type": "code",
   "execution_count": 137,
   "id": "3d28c6fe",
   "metadata": {},
   "outputs": [
    {
     "data": {
      "text/plain": [
       "array([[1, 1, 1, 1, 1],\n",
       "       [1, 1, 1, 1, 1],\n",
       "       [1, 1, 1, 1, 1],\n",
       "       [1, 1, 1, 1, 1]])"
      ]
     },
     "execution_count": 137,
     "metadata": {},
     "output_type": "execute_result"
    }
   ],
   "source": [
    "np.ones([4,5],dtype=int)"
   ]
  },
  {
   "cell_type": "code",
   "execution_count": 138,
   "id": "f4c7df89",
   "metadata": {},
   "outputs": [
    {
     "data": {
      "text/plain": [
       "array([[[1, 1, 1, 1, 1],\n",
       "        [1, 1, 1, 1, 1],\n",
       "        [1, 1, 1, 1, 1],\n",
       "        [1, 1, 1, 1, 1]],\n",
       "\n",
       "       [[1, 1, 1, 1, 1],\n",
       "        [1, 1, 1, 1, 1],\n",
       "        [1, 1, 1, 1, 1],\n",
       "        [1, 1, 1, 1, 1]],\n",
       "\n",
       "       [[1, 1, 1, 1, 1],\n",
       "        [1, 1, 1, 1, 1],\n",
       "        [1, 1, 1, 1, 1],\n",
       "        [1, 1, 1, 1, 1]],\n",
       "\n",
       "       [[1, 1, 1, 1, 1],\n",
       "        [1, 1, 1, 1, 1],\n",
       "        [1, 1, 1, 1, 1],\n",
       "        [1, 1, 1, 1, 1]]])"
      ]
     },
     "execution_count": 138,
     "metadata": {},
     "output_type": "execute_result"
    }
   ],
   "source": [
    "np.ones([4,4,5],dtype=int)"
   ]
  },
  {
   "cell_type": "markdown",
   "id": "64b0c657",
   "metadata": {},
   "source": [
    "## full"
   ]
  },
  {
   "cell_type": "code",
   "execution_count": null,
   "id": "c886bd7d",
   "metadata": {},
   "outputs": [],
   "source": [
    "np.full(shape,value)"
   ]
  },
  {
   "cell_type": "code",
   "execution_count": 139,
   "id": "0519e625",
   "metadata": {},
   "outputs": [
    {
     "data": {
      "text/plain": [
       "array([4, 4, 4, 4, 4, 4, 4, 4, 4, 4])"
      ]
     },
     "execution_count": 139,
     "metadata": {},
     "output_type": "execute_result"
    }
   ],
   "source": [
    "np.full(10,4)"
   ]
  },
  {
   "cell_type": "code",
   "execution_count": 140,
   "id": "46ed5352",
   "metadata": {},
   "outputs": [
    {
     "data": {
      "text/plain": [
       "array([[4, 4, 4, 4],\n",
       "       [4, 4, 4, 4]])"
      ]
     },
     "execution_count": 140,
     "metadata": {},
     "output_type": "execute_result"
    }
   ],
   "source": [
    "np.full([2,4],4)"
   ]
  },
  {
   "cell_type": "code",
   "execution_count": 141,
   "id": "1aa604f3",
   "metadata": {},
   "outputs": [
    {
     "data": {
      "text/plain": [
       "array([[0, 0, 0, 0],\n",
       "       [0, 0, 0, 0]])"
      ]
     },
     "execution_count": 141,
     "metadata": {},
     "output_type": "execute_result"
    }
   ],
   "source": [
    "np.full([2,4],0)"
   ]
  },
  {
   "cell_type": "code",
   "execution_count": 142,
   "id": "73de3e23",
   "metadata": {},
   "outputs": [
    {
     "data": {
      "text/plain": [
       "array([[2, 2, 2, 2],\n",
       "       [2, 2, 2, 2]])"
      ]
     },
     "execution_count": 142,
     "metadata": {},
     "output_type": "execute_result"
    }
   ],
   "source": [
    "np.full([2,4],2)"
   ]
  },
  {
   "cell_type": "code",
   "execution_count": null,
   "id": "258bc8ff",
   "metadata": {},
   "outputs": [],
   "source": []
  }
 ],
 "metadata": {
  "kernelspec": {
   "display_name": "Python 3 (ipykernel)",
   "language": "python",
   "name": "python3"
  },
  "language_info": {
   "codemirror_mode": {
    "name": "ipython",
    "version": 3
   },
   "file_extension": ".py",
   "mimetype": "text/x-python",
   "name": "python",
   "nbconvert_exporter": "python",
   "pygments_lexer": "ipython3",
   "version": "3.9.7"
  }
 },
 "nbformat": 4,
 "nbformat_minor": 5
}

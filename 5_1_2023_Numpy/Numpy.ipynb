{
 "cells": [
  {
   "cell_type": "markdown",
   "id": "b5c1ffb3",
   "metadata": {},
   "source": [
    "## Matrix"
   ]
  },
  {
   "cell_type": "markdown",
   "id": "b299b60c",
   "metadata": {},
   "source": [
    "## 1) Addition"
   ]
  },
  {
   "cell_type": "code",
   "execution_count": 2,
   "id": "eb7d5573",
   "metadata": {},
   "outputs": [
    {
     "name": "stdout",
     "output_type": "stream",
     "text": [
      "Matrix1\n",
      " [[38 42]\n",
      " [49 12]]\n",
      "Matrix2\n",
      " [[46 46]\n",
      " [22 44]]\n"
     ]
    }
   ],
   "source": [
    "import numpy as np\n",
    "\n",
    "matrix1 = np.random.randint(12,50,size = (2,2))\n",
    "\n",
    "matrix2 = np.random.randint(12,50,size = (2,2))\n",
    "print(\"Matrix1\\n\",matrix1)\n",
    "print(\"Matrix2\\n\",matrix2)"
   ]
  },
  {
   "cell_type": "code",
   "execution_count": 3,
   "id": "ea651ec2",
   "metadata": {},
   "outputs": [
    {
     "data": {
      "text/plain": [
       "array([[84, 88],\n",
       "       [71, 56]])"
      ]
     },
     "execution_count": 3,
     "metadata": {},
     "output_type": "execute_result"
    }
   ],
   "source": [
    "new_matrix = np.add(matrix1,matrix2)\n",
    "new_matrix"
   ]
  },
  {
   "cell_type": "code",
   "execution_count": 4,
   "id": "608f5a00",
   "metadata": {},
   "outputs": [
    {
     "name": "stdout",
     "output_type": "stream",
     "text": [
      "Matrix1\n",
      " [[30 26 19]\n",
      " [28 48 24]]\n",
      "Matrix2\n",
      " [[45 30]\n",
      " [32 18]]\n"
     ]
    }
   ],
   "source": [
    "import numpy as np\n",
    "\n",
    "matrix1 = np.random.randint(12,50,size = (2,3))\n",
    "\n",
    "matrix2 = np.random.randint(12,50,size = (2,2))\n",
    "print(\"Matrix1\\n\",matrix1)\n",
    "print(\"Matrix2\\n\",matrix2)"
   ]
  },
  {
   "cell_type": "code",
   "execution_count": 5,
   "id": "9280432f",
   "metadata": {},
   "outputs": [
    {
     "ename": "ValueError",
     "evalue": "operands could not be broadcast together with shapes (2,3) (2,2) ",
     "output_type": "error",
     "traceback": [
      "\u001b[1;31m---------------------------------------------------------------------------\u001b[0m",
      "\u001b[1;31mValueError\u001b[0m                                Traceback (most recent call last)",
      "\u001b[1;32m~\\AppData\\Local\\Temp/ipykernel_7960/2682723007.py\u001b[0m in \u001b[0;36m<module>\u001b[1;34m\u001b[0m\n\u001b[1;32m----> 1\u001b[1;33m \u001b[0mnew_matrix\u001b[0m \u001b[1;33m=\u001b[0m \u001b[0mnp\u001b[0m\u001b[1;33m.\u001b[0m\u001b[0madd\u001b[0m\u001b[1;33m(\u001b[0m\u001b[0mmatrix1\u001b[0m\u001b[1;33m,\u001b[0m\u001b[0mmatrix2\u001b[0m\u001b[1;33m)\u001b[0m\u001b[1;33m\u001b[0m\u001b[1;33m\u001b[0m\u001b[0m\n\u001b[0m\u001b[0;32m      2\u001b[0m \u001b[0mnew_matrix\u001b[0m\u001b[1;33m\u001b[0m\u001b[1;33m\u001b[0m\u001b[0m\n",
      "\u001b[1;31mValueError\u001b[0m: operands could not be broadcast together with shapes (2,3) (2,2) "
     ]
    }
   ],
   "source": [
    "new_matrix = np.add(matrix1,matrix2)\n",
    "new_matrix"
   ]
  },
  {
   "cell_type": "code",
   "execution_count": 6,
   "id": "5b30b011",
   "metadata": {},
   "outputs": [
    {
     "name": "stdout",
     "output_type": "stream",
     "text": [
      "Matrix1\n",
      " [38 18 42 27 46]\n",
      "Matrix2\n",
      " [46 31 22 26 35]\n"
     ]
    },
    {
     "data": {
      "text/plain": [
       "array([84, 49, 64, 53, 81])"
      ]
     },
     "execution_count": 6,
     "metadata": {},
     "output_type": "execute_result"
    }
   ],
   "source": [
    "import numpy as np\n",
    "\n",
    "matrix1 = np.random.randint(12,50,size = (5))\n",
    "\n",
    "matrix2 = np.random.randint(12,50,size = (5))\n",
    "print(\"Matrix1\\n\",matrix1)\n",
    "print(\"Matrix2\\n\",matrix2)\n",
    "\n",
    "new_matrix = np.add(matrix1,matrix2)\n",
    "new_matrix"
   ]
  },
  {
   "cell_type": "code",
   "execution_count": 7,
   "id": "67bb1b4d",
   "metadata": {},
   "outputs": [
    {
     "name": "stdout",
     "output_type": "stream",
     "text": [
      "Matrix1\n",
      " [46 47 49 21 12]\n",
      "Matrix2\n",
      " [27 46 31 16 26 18]\n"
     ]
    },
    {
     "ename": "ValueError",
     "evalue": "operands could not be broadcast together with shapes (5,) (6,) ",
     "output_type": "error",
     "traceback": [
      "\u001b[1;31m---------------------------------------------------------------------------\u001b[0m",
      "\u001b[1;31mValueError\u001b[0m                                Traceback (most recent call last)",
      "\u001b[1;32m~\\AppData\\Local\\Temp/ipykernel_7960/3468407845.py\u001b[0m in \u001b[0;36m<module>\u001b[1;34m\u001b[0m\n\u001b[0;32m      7\u001b[0m \u001b[0mprint\u001b[0m\u001b[1;33m(\u001b[0m\u001b[1;34m\"Matrix2\\n\"\u001b[0m\u001b[1;33m,\u001b[0m\u001b[0mmatrix2\u001b[0m\u001b[1;33m)\u001b[0m\u001b[1;33m\u001b[0m\u001b[1;33m\u001b[0m\u001b[0m\n\u001b[0;32m      8\u001b[0m \u001b[1;33m\u001b[0m\u001b[0m\n\u001b[1;32m----> 9\u001b[1;33m \u001b[0mnew_matrix\u001b[0m \u001b[1;33m=\u001b[0m \u001b[0mnp\u001b[0m\u001b[1;33m.\u001b[0m\u001b[0madd\u001b[0m\u001b[1;33m(\u001b[0m\u001b[0mmatrix1\u001b[0m\u001b[1;33m,\u001b[0m\u001b[0mmatrix2\u001b[0m\u001b[1;33m)\u001b[0m\u001b[1;33m\u001b[0m\u001b[1;33m\u001b[0m\u001b[0m\n\u001b[0m\u001b[0;32m     10\u001b[0m \u001b[0mnew_matrix\u001b[0m\u001b[1;33m\u001b[0m\u001b[1;33m\u001b[0m\u001b[0m\n",
      "\u001b[1;31mValueError\u001b[0m: operands could not be broadcast together with shapes (5,) (6,) "
     ]
    }
   ],
   "source": [
    "import numpy as np\n",
    "\n",
    "matrix1 = np.random.randint(12,50,size = (5))\n",
    "\n",
    "matrix2 = np.random.randint(12,50,size = (6))\n",
    "print(\"Matrix1\\n\",matrix1)\n",
    "print(\"Matrix2\\n\",matrix2)\n",
    "\n",
    "new_matrix = np.add(matrix1,matrix2)\n",
    "new_matrix"
   ]
  },
  {
   "cell_type": "markdown",
   "id": "2656b03f",
   "metadata": {},
   "source": [
    "## 2) Multiplication"
   ]
  },
  {
   "cell_type": "code",
   "execution_count": 9,
   "id": "d51a1b1e",
   "metadata": {},
   "outputs": [
    {
     "name": "stdout",
     "output_type": "stream",
     "text": [
      "Matrix1\n",
      " [[4 1]\n",
      " [1 3]]\n",
      "Matrix2\n",
      " [[4 3]\n",
      " [3 4]]\n"
     ]
    },
    {
     "data": {
      "text/plain": [
       "array([[16,  3],\n",
       "       [ 3, 12]])"
      ]
     },
     "execution_count": 9,
     "metadata": {},
     "output_type": "execute_result"
    }
   ],
   "source": [
    "import numpy as np\n",
    "\n",
    "matrix1 = np.random.randint(1,5,size = (2,2))\n",
    "\n",
    "matrix2 = np.random.randint(2,5,size = (2,2))\n",
    "print(\"Matrix1\\n\",matrix1)\n",
    "print(\"Matrix2\\n\",matrix2)\n",
    "\n",
    "new_matrix = np.multiply(matrix1,matrix2)\n",
    "new_matrix"
   ]
  },
  {
   "cell_type": "code",
   "execution_count": 10,
   "id": "965595c0",
   "metadata": {},
   "outputs": [
    {
     "name": "stdout",
     "output_type": "stream",
     "text": [
      "Matrix1\n",
      " [16 16 15 39 13]\n",
      "Matrix2\n",
      " [47 45 36 39 29]\n"
     ]
    },
    {
     "data": {
      "text/plain": [
       "array([ 752,  720,  540, 1521,  377])"
      ]
     },
     "execution_count": 10,
     "metadata": {},
     "output_type": "execute_result"
    }
   ],
   "source": [
    "import numpy as np\n",
    "\n",
    "matrix1 = np.random.randint(12,50,size = (5))\n",
    "\n",
    "matrix2 = np.random.randint(12,50,size = (5))\n",
    "print(\"Matrix1\\n\",matrix1)\n",
    "print(\"Matrix2\\n\",matrix2)\n",
    "\n",
    "new_matrix = np.multiply(matrix1,matrix2)\n",
    "new_matrix"
   ]
  },
  {
   "cell_type": "markdown",
   "id": "0a3b7cac",
   "metadata": {},
   "source": [
    "## 3) dot"
   ]
  },
  {
   "cell_type": "code",
   "execution_count": 12,
   "id": "62ba20c8",
   "metadata": {},
   "outputs": [
    {
     "name": "stdout",
     "output_type": "stream",
     "text": [
      "Matrix1\n",
      " [[3 4]\n",
      " [2 2]]\n",
      "Matrix2\n",
      " [[2 2]\n",
      " [2 3]]\n"
     ]
    },
    {
     "data": {
      "text/plain": [
       "array([[14, 18],\n",
       "       [ 8, 10]])"
      ]
     },
     "execution_count": 12,
     "metadata": {},
     "output_type": "execute_result"
    }
   ],
   "source": [
    "import numpy as np\n",
    "\n",
    "matrix1 = np.random.randint(2,5,size = (2,2))\n",
    "\n",
    "matrix2 = np.random.randint(1,5,size = (2,2))\n",
    "print(\"Matrix1\\n\",matrix1)\n",
    "print(\"Matrix2\\n\",matrix2)\n",
    "\n",
    "new_matrix = np.dot(matrix1,matrix2)\n",
    "new_matrix"
   ]
  },
  {
   "cell_type": "code",
   "execution_count": null,
   "id": "78102317",
   "metadata": {},
   "outputs": [],
   "source": [
    "[[3 4]      [[2 2]\n",
    " [2 2]]     [2 3]]\n",
    "\n",
    " (3*2+4*2)   (3*2+4*3)     ([[14, 18],\n",
    " (2*2+2*2)   (2*2+2*3)      [ 8, 10]])"
   ]
  },
  {
   "cell_type": "code",
   "execution_count": 14,
   "id": "8d75742f",
   "metadata": {},
   "outputs": [
    {
     "data": {
      "text/plain": [
       "array([[28, 26],\n",
       "       [20, 22]])"
      ]
     },
     "execution_count": 14,
     "metadata": {},
     "output_type": "execute_result"
    }
   ],
   "source": [
    "import numpy as np\n",
    "\n",
    "matrix1 = np.random.randint(2,5,size = (2,3))\n",
    "\n",
    "matrix2 = np.random.randint(1,5,size = (3,2))\n",
    "print(\"Matrix1\\n\",matrix1)\n",
    "print(\"Matrix2\\n\",matrix2)\n",
    "\n",
    "new_matrix = np.dot(matrix1,matrix2)\n",
    "new_matrix"
   ]
  },
  {
   "cell_type": "code",
   "execution_count": null,
   "id": "0d85542f",
   "metadata": {},
   "outputs": [],
   "source": [
    "[[4 2 4]     [[2 2]\n",
    " [2 4 2]]     [2 3]       \n",
    "             [4 3]]\n",
    "(4*2+2*2+4*4)  (4*2+2*3+4*3)\n",
    "(2*2+4*2+2*4)  (2*2+4*3+2*3)             "
   ]
  },
  {
   "cell_type": "markdown",
   "id": "499db889",
   "metadata": {},
   "source": [
    "## Mathematical Operation"
   ]
  },
  {
   "cell_type": "code",
   "execution_count": 15,
   "id": "0b0d766b",
   "metadata": {},
   "outputs": [
    {
     "data": {
      "text/plain": [
       "array([12, 13, 14, 15, 15, 16])"
      ]
     },
     "execution_count": 15,
     "metadata": {},
     "output_type": "execute_result"
    }
   ],
   "source": [
    "array1 = np.array([2,3,4,5,5,6])\n",
    "array1+10"
   ]
  },
  {
   "cell_type": "code",
   "execution_count": 16,
   "id": "1758a8a3",
   "metadata": {},
   "outputs": [
    {
     "ename": "TypeError",
     "evalue": "can only concatenate list (not \"int\") to list",
     "output_type": "error",
     "traceback": [
      "\u001b[1;31m---------------------------------------------------------------------------\u001b[0m",
      "\u001b[1;31mTypeError\u001b[0m                                 Traceback (most recent call last)",
      "\u001b[1;32m~\\AppData\\Local\\Temp/ipykernel_7960/2464410900.py\u001b[0m in \u001b[0;36m<module>\u001b[1;34m\u001b[0m\n\u001b[0;32m      1\u001b[0m \u001b[0mlst\u001b[0m \u001b[1;33m=\u001b[0m \u001b[1;33m[\u001b[0m\u001b[1;36m2\u001b[0m\u001b[1;33m,\u001b[0m\u001b[1;36m3\u001b[0m\u001b[1;33m,\u001b[0m\u001b[1;36m4\u001b[0m\u001b[1;33m,\u001b[0m\u001b[1;36m5\u001b[0m\u001b[1;33m,\u001b[0m\u001b[1;36m5\u001b[0m\u001b[1;33m,\u001b[0m\u001b[1;36m6\u001b[0m\u001b[1;33m]\u001b[0m\u001b[1;33m\u001b[0m\u001b[1;33m\u001b[0m\u001b[0m\n\u001b[1;32m----> 2\u001b[1;33m \u001b[0mlst\u001b[0m \u001b[1;33m+\u001b[0m \u001b[1;36m10\u001b[0m\u001b[1;33m\u001b[0m\u001b[1;33m\u001b[0m\u001b[0m\n\u001b[0m",
      "\u001b[1;31mTypeError\u001b[0m: can only concatenate list (not \"int\") to list"
     ]
    }
   ],
   "source": [
    "lst = [2,3,4,5,5,6]\n",
    "lst + 10"
   ]
  },
  {
   "cell_type": "code",
   "execution_count": 17,
   "id": "63003cb7",
   "metadata": {},
   "outputs": [
    {
     "ename": "TypeError",
     "evalue": "unsupported operand type(s) for -: 'list' and 'int'",
     "output_type": "error",
     "traceback": [
      "\u001b[1;31m---------------------------------------------------------------------------\u001b[0m",
      "\u001b[1;31mTypeError\u001b[0m                                 Traceback (most recent call last)",
      "\u001b[1;32m~\\AppData\\Local\\Temp/ipykernel_7960/2956296646.py\u001b[0m in \u001b[0;36m<module>\u001b[1;34m\u001b[0m\n\u001b[0;32m      1\u001b[0m \u001b[0mlst\u001b[0m \u001b[1;33m=\u001b[0m \u001b[1;33m[\u001b[0m\u001b[1;36m2\u001b[0m\u001b[1;33m,\u001b[0m\u001b[1;36m3\u001b[0m\u001b[1;33m,\u001b[0m\u001b[1;36m4\u001b[0m\u001b[1;33m,\u001b[0m\u001b[1;36m5\u001b[0m\u001b[1;33m,\u001b[0m\u001b[1;36m5\u001b[0m\u001b[1;33m,\u001b[0m\u001b[1;36m6\u001b[0m\u001b[1;33m]\u001b[0m\u001b[1;33m\u001b[0m\u001b[1;33m\u001b[0m\u001b[0m\n\u001b[1;32m----> 2\u001b[1;33m \u001b[0mlst\u001b[0m \u001b[1;33m-\u001b[0m \u001b[1;36m1\u001b[0m  \u001b[1;31m#[1,2,3,4,4,5]\u001b[0m\u001b[1;33m\u001b[0m\u001b[1;33m\u001b[0m\u001b[0m\n\u001b[0m",
      "\u001b[1;31mTypeError\u001b[0m: unsupported operand type(s) for -: 'list' and 'int'"
     ]
    }
   ],
   "source": [
    "lst = [2,3,4,5,5,6]\n",
    "lst - 1  #[1,2,3,4,4,5]"
   ]
  },
  {
   "cell_type": "code",
   "execution_count": 18,
   "id": "45a3c4e6",
   "metadata": {},
   "outputs": [
    {
     "data": {
      "text/plain": [
       "array([1, 2, 3, 4, 4, 5])"
      ]
     },
     "execution_count": 18,
     "metadata": {},
     "output_type": "execute_result"
    }
   ],
   "source": [
    "lst = [2,3,4,5,5,6]\n",
    "array1 = np.array(lst)\n",
    "array1-1"
   ]
  },
  {
   "cell_type": "code",
   "execution_count": 22,
   "id": "bb55a263",
   "metadata": {},
   "outputs": [
    {
     "data": {
      "text/plain": [
       "array([1. , 1.5, 2. , 2.5, 2.5, 3. ])"
      ]
     },
     "execution_count": 22,
     "metadata": {},
     "output_type": "execute_result"
    }
   ],
   "source": [
    "lst = [2,3,4,5,5,6]\n",
    "array1 = np.array(lst)\n",
    "array1/2#"
   ]
  },
  {
   "cell_type": "code",
   "execution_count": 23,
   "id": "6bb6e0f2",
   "metadata": {},
   "outputs": [
    {
     "data": {
      "text/plain": [
       "array([1, 1, 2, 2, 2, 3], dtype=int32)"
      ]
     },
     "execution_count": 23,
     "metadata": {},
     "output_type": "execute_result"
    }
   ],
   "source": [
    "lst = [2,3,4,5,5,6]\n",
    "array1 = np.array(lst)\n",
    "array1//2#"
   ]
  },
  {
   "cell_type": "code",
   "execution_count": 24,
   "id": "b9ac44b6",
   "metadata": {},
   "outputs": [
    {
     "data": {
      "text/plain": [
       "array([ 4,  6,  8, 10, 10, 12])"
      ]
     },
     "execution_count": 24,
     "metadata": {},
     "output_type": "execute_result"
    }
   ],
   "source": [
    "lst = [2,3,4,5,5,6]\n",
    "array1 = np.array(lst)\n",
    "array1*2#"
   ]
  },
  {
   "cell_type": "code",
   "execution_count": 25,
   "id": "ba8e0e37",
   "metadata": {},
   "outputs": [
    {
     "data": {
      "text/plain": [
       "array([0, 1, 0, 1, 1, 0], dtype=int32)"
      ]
     },
     "execution_count": 25,
     "metadata": {},
     "output_type": "execute_result"
    }
   ],
   "source": [
    "lst = [2,3,4,5,5,6]\n",
    "array1 = np.array(lst)\n",
    "array1%2#"
   ]
  },
  {
   "cell_type": "code",
   "execution_count": 26,
   "id": "67326369",
   "metadata": {},
   "outputs": [
    {
     "data": {
      "text/plain": [
       "array([ 4,  9, 16, 25, 25, 36], dtype=int32)"
      ]
     },
     "execution_count": 26,
     "metadata": {},
     "output_type": "execute_result"
    }
   ],
   "source": [
    "lst = [2,3,4,5,5,6]\n",
    "array1 = np.array(lst)\n",
    "array1**2#"
   ]
  },
  {
   "cell_type": "markdown",
   "id": "3ee0064f",
   "metadata": {},
   "source": [
    "## np.floor"
   ]
  },
  {
   "cell_type": "code",
   "execution_count": 27,
   "id": "870fa4d2",
   "metadata": {},
   "outputs": [
    {
     "data": {
      "text/plain": [
       "array([1., 1., 2., 2., 2., 3.])"
      ]
     },
     "execution_count": 27,
     "metadata": {},
     "output_type": "execute_result"
    }
   ],
   "source": [
    "np.floor([1.8 , 1.5, 2.3 , 2.5, 2.5, 3.35 ])"
   ]
  },
  {
   "cell_type": "code",
   "execution_count": 28,
   "id": "b463d16a",
   "metadata": {},
   "outputs": [
    {
     "data": {
      "text/plain": [
       "array([[1., 1., 2.],\n",
       "       [2., 2., 3.]])"
      ]
     },
     "execution_count": 28,
     "metadata": {},
     "output_type": "execute_result"
    }
   ],
   "source": [
    "np.floor([[1.8 , 1.5, 2.3 ],[ 2.5, 2.5, 3.35] ])"
   ]
  },
  {
   "cell_type": "code",
   "execution_count": 29,
   "id": "ee84580a",
   "metadata": {},
   "outputs": [
    {
     "data": {
      "text/plain": [
       "5.0"
      ]
     },
     "execution_count": 29,
     "metadata": {},
     "output_type": "execute_result"
    }
   ],
   "source": [
    "np.floor(5.78)"
   ]
  },
  {
   "cell_type": "markdown",
   "id": "bfb73765",
   "metadata": {},
   "source": [
    "## np.ceil"
   ]
  },
  {
   "cell_type": "code",
   "execution_count": 31,
   "id": "09aa401c",
   "metadata": {},
   "outputs": [
    {
     "data": {
      "text/plain": [
       "array([ 2., 12., 13.,  3.,  3.,  4.])"
      ]
     },
     "execution_count": 31,
     "metadata": {},
     "output_type": "execute_result"
    }
   ],
   "source": [
    "np.ceil([1.8 , 11.5, 12.3 , 2.5, 2.5, 3.35 ])"
   ]
  },
  {
   "cell_type": "code",
   "execution_count": 32,
   "id": "dfc21bab",
   "metadata": {},
   "outputs": [
    {
     "data": {
      "text/plain": [
       "array([[ 2., 12., 13.],\n",
       "       [ 3.,  3.,  4.]])"
      ]
     },
     "execution_count": 32,
     "metadata": {},
     "output_type": "execute_result"
    }
   ],
   "source": [
    "np.ceil([[1.8 , 11.5, 12.3] , [2.5, 2.5, 3.35] ])"
   ]
  },
  {
   "cell_type": "markdown",
   "id": "6ee018b6",
   "metadata": {},
   "source": [
    "## np.sqrt"
   ]
  },
  {
   "cell_type": "code",
   "execution_count": 34,
   "id": "65e17645",
   "metadata": {},
   "outputs": [
    {
     "data": {
      "text/plain": [
       "array([ 8.,  5., 13., 18., 20.])"
      ]
     },
     "execution_count": 34,
     "metadata": {},
     "output_type": "execute_result"
    }
   ],
   "source": [
    "lst = [64,25,169,324,400] # [8,5,13,18,20]\n",
    "array1 = np.array(lst)\n",
    "array1**0.5"
   ]
  },
  {
   "cell_type": "code",
   "execution_count": 36,
   "id": "45448bb5",
   "metadata": {},
   "outputs": [
    {
     "data": {
      "text/plain": [
       "[8.0, 5.0, 13.0, 18.0, 20.0]"
      ]
     },
     "execution_count": 36,
     "metadata": {},
     "output_type": "execute_result"
    }
   ],
   "source": [
    "lst = [64,25,169,324,400] # [8,5,13,18,20]\n",
    "array1 = np.array(lst)\n",
    "sqrt = np.sqrt(array1)\n",
    "sqrt.tolist()"
   ]
  },
  {
   "cell_type": "markdown",
   "id": "25c1da5d",
   "metadata": {},
   "source": [
    "## np.cbrt"
   ]
  },
  {
   "cell_type": "code",
   "execution_count": 37,
   "id": "bc6c6973",
   "metadata": {},
   "outputs": [
    {
     "data": {
      "text/plain": [
       "[4.0, 5.0, 6.0, 7.0, 10.0]"
      ]
     },
     "execution_count": 37,
     "metadata": {},
     "output_type": "execute_result"
    }
   ],
   "source": [
    "lst = [64,125,216,343,1000] # [4,5,67,10]\n",
    "array1 = np.array(lst)\n",
    "sqrt = np.cbrt(array1)\n",
    "sqrt.tolist()"
   ]
  },
  {
   "cell_type": "code",
   "execution_count": 39,
   "id": "e2db3290",
   "metadata": {},
   "outputs": [
    {
     "name": "stdout",
     "output_type": "stream",
     "text": [
      "[ 4.  5.  6.  7. 10.]\n"
     ]
    },
    {
     "data": {
      "text/plain": [
       "[4.0, 6.0, 10.0]"
      ]
     },
     "execution_count": 39,
     "metadata": {},
     "output_type": "execute_result"
    }
   ],
   "source": [
    "lst = [64,125,216,343,1000] # [4,5,67,10]\n",
    "array1 = np.array(lst)\n",
    "sqrt = np.cbrt(array1)\n",
    "print(sqrt)\n",
    "lst  = [i for i in sqrt.tolist() if i%2 == 0]\n",
    "lst"
   ]
  },
  {
   "cell_type": "markdown",
   "id": "cf4eff56",
   "metadata": {},
   "source": [
    "## np.where"
   ]
  },
  {
   "cell_type": "code",
   "execution_count": null,
   "id": "00dbc255",
   "metadata": {},
   "outputs": [],
   "source": [
    "index = np.where(condition)"
   ]
  },
  {
   "cell_type": "code",
   "execution_count": 45,
   "id": "d0277a8d",
   "metadata": {},
   "outputs": [
    {
     "name": "stdout",
     "output_type": "stream",
     "text": [
      "[ 4.  5.  6.  7. 10.]\n",
      "Index (array([0, 2, 4], dtype=int64),)\n"
     ]
    },
    {
     "data": {
      "text/plain": [
       "array([ 4.,  6., 10.])"
      ]
     },
     "execution_count": 45,
     "metadata": {},
     "output_type": "execute_result"
    }
   ],
   "source": [
    "lst = [64,125,216,343,1000] # [4,5,67,10]\n",
    "array1 = np.array(lst)\n",
    "sqrt = np.cbrt(array1)\n",
    "print(sqrt)\n",
    "index = np.where(sqrt%2 == 0)\n",
    "print(\"Index\",index)\n",
    "sqrt[index]"
   ]
  },
  {
   "cell_type": "code",
   "execution_count": 48,
   "id": "725a5277",
   "metadata": {},
   "outputs": [
    {
     "name": "stdout",
     "output_type": "stream",
     "text": [
      "[  64  125  216  343 1000]\n",
      "Index (array([3, 4], dtype=int64),)\n"
     ]
    },
    {
     "data": {
      "text/plain": [
       "array([ 343, 1000])"
      ]
     },
     "execution_count": 48,
     "metadata": {},
     "output_type": "execute_result"
    }
   ],
   "source": [
    "lst = [64,125,216,343,1000] # [4,5,67,10]\n",
    "array1 = np.array(lst)\n",
    "print(array1)\n",
    "index = np.where(array1 > 300)\n",
    "print(\"Index\",index)\n",
    "array1[index]"
   ]
  },
  {
   "cell_type": "code",
   "execution_count": 49,
   "id": "6491ae39",
   "metadata": {},
   "outputs": [
    {
     "name": "stdout",
     "output_type": "stream",
     "text": [
      "[  64  125  216  343 1000]\n",
      "Index (array([1, 3], dtype=int64),)\n"
     ]
    },
    {
     "data": {
      "text/plain": [
       "array([125, 343])"
      ]
     },
     "execution_count": 49,
     "metadata": {},
     "output_type": "execute_result"
    }
   ],
   "source": [
    "lst = [64,125,216,343,1000] # 125,343 >>odd number\n",
    "array1 = np.array(lst)\n",
    "print(array1)\n",
    "index = np.where(array1%2 != 0)\n",
    "print(\"Index\",index)\n",
    "array1[index]"
   ]
  },
  {
   "cell_type": "markdown",
   "id": "40914367",
   "metadata": {},
   "source": [
    "## Linear Algebra"
   ]
  },
  {
   "cell_type": "code",
   "execution_count": null,
   "id": "cddf2dbc",
   "metadata": {},
   "outputs": [],
   "source": [
    "1."
   ]
  },
  {
   "cell_type": "code",
   "execution_count": null,
   "id": "4e00a8a0",
   "metadata": {},
   "outputs": [],
   "source": [
    "2x + 3y = 10   #   6x + 9y = 30\n",
    "3x + 9y = 12       3x + 9y = 12  >  subtraction >  3x = 18 > x = `18/3 = 6  >> y = -2/3\n",
    "x ? \n",
    "y ?"
   ]
  },
  {
   "cell_type": "code",
   "execution_count": 50,
   "id": "c0ab7543",
   "metadata": {},
   "outputs": [
    {
     "data": {
      "text/plain": [
       "array([ 6.        , -0.66666667])"
      ]
     },
     "execution_count": 50,
     "metadata": {},
     "output_type": "execute_result"
    }
   ],
   "source": [
    "array1 = np.array([[2,3],[3,9]])\n",
    "array2 = np.array([10,12])\n",
    "np.linalg.solve(array1,array2)"
   ]
  },
  {
   "cell_type": "code",
   "execution_count": null,
   "id": "1f2aecbb",
   "metadata": {},
   "outputs": [],
   "source": [
    "2x + 3y + 5z = 10   \n",
    "3x + 9y + 7z = 12  \n",
    "13x + 19y + 17z = 20 \n",
    "y ?\n",
    "x + \n",
    "z ?"
   ]
  },
  {
   "cell_type": "code",
   "execution_count": 51,
   "id": "6b4135cc",
   "metadata": {},
   "outputs": [
    {
     "data": {
      "text/plain": [
       "array([-1.77142857, -0.34285714,  2.91428571])"
      ]
     },
     "execution_count": 51,
     "metadata": {},
     "output_type": "execute_result"
    }
   ],
   "source": [
    "array1 = np.array([[2,3,5],[3,9,7],[13,19,17]])\n",
    "array2 = np.array([10,12,20])\n",
    "np.linalg.solve(array1,array2)"
   ]
  },
  {
   "cell_type": "markdown",
   "id": "b5d1ac05",
   "metadata": {},
   "source": [
    "## Inverse"
   ]
  },
  {
   "cell_type": "code",
   "execution_count": 52,
   "id": "195a9b11",
   "metadata": {},
   "outputs": [
    {
     "data": {
      "text/plain": [
       "array([[2, 3],\n",
       "       [3, 9]])"
      ]
     },
     "execution_count": 52,
     "metadata": {},
     "output_type": "execute_result"
    }
   ],
   "source": [
    "array1 = np.array([[2,3],[3,9]])\n",
    "array1"
   ]
  },
  {
   "cell_type": "code",
   "execution_count": 53,
   "id": "904d6769",
   "metadata": {},
   "outputs": [
    {
     "data": {
      "text/plain": [
       "array([[ 1.        , -0.33333333],\n",
       "       [-0.33333333,  0.22222222]])"
      ]
     },
     "execution_count": 53,
     "metadata": {},
     "output_type": "execute_result"
    }
   ],
   "source": [
    "np.linalg.inv(array1)"
   ]
  },
  {
   "cell_type": "code",
   "execution_count": 54,
   "id": "72a639e7",
   "metadata": {},
   "outputs": [
    {
     "data": {
      "text/plain": [
       "array([[-0.14285714, -0.31428571,  0.17142857],\n",
       "       [-0.28571429,  0.22142857, -0.00714286],\n",
       "       [ 0.42857143, -0.00714286, -0.06428571]])"
      ]
     },
     "execution_count": 54,
     "metadata": {},
     "output_type": "execute_result"
    }
   ],
   "source": [
    "array2 = np.array([[2,3,5],[3,9,7],[13,19,17]])\n",
    "np.linalg.inv(array2)"
   ]
  },
  {
   "cell_type": "markdown",
   "id": "de57ccfb",
   "metadata": {},
   "source": [
    "## Roots"
   ]
  },
  {
   "cell_type": "code",
   "execution_count": null,
   "id": "9acaf52d",
   "metadata": {},
   "outputs": [],
   "source": [
    "ax**2 + bx + c = 0\n",
    "example \n",
    "x**2 -5x**1 + 6 = 0  # \n",
    "a = 1\n",
    "b = -5\n",
    "c = 6\n",
    "np.polynomial.Polynomial([c,b,a])\n",
    "x = 2 ,3"
   ]
  },
  {
   "cell_type": "code",
   "execution_count": 57,
   "id": "5fc4dc95",
   "metadata": {},
   "outputs": [
    {
     "name": "stdout",
     "output_type": "stream",
     "text": [
      "Equation\n",
      " 6.0 - 5.0 x**1 + 1.0 x**2\n"
     ]
    },
    {
     "data": {
      "text/plain": [
       "array([2., 3.])"
      ]
     },
     "execution_count": 57,
     "metadata": {},
     "output_type": "execute_result"
    }
   ],
   "source": [
    "eq = np.polynomial.Polynomial([6,-5,1])\n",
    "print(\"Equation\\n\",eq)\n",
    "eq.roots()"
   ]
  },
  {
   "cell_type": "code",
   "execution_count": 59,
   "id": "4248bc62",
   "metadata": {},
   "outputs": [
    {
     "name": "stdout",
     "output_type": "stream",
     "text": [
      "Equation\n",
      " 6.0 - 5.0 x**1 + 1.0 x**2\n"
     ]
    },
    {
     "data": {
      "text/plain": [
       "array([2., 3.])"
      ]
     },
     "execution_count": 59,
     "metadata": {},
     "output_type": "execute_result"
    }
   ],
   "source": [
    "from numpy.polynomial import Polynomial\n",
    "eq = Polynomial([6,-5,1])\n",
    "print(\"Equation\\n\",eq)\n",
    "eq.roots()"
   ]
  },
  {
   "cell_type": "markdown",
   "id": "4080a558",
   "metadata": {},
   "source": [
    "## Eigen Values"
   ]
  },
  {
   "cell_type": "code",
   "execution_count": 60,
   "id": "417c0822",
   "metadata": {},
   "outputs": [
    {
     "data": {
      "text/plain": [
       "array([[3, 5],\n",
       "       [6, 5]])"
      ]
     },
     "execution_count": 60,
     "metadata": {},
     "output_type": "execute_result"
    }
   ],
   "source": [
    "array1 = np.random.randint(1,10,size=(2,2))\n",
    "array1"
   ]
  },
  {
   "cell_type": "code",
   "execution_count": 61,
   "id": "e835aa34",
   "metadata": {},
   "outputs": [
    {
     "data": {
      "text/plain": [
       "array([-1.56776436,  9.56776436])"
      ]
     },
     "execution_count": 61,
     "metadata": {},
     "output_type": "execute_result"
    }
   ],
   "source": [
    "np.linalg.eigvals(array1)"
   ]
  },
  {
   "cell_type": "markdown",
   "id": "57a19e26",
   "metadata": {},
   "source": [
    "## Numpy Statistics"
   ]
  },
  {
   "cell_type": "code",
   "execution_count": null,
   "id": "04fc6ac4",
   "metadata": {},
   "outputs": [],
   "source": [
    "1.mean\n",
    "2.Median\n",
    "3.Mode\n",
    "4.Variance\n",
    "5.Standard Deviation"
   ]
  },
  {
   "cell_type": "markdown",
   "id": "2ab2028b",
   "metadata": {},
   "source": [
    "## 1.Mean"
   ]
  },
  {
   "cell_type": "code",
   "execution_count": null,
   "id": "4abbc743",
   "metadata": {},
   "outputs": [],
   "source": [
    "> Simple average\n",
    "Note >> If no outlier is present in data then an only we use mean\n",
    ">> Mean is not applicable to categorical data"
   ]
  },
  {
   "cell_type": "code",
   "execution_count": 62,
   "id": "1a310d0b",
   "metadata": {},
   "outputs": [
    {
     "name": "stdout",
     "output_type": "stream",
     "text": [
      "Mean of 1st array\n",
      " 4.0\n",
      "Mean of 2st array\n",
      " 14.8\n"
     ]
    }
   ],
   "source": [
    "mean  = [2,3,4,5,6]\n",
    "mean1 = [2,3,4,5,60]\n",
    "\n",
    "arra1 = np.array(mean)\n",
    "arra2 = np.array(mean1)\n",
    "m1    = np.mean(arra1)\n",
    "m2    = np.mean(arra2)\n",
    "print(\"Mean of 1st array\\n\",m1)\n",
    "print(\"Mean of 2st array\\n\",m2)"
   ]
  },
  {
   "cell_type": "code",
   "execution_count": 64,
   "id": "a9a63d03",
   "metadata": {},
   "outputs": [
    {
     "name": "stdout",
     "output_type": "stream",
     "text": [
      "Mean of 1st array\n",
      " 4.0\n",
      "Mean of 2st array\n",
      " 14.8\n"
     ]
    }
   ],
   "source": [
    "mean  = [2,3,4,5,6]\n",
    "mean1 = [2,3,4,5,60]\n",
    "\n",
    "arra1 = np.array(mean)\n",
    "arra2 = np.array(mean1)\n",
    "m1    = np.sum(arra1/len(arra1))\n",
    "m2    = np.sum(arra2/len(arra1))\n",
    "print(\"Mean of 1st array\\n\",m1)\n",
    "print(\"Mean of 2st array\\n\",m2)"
   ]
  },
  {
   "cell_type": "markdown",
   "id": "c1bb931e",
   "metadata": {},
   "source": [
    "## 2) Median"
   ]
  },
  {
   "cell_type": "code",
   "execution_count": null,
   "id": "b3f92238",
   "metadata": {},
   "outputs": [],
   "source": [
    "> It is center after sorting"
   ]
  },
  {
   "cell_type": "code",
   "execution_count": 66,
   "id": "aab6248c",
   "metadata": {},
   "outputs": [
    {
     "data": {
      "text/plain": [
       "array([ 3,  4,  5,  6, 12])"
      ]
     },
     "execution_count": 66,
     "metadata": {},
     "output_type": "execute_result"
    }
   ],
   "source": [
    "mean  = [12,3,4,5,6]\n",
    "\n",
    "arra1 = np.array(mean)\n",
    "np.sort(arra1)"
   ]
  },
  {
   "cell_type": "code",
   "execution_count": 67,
   "id": "3064533e",
   "metadata": {},
   "outputs": [
    {
     "data": {
      "text/plain": [
       "5.0"
      ]
     },
     "execution_count": 67,
     "metadata": {},
     "output_type": "execute_result"
    }
   ],
   "source": [
    "np.median(arra1)"
   ]
  },
  {
   "cell_type": "code",
   "execution_count": 68,
   "id": "64c18e28",
   "metadata": {},
   "outputs": [
    {
     "data": {
      "text/plain": [
       "6.0"
      ]
     },
     "execution_count": 68,
     "metadata": {},
     "output_type": "execute_result"
    }
   ],
   "source": [
    "lst  = [12,3,14,5,6]\n",
    "arra1 = np.array(lst)\n",
    "np.median(arra1)"
   ]
  },
  {
   "cell_type": "markdown",
   "id": "8b0c2857",
   "metadata": {},
   "source": [
    "## 3)std"
   ]
  },
  {
   "cell_type": "code",
   "execution_count": null,
   "id": "83bc8705",
   "metadata": {},
   "outputs": [],
   "source": [
    "How data values deviated from mean point /value"
   ]
  },
  {
   "cell_type": "code",
   "execution_count": 72,
   "id": "f61bc90d",
   "metadata": {},
   "outputs": [
    {
     "name": "stdout",
     "output_type": "stream",
     "text": [
      "Mean\n",
      " 4.5\n"
     ]
    },
    {
     "data": {
      "text/plain": [
       "1.118033988749895"
      ]
     },
     "execution_count": 72,
     "metadata": {},
     "output_type": "execute_result"
    }
   ],
   "source": [
    "m = np.array([3,4,5,6])\n",
    "mean1 = np.mean(m)\n",
    "print(\"Mean\\n\",mean1)\n",
    "np.std([3,4,5,6])  # "
   ]
  },
  {
   "cell_type": "code",
   "execution_count": null,
   "id": "433b006a",
   "metadata": {},
   "outputs": [],
   "source": []
  },
  {
   "cell_type": "code",
   "execution_count": 74,
   "id": "08471ec5",
   "metadata": {},
   "outputs": [
    {
     "data": {
      "text/plain": [
       "1.118033988749895"
      ]
     },
     "execution_count": 74,
     "metadata": {},
     "output_type": "execute_result"
    }
   ],
   "source": [
    "np.sqrt(((3-4.5)**2 + (4-4.5)**2 + (5-4.5)**2 + (6-4.5)**2)/len(m))"
   ]
  },
  {
   "cell_type": "code",
   "execution_count": null,
   "id": "6c00934a",
   "metadata": {},
   "outputs": [],
   "source": [
    " = (3-4.5)**2 + (4-4.5)**2 + (5-4.5)**2 + (6-4.5)**2\n",
    "     -----------------------------------------------\n",
    "        len(array)"
   ]
  },
  {
   "cell_type": "markdown",
   "id": "0486b7e7",
   "metadata": {},
   "source": [
    "## 4) Variance"
   ]
  },
  {
   "cell_type": "code",
   "execution_count": null,
   "id": "036ab4aa",
   "metadata": {},
   "outputs": [],
   "source": [
    "It gives distribution of data >> spread of the data\n"
   ]
  },
  {
   "cell_type": "code",
   "execution_count": 75,
   "id": "ab3d5987",
   "metadata": {},
   "outputs": [
    {
     "data": {
      "text/plain": [
       "2.96"
      ]
     },
     "execution_count": 75,
     "metadata": {},
     "output_type": "execute_result"
    }
   ],
   "source": [
    "m = np.array([3,4,5,6,8])\n",
    "np.var(m) "
   ]
  },
  {
   "cell_type": "markdown",
   "id": "12344397",
   "metadata": {},
   "source": [
    "## 5) mode"
   ]
  },
  {
   "cell_type": "code",
   "execution_count": null,
   "id": "80a01db3",
   "metadata": {},
   "outputs": [],
   "source": [
    "Numerical /Categorical "
   ]
  },
  {
   "cell_type": "code",
   "execution_count": null,
   "id": "fb7dff8c",
   "metadata": {},
   "outputs": [],
   "source": []
  },
  {
   "cell_type": "code",
   "execution_count": null,
   "id": "a8d738c4",
   "metadata": {},
   "outputs": [],
   "source": []
  },
  {
   "cell_type": "code",
   "execution_count": null,
   "id": "016033ce",
   "metadata": {},
   "outputs": [],
   "source": []
  },
  {
   "cell_type": "code",
   "execution_count": null,
   "id": "0d428246",
   "metadata": {},
   "outputs": [],
   "source": []
  },
  {
   "cell_type": "code",
   "execution_count": null,
   "id": "7afbf5ef",
   "metadata": {},
   "outputs": [],
   "source": []
  },
  {
   "cell_type": "code",
   "execution_count": null,
   "id": "61670837",
   "metadata": {},
   "outputs": [],
   "source": []
  },
  {
   "cell_type": "code",
   "execution_count": null,
   "id": "d6c4140f",
   "metadata": {},
   "outputs": [],
   "source": []
  },
  {
   "cell_type": "code",
   "execution_count": null,
   "id": "dc0ce7cf",
   "metadata": {},
   "outputs": [],
   "source": []
  },
  {
   "cell_type": "code",
   "execution_count": null,
   "id": "b1ad3a49",
   "metadata": {},
   "outputs": [],
   "source": []
  }
 ],
 "metadata": {
  "kernelspec": {
   "display_name": "Python 3 (ipykernel)",
   "language": "python",
   "name": "python3"
  },
  "language_info": {
   "codemirror_mode": {
    "name": "ipython",
    "version": 3
   },
   "file_extension": ".py",
   "mimetype": "text/x-python",
   "name": "python",
   "nbconvert_exporter": "python",
   "pygments_lexer": "ipython3",
   "version": "3.9.7"
  }
 },
 "nbformat": 4,
 "nbformat_minor": 5
}

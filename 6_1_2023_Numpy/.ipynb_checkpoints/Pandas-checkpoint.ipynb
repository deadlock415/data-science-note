{
 "cells": [
  {
   "cell_type": "code",
   "execution_count": null,
   "id": "1f1caf49",
   "metadata": {},
   "outputs": [],
   "source": [
    "Pandas >> Python Data Analysis"
   ]
  },
  {
   "cell_type": "markdown",
   "id": "f3c8402b",
   "metadata": {},
   "source": [
    "### Steps"
   ]
  },
  {
   "cell_type": "code",
   "execution_count": null,
   "id": "e2f3d868",
   "metadata": {},
   "outputs": [],
   "source": [
    "1) Problem Statement \n",
    "2) Data Gathering\n",
    "3) EDA # Exploratory Data Analysis # misssing >>\n",
    "4) Feature Engineering\n",
    "5) Feature Selection\n",
    "6) Model Training\n",
    "7) Model Evaluate >> \n",
    "8) Model Deployment (AWS,Azure,GCP)\n",
    "\n",
    "column /Feature/Label/Variable\n",
    "y  = mx1 +mx2 +... +c\n",
    "\n",
    "student_id \n",
    "100_1\n",
    "100_2\n"
   ]
  }
 ],
 "metadata": {
  "kernelspec": {
   "display_name": "Python 3 (ipykernel)",
   "language": "python",
   "name": "python3"
  },
  "language_info": {
   "codemirror_mode": {
    "name": "ipython",
    "version": 3
   },
   "file_extension": ".py",
   "mimetype": "text/x-python",
   "name": "python",
   "nbconvert_exporter": "python",
   "pygments_lexer": "ipython3",
   "version": "3.9.7"
  }
 },
 "nbformat": 4,
 "nbformat_minor": 5
}

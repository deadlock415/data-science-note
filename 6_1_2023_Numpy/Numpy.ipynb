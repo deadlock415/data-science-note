{
 "cells": [
  {
   "cell_type": "markdown",
   "id": "e83e154f",
   "metadata": {},
   "source": [
    "## Mode"
   ]
  },
  {
   "cell_type": "code",
   "execution_count": null,
   "id": "dd681b63",
   "metadata": {},
   "outputs": [],
   "source": [
    "Most frequent / reapeated value / most occured\n",
    "> mostly used for categorical data\n",
    "> it return repeated number / value and its count"
   ]
  },
  {
   "cell_type": "code",
   "execution_count": 4,
   "id": "2b34879a",
   "metadata": {},
   "outputs": [],
   "source": [
    "from scipy.stats import mode\n",
    "import numpy as np"
   ]
  },
  {
   "cell_type": "code",
   "execution_count": 10,
   "id": "f08aab44",
   "metadata": {},
   "outputs": [
    {
     "name": "stdout",
     "output_type": "stream",
     "text": [
      "Mode\n",
      " ModeResult(mode=array([26]), count=array([3]))\n",
      "Value>>\n",
      " 26\n"
     ]
    }
   ],
   "source": [
    "array1 = np.array([17,26,26,25,26])\n",
    "Mode = mode(array1)\n",
    "print(\"Mode\\n\",Mode)\n",
    "value = Mode[0][0]\n",
    "print(\"Value>>\\n\",value)"
   ]
  },
  {
   "cell_type": "code",
   "execution_count": null,
   "id": "295d50fa",
   "metadata": {},
   "outputs": [],
   "source": [
    "# Smoker\n",
    "yes\n",
    "no\n",
    "\n",
    "No\n",
    "Yes   # knn > k=5 Yes (3) vs NO(2) >> \n",
    " \n",
    "No\n",
    "# Static value\n",
    "# Mode\n",
    "# "
   ]
  },
  {
   "cell_type": "markdown",
   "id": "055c3dbb",
   "metadata": {},
   "source": [
    "## Trignomentry"
   ]
  },
  {
   "cell_type": "markdown",
   "id": "6bdbfa44",
   "metadata": {},
   "source": [
    "## 1) np.sin()"
   ]
  },
  {
   "cell_type": "code",
   "execution_count": null,
   "id": "18788304",
   "metadata": {},
   "outputs": [],
   "source": [
    "sin = opp/Hyp\n",
    "cos = Adj/Hyp\n",
    "tan = opp/Adj\n",
    "\n",
    "cot = Adj/Opp = 1/tan"
   ]
  },
  {
   "cell_type": "code",
   "execution_count": 11,
   "id": "eb4490da",
   "metadata": {},
   "outputs": [],
   "source": [
    "import math"
   ]
  },
  {
   "cell_type": "code",
   "execution_count": 12,
   "id": "e4445ee1",
   "metadata": {},
   "outputs": [
    {
     "data": {
      "text/plain": [
       "3.141592653589793"
      ]
     },
     "execution_count": 12,
     "metadata": {},
     "output_type": "execute_result"
    }
   ],
   "source": [
    "math.pi\n",
    "np.pi >>> # it return pi value in radian"
   ]
  },
  {
   "cell_type": "code",
   "execution_count": 14,
   "id": "d30aea06",
   "metadata": {},
   "outputs": [
    {
     "data": {
      "text/plain": [
       "0.49999999999999994"
      ]
     },
     "execution_count": 14,
     "metadata": {},
     "output_type": "execute_result"
    }
   ],
   "source": [
    "np.sin(np.pi/6)   # 180/6 = 30  >> radian"
   ]
  },
  {
   "cell_type": "code",
   "execution_count": 15,
   "id": "7f99506c",
   "metadata": {},
   "outputs": [
    {
     "data": {
      "text/plain": [
       "0.8660254037844386"
      ]
     },
     "execution_count": 15,
     "metadata": {},
     "output_type": "execute_result"
    }
   ],
   "source": [
    "np.sin(np.pi/3)   # 180/3 = 60  >> radian"
   ]
  },
  {
   "cell_type": "code",
   "execution_count": 16,
   "id": "0b065d94",
   "metadata": {},
   "outputs": [
    {
     "data": {
      "text/plain": [
       "1.0"
      ]
     },
     "execution_count": 16,
     "metadata": {},
     "output_type": "execute_result"
    }
   ],
   "source": [
    "np.sin(np.pi/2)   # 180/2 = 90  >> radian"
   ]
  },
  {
   "cell_type": "code",
   "execution_count": 17,
   "id": "dbaa22ab",
   "metadata": {},
   "outputs": [
    {
     "data": {
      "text/plain": [
       "0.0"
      ]
     },
     "execution_count": 17,
     "metadata": {},
     "output_type": "execute_result"
    }
   ],
   "source": [
    "np.sin(0)   # 180/2 = 90  >> radian"
   ]
  },
  {
   "cell_type": "markdown",
   "id": "c2331144",
   "metadata": {},
   "source": [
    "## 2.cos"
   ]
  },
  {
   "cell_type": "code",
   "execution_count": 18,
   "id": "177c7bc0",
   "metadata": {},
   "outputs": [
    {
     "data": {
      "text/plain": [
       "0.8660254037844387"
      ]
     },
     "execution_count": 18,
     "metadata": {},
     "output_type": "execute_result"
    }
   ],
   "source": [
    "np.cos(np.pi/6) # cos(30)"
   ]
  },
  {
   "cell_type": "code",
   "execution_count": 19,
   "id": "af634e41",
   "metadata": {},
   "outputs": [
    {
     "data": {
      "text/plain": [
       "0.7071067811865476"
      ]
     },
     "execution_count": 19,
     "metadata": {},
     "output_type": "execute_result"
    }
   ],
   "source": [
    "np.cos(np.pi/4) # cos(45)"
   ]
  },
  {
   "cell_type": "markdown",
   "id": "b22e00e4",
   "metadata": {},
   "source": [
    "## 3.tan"
   ]
  },
  {
   "cell_type": "code",
   "execution_count": 20,
   "id": "ebc14d21",
   "metadata": {},
   "outputs": [
    {
     "data": {
      "text/plain": [
       "0.5773502691896257"
      ]
     },
     "execution_count": 20,
     "metadata": {},
     "output_type": "execute_result"
    }
   ],
   "source": [
    "np.tan(np.pi/6)"
   ]
  },
  {
   "cell_type": "code",
   "execution_count": 21,
   "id": "0a2c5670",
   "metadata": {},
   "outputs": [
    {
     "data": {
      "text/plain": [
       "0.9999999999999999"
      ]
     },
     "execution_count": 21,
     "metadata": {},
     "output_type": "execute_result"
    }
   ],
   "source": [
    "np.tan(np.pi/4)"
   ]
  },
  {
   "cell_type": "markdown",
   "id": "9a6866e1",
   "metadata": {},
   "source": [
    "## degree to radians"
   ]
  },
  {
   "cell_type": "code",
   "execution_count": 22,
   "id": "8f0b93ec",
   "metadata": {},
   "outputs": [
    {
     "data": {
      "text/plain": [
       "0.7853981633974483"
      ]
     },
     "execution_count": 22,
     "metadata": {},
     "output_type": "execute_result"
    }
   ],
   "source": [
    "np.deg2rad(45)"
   ]
  },
  {
   "cell_type": "code",
   "execution_count": 23,
   "id": "79a99066",
   "metadata": {},
   "outputs": [
    {
     "data": {
      "text/plain": [
       "0.5235987755982988"
      ]
     },
     "execution_count": 23,
     "metadata": {},
     "output_type": "execute_result"
    }
   ],
   "source": [
    "np.deg2rad(30)"
   ]
  },
  {
   "cell_type": "code",
   "execution_count": 24,
   "id": "466048c0",
   "metadata": {},
   "outputs": [
    {
     "data": {
      "text/plain": [
       "0.49999999999999994"
      ]
     },
     "execution_count": 24,
     "metadata": {},
     "output_type": "execute_result"
    }
   ],
   "source": [
    "np.sin(np.pi/6) # sin(30) = 180/6 = 30"
   ]
  },
  {
   "cell_type": "code",
   "execution_count": 26,
   "id": "a54dfcdc",
   "metadata": {},
   "outputs": [
    {
     "data": {
      "text/plain": [
       "0.49999999999999994"
      ]
     },
     "execution_count": 26,
     "metadata": {},
     "output_type": "execute_result"
    }
   ],
   "source": [
    "np.sin(np.deg2rad(30)) # sin(30) = 180/6 = 30"
   ]
  },
  {
   "cell_type": "code",
   "execution_count": 25,
   "id": "6f7abbb8",
   "metadata": {},
   "outputs": [
    {
     "data": {
      "text/plain": [
       "0.5235987755982988"
      ]
     },
     "execution_count": 25,
     "metadata": {},
     "output_type": "execute_result"
    }
   ],
   "source": [
    "np.pi/6 # converting to radian"
   ]
  },
  {
   "cell_type": "code",
   "execution_count": 27,
   "id": "92403144",
   "metadata": {},
   "outputs": [
    {
     "data": {
      "text/plain": [
       "array([0.        , 0.5       , 0.70710678, 0.8660254 , 1.        ])"
      ]
     },
     "execution_count": 27,
     "metadata": {},
     "output_type": "execute_result"
    }
   ],
   "source": [
    "rad_values = np.deg2rad([0,30,45,60,90])\n",
    "np.sin(rad_values)"
   ]
  },
  {
   "cell_type": "code",
   "execution_count": 28,
   "id": "ccc9cd07",
   "metadata": {},
   "outputs": [
    {
     "data": {
      "text/plain": [
       "array([1.00000000e+00, 8.66025404e-01, 7.07106781e-01, 5.00000000e-01,\n",
       "       6.12323400e-17])"
      ]
     },
     "execution_count": 28,
     "metadata": {},
     "output_type": "execute_result"
    }
   ],
   "source": [
    "rad_values = np.deg2rad([0,30,45,60,90])\n",
    "np.cos(rad_values)"
   ]
  },
  {
   "cell_type": "markdown",
   "id": "22fefa06",
   "metadata": {},
   "source": [
    "## Radian to degree"
   ]
  },
  {
   "cell_type": "code",
   "execution_count": 31,
   "id": "9df4b0b4",
   "metadata": {},
   "outputs": [
    {
     "name": "stdout",
     "output_type": "stream",
     "text": [
      "RADIAN VALUES\n",
      " [0.         0.52359878 0.78539816 1.04719755 1.57079633]\n",
      "********************\n",
      "Degree values \n",
      " [ 0. 30. 45. 60. 90.]\n"
     ]
    }
   ],
   "source": [
    "de # converting to degree to rad\n",
    "print(\"RADIAN VALUES\\n\",rad_values)\n",
    "print(\"*\"*20)\n",
    "deg_values = np.rad2deg(rad_values) # rad to degree\n",
    "print(\"Degree values \\n\",deg_values)"
   ]
  },
  {
   "cell_type": "code",
   "execution_count": null,
   "id": "2f0da788",
   "metadata": {},
   "outputs": [],
   "source": [
    "deg2rad()"
   ]
  },
  {
   "cell_type": "markdown",
   "id": "5c1f61b9",
   "metadata": {},
   "source": [
    "## log"
   ]
  },
  {
   "cell_type": "code",
   "execution_count": null,
   "id": "1a642c1e",
   "metadata": {},
   "outputs": [],
   "source": [
    "Basically It is use to reduce the imapact of outliers in data\n",
    "1) np.log (Natural log)\n",
    "2) np.log10\n",
    "3) np.log2\n"
   ]
  },
  {
   "cell_type": "markdown",
   "id": "178639fa",
   "metadata": {},
   "source": [
    "## 1) np.log"
   ]
  },
  {
   "cell_type": "code",
   "execution_count": null,
   "id": "03ac8835",
   "metadata": {},
   "outputs": [],
   "source": [
    "Natural Log"
   ]
  },
  {
   "cell_type": "code",
   "execution_count": 32,
   "id": "8105d3cc",
   "metadata": {},
   "outputs": [
    {
     "data": {
      "text/plain": [
       "3.912023005428146"
      ]
     },
     "execution_count": 32,
     "metadata": {},
     "output_type": "execute_result"
    }
   ],
   "source": [
    "np.log(50)"
   ]
  },
  {
   "cell_type": "code",
   "execution_count": 33,
   "id": "28ebc75f",
   "metadata": {},
   "outputs": [
    {
     "name": "stdout",
     "output_type": "stream",
     "text": [
      "Array\n",
      " [[16 14]\n",
      " [15 10]]\n"
     ]
    },
    {
     "data": {
      "text/plain": [
       "array([[2.77258872, 2.63905733],\n",
       "       [2.7080502 , 2.30258509]])"
      ]
     },
     "execution_count": 33,
     "metadata": {},
     "output_type": "execute_result"
    }
   ],
   "source": [
    "arra = np.random.randint(10,20,size=(2,2))\n",
    "print(\"Array\\n\",arra)\n",
    "np.log(arra)"
   ]
  },
  {
   "cell_type": "markdown",
   "id": "3a151ce3",
   "metadata": {},
   "source": [
    "## CASE 1"
   ]
  },
  {
   "cell_type": "code",
   "execution_count": 38,
   "id": "a8627167",
   "metadata": {},
   "outputs": [
    {
     "name": "stdout",
     "output_type": "stream",
     "text": [
      "Array\n",
      " [2 3 4 5 6 7]\n"
     ]
    },
    {
     "data": {
      "text/plain": [
       "4.5"
      ]
     },
     "execution_count": 38,
     "metadata": {},
     "output_type": "execute_result"
    }
   ],
   "source": [
    "arra = np.array([2,3,4,5,6,7])\n",
    "print(\"Array\\n\",arra)\n",
    "np.mean(arra)  # Without outliers"
   ]
  },
  {
   "cell_type": "code",
   "execution_count": 42,
   "id": "1909a5a8",
   "metadata": {},
   "outputs": [
    {
     "name": "stdout",
     "output_type": "stream",
     "text": [
      "Array\n",
      " [  2   3   4   5   6 700]\n"
     ]
    },
    {
     "data": {
      "text/plain": [
       "120.0"
      ]
     },
     "execution_count": 42,
     "metadata": {},
     "output_type": "execute_result"
    }
   ],
   "source": [
    "arra = np.array([2,3,4,5,6,700])\n",
    "print(\"Array\\n\",arra)\n",
    "np.mean(arra)  # # With outliers"
   ]
  },
  {
   "cell_type": "code",
   "execution_count": null,
   "id": "2838b31f",
   "metadata": {},
   "outputs": [],
   "source": [
    "# Log concept"
   ]
  },
  {
   "cell_type": "code",
   "execution_count": 40,
   "id": "2f32c22c",
   "metadata": {},
   "outputs": [
    {
     "name": "stdout",
     "output_type": "stream",
     "text": [
      "Array\n",
      " [2 3 4 5 6 7]\n",
      "Array2\n",
      " [0.69314718 1.09861229 1.38629436 1.60943791 1.79175947 1.94591015]\n"
     ]
    },
    {
     "data": {
      "text/plain": [
       "1.4208602268442359"
      ]
     },
     "execution_count": 40,
     "metadata": {},
     "output_type": "execute_result"
    }
   ],
   "source": [
    "arra = np.array([2,3,4,5,6,7])\n",
    "print(\"Array\\n\",arra)\n",
    "arra2 = np.log(arra)\n",
    "print(\"Array2\\n\",arra2)\n",
    "np.mean(arra2)"
   ]
  },
  {
   "cell_type": "code",
   "execution_count": 43,
   "id": "3c3e2335",
   "metadata": {},
   "outputs": [
    {
     "name": "stdout",
     "output_type": "stream",
     "text": [
      "Array\n",
      " [  2   3   4   5   6 700]\n",
      "Array2\n",
      " [0.69314718 1.09861229 1.38629436 1.60943791 1.79175947 6.55108034]\n"
     ]
    },
    {
     "data": {
      "text/plain": [
       "2.1883885911755843"
      ]
     },
     "execution_count": 43,
     "metadata": {},
     "output_type": "execute_result"
    }
   ],
   "source": [
    "arra = np.array([2,3,4,5,6,700])\n",
    "print(\"Array\\n\",arra)\n",
    "arra2 = np.log(arra)\n",
    "print(\"Array2\\n\",arra2)\n",
    "np.mean(arra2)"
   ]
  },
  {
   "cell_type": "code",
   "execution_count": 47,
   "id": "edea5665",
   "metadata": {},
   "outputs": [
    {
     "name": "stdout",
     "output_type": "stream",
     "text": [
      "Array\n",
      " [  2   3   4   5   6 700]\n",
      "Array2\n",
      " [0.30103    0.47712125 0.60205999 0.69897    0.77815125 2.84509804]\n"
     ]
    },
    {
     "data": {
      "text/plain": [
       "0.9504050894075875"
      ]
     },
     "execution_count": 47,
     "metadata": {},
     "output_type": "execute_result"
    }
   ],
   "source": [
    "arra = np.array([2,3,4,5,6,700])\n",
    "print(\"Array\\n\",arra)\n",
    "arra2 = np.log10(arra)\n",
    "print(\"Array2\\n\",arra2)\n",
    "np.mean(arra2)"
   ]
  },
  {
   "cell_type": "markdown",
   "id": "6598bed0",
   "metadata": {},
   "source": [
    "## 2) np.log2"
   ]
  },
  {
   "cell_type": "code",
   "execution_count": 44,
   "id": "98bbc23d",
   "metadata": {},
   "outputs": [
    {
     "data": {
      "text/plain": [
       "5.321928094887363"
      ]
     },
     "execution_count": 44,
     "metadata": {},
     "output_type": "execute_result"
    }
   ],
   "source": [
    "np.log2(40)"
   ]
  },
  {
   "cell_type": "code",
   "execution_count": 45,
   "id": "ec75770d",
   "metadata": {},
   "outputs": [
    {
     "data": {
      "text/plain": [
       "3.6888794541139363"
      ]
     },
     "execution_count": 45,
     "metadata": {},
     "output_type": "execute_result"
    }
   ],
   "source": [
    "np.log(40)"
   ]
  },
  {
   "cell_type": "code",
   "execution_count": 46,
   "id": "879884f4",
   "metadata": {},
   "outputs": [
    {
     "data": {
      "text/plain": [
       "1.6020599913279623"
      ]
     },
     "execution_count": 46,
     "metadata": {},
     "output_type": "execute_result"
    }
   ],
   "source": [
    "np.log10(40)"
   ]
  },
  {
   "cell_type": "code",
   "execution_count": 48,
   "id": "6ff32166",
   "metadata": {},
   "outputs": [
    {
     "name": "stdout",
     "output_type": "stream",
     "text": [
      "Array\n",
      " [3 4 5 6 7 8 3 6 3 9]\n",
      "\n"
     ]
    },
    {
     "data": {
      "text/plain": [
       "(array([0, 6, 8], dtype=int64),)"
      ]
     },
     "execution_count": 48,
     "metadata": {},
     "output_type": "execute_result"
    }
   ],
   "source": [
    "lst = [3,4,5,6,7,8,3,6,3,9]  # index of 3 [0,6,8] \n",
    "array = np.array(lst)\n",
    "print(\"Array\\n\",array)\n",
    "print()\n",
    "np.where(array == 3) # condition array == 3"
   ]
  },
  {
   "cell_type": "code",
   "execution_count": 50,
   "id": "bb903fa4",
   "metadata": {},
   "outputs": [
    {
     "name": "stdout",
     "output_type": "stream",
     "text": [
      "Array\n",
      " [3 4 5 6 7 8 3 6 3 9]\n",
      "\n"
     ]
    },
    {
     "data": {
      "text/plain": [
       "array([3, 3, 3])"
      ]
     },
     "execution_count": 50,
     "metadata": {},
     "output_type": "execute_result"
    }
   ],
   "source": [
    "lst = [3,4,5,6,7,8,3,6,3,9]  # index of 3 [0,6,8] \n",
    "array = np.array(lst)\n",
    "print(\"Array\\n\",array)\n",
    "print()\n",
    "result = array[np.where(array == 3)] # condition array == 3\n",
    "result"
   ]
  },
  {
   "cell_type": "code",
   "execution_count": 51,
   "id": "68063f07",
   "metadata": {},
   "outputs": [
    {
     "name": "stdout",
     "output_type": "stream",
     "text": [
      "Array\n",
      " [3 4 5 6 7 8 3 6 3 9]\n",
      "\n"
     ]
    },
    {
     "data": {
      "text/plain": [
       "array([7, 8, 9])"
      ]
     },
     "execution_count": 51,
     "metadata": {},
     "output_type": "execute_result"
    }
   ],
   "source": [
    "lst = [3,4,5,6,7,8,3,6,3,9]  # index of  [7,8,9] \n",
    "array = np.array(lst)\n",
    "print(\"Array\\n\",array)\n",
    "print()\n",
    "result = array[np.where(array >= 7)] # condition array == 3\n",
    "result"
   ]
  },
  {
   "cell_type": "code",
   "execution_count": 52,
   "id": "180ccd2e",
   "metadata": {},
   "outputs": [
    {
     "name": "stdout",
     "output_type": "stream",
     "text": [
      "Array\n",
      " [3 4 5 6 7 8 3 6 3 9]\n",
      "\n"
     ]
    },
    {
     "data": {
      "text/plain": [
       "array([7, 8, 9])"
      ]
     },
     "execution_count": 52,
     "metadata": {},
     "output_type": "execute_result"
    }
   ],
   "source": [
    "lst = [3,4,5,6,7,8,3,6,3,9]  # index of  [7,8,9] \n",
    "array = np.array(lst)\n",
    "print(\"Array\\n\",array)\n",
    "print()\n",
    "result = array[np.where(array > 6)] # condition array == 3\n",
    "result"
   ]
  },
  {
   "cell_type": "markdown",
   "id": "f5207c51",
   "metadata": {},
   "source": [
    "## sqrt"
   ]
  },
  {
   "cell_type": "code",
   "execution_count": 54,
   "id": "3e20cf45",
   "metadata": {},
   "outputs": [
    {
     "name": "stdout",
     "output_type": "stream",
     "text": [
      "Array\n",
      " [ 25  64 100   4]\n",
      "\n"
     ]
    },
    {
     "data": {
      "text/plain": [
       "array([ 5.,  8., 10.,  2.])"
      ]
     },
     "execution_count": 54,
     "metadata": {},
     "output_type": "execute_result"
    }
   ],
   "source": [
    "lst = [25,64,100,4]\n",
    "array = np.array(lst)\n",
    "print(\"Array\\n\",array)\n",
    "print()\n",
    "np.sqrt(array)"
   ]
  },
  {
   "cell_type": "code",
   "execution_count": 55,
   "id": "20b10b39",
   "metadata": {},
   "outputs": [
    {
     "name": "stdout",
     "output_type": "stream",
     "text": [
      "Array\n",
      " [ 25  64 100   4]\n",
      "\n"
     ]
    },
    {
     "data": {
      "text/plain": [
       "array([ 5.,  8., 10.,  2.])"
      ]
     },
     "execution_count": 55,
     "metadata": {},
     "output_type": "execute_result"
    }
   ],
   "source": [
    "lst = [25,64,100,4]\n",
    "array = np.array(lst)\n",
    "print(\"Array\\n\",array)\n",
    "print()\n",
    "array ** 0.5"
   ]
  },
  {
   "cell_type": "code",
   "execution_count": 57,
   "id": "321d0bcb",
   "metadata": {},
   "outputs": [
    {
     "data": {
      "text/plain": [
       "[5.0, 8.0, 10.0, 2.0]"
      ]
     },
     "execution_count": 57,
     "metadata": {},
     "output_type": "execute_result"
    }
   ],
   "source": [
    "lst = [25,64,100,4]\n",
    "[i**0.5 for i in lst]"
   ]
  },
  {
   "cell_type": "code",
   "execution_count": 59,
   "id": "7cdb0a08",
   "metadata": {},
   "outputs": [
    {
     "data": {
      "text/plain": [
       "[5.0, 8.0, 10.0, 2.0]"
      ]
     },
     "execution_count": 59,
     "metadata": {},
     "output_type": "execute_result"
    }
   ],
   "source": [
    "lst = [25,64,100,4]\n",
    "list(map(lambda x :x**0.5,lst))"
   ]
  },
  {
   "cell_type": "code",
   "execution_count": 60,
   "id": "7e3b69b5",
   "metadata": {},
   "outputs": [
    {
     "data": {
      "text/plain": [
       "[5.0, 8.0, 10.0, 2.0]"
      ]
     },
     "execution_count": 60,
     "metadata": {},
     "output_type": "execute_result"
    }
   ],
   "source": [
    "lst = [25,64,100,4]\n",
    "lst1 = []\n",
    "for i in lst:\n",
    "    lst1.append(i**0.5)\n",
    "lst1"
   ]
  },
  {
   "cell_type": "code",
   "execution_count": 61,
   "id": "9c3cdc76",
   "metadata": {},
   "outputs": [
    {
     "data": {
      "text/plain": [
       "array([5, 5, 5, 5, 5, 5, 5, 5, 5, 5])"
      ]
     },
     "execution_count": 61,
     "metadata": {},
     "output_type": "execute_result"
    }
   ],
   "source": [
    "# [5,5,5,5,5,5,5,5,5,5]\n",
    "np.full(10,5)"
   ]
  },
  {
   "cell_type": "markdown",
   "id": "df24edcc",
   "metadata": {},
   "source": [
    "## Transpose"
   ]
  },
  {
   "cell_type": "code",
   "execution_count": 62,
   "id": "e1cd9554",
   "metadata": {},
   "outputs": [
    {
     "name": "stdout",
     "output_type": "stream",
     "text": [
      "Array\n",
      " [[18 11]\n",
      " [10 15]]\n"
     ]
    }
   ],
   "source": [
    "arra = np.random.randint(10,20,size=(2,2))\n",
    "print(\"Array\\n\",arra)  \n",
    "# o/p\n",
    "[[18 10]\n",
    " [11 15]]"
   ]
  },
  {
   "cell_type": "code",
   "execution_count": 63,
   "id": "62c554a7",
   "metadata": {},
   "outputs": [
    {
     "data": {
      "text/plain": [
       "array([[18, 10],\n",
       "       [11, 15]])"
      ]
     },
     "execution_count": 63,
     "metadata": {},
     "output_type": "execute_result"
    }
   ],
   "source": [
    "arra.T"
   ]
  },
  {
   "cell_type": "markdown",
   "id": "1df7b906",
   "metadata": {},
   "source": [
    "## QUES"
   ]
  },
  {
   "cell_type": "code",
   "execution_count": 65,
   "id": "352d6132",
   "metadata": {},
   "outputs": [
    {
     "name": "stdout",
     "output_type": "stream",
     "text": [
      "Array\n",
      " [ 3  4  5  6 70  8  3  6  3  9]\n",
      "\n"
     ]
    },
    {
     "data": {
      "text/plain": [
       "(array([4], dtype=int64),)"
      ]
     },
     "execution_count": 65,
     "metadata": {},
     "output_type": "execute_result"
    }
   ],
   "source": [
    "lst = [3,4,5,6,70,8,3,6,3,9]  # index of  [7,8,9] \n",
    "array = np.array(lst)\n",
    "print(\"Array\\n\",array)\n",
    "print()\n",
    "np.where(array == np.max(array))"
   ]
  },
  {
   "cell_type": "code",
   "execution_count": 66,
   "id": "fd5c8f5e",
   "metadata": {},
   "outputs": [
    {
     "name": "stdout",
     "output_type": "stream",
     "text": [
      "Array\n",
      " [ 3  4  5  6 70  8  3  6  3  9]\n",
      "\n"
     ]
    },
    {
     "data": {
      "text/plain": [
       "(array([4], dtype=int64),)"
      ]
     },
     "execution_count": 66,
     "metadata": {},
     "output_type": "execute_result"
    }
   ],
   "source": [
    "lst = [3,4,5,6,70,8,3,6,3,9]  # index of  [7,8,9] \n",
    "array = np.array(lst)\n",
    "print(\"Array\\n\",array)\n",
    "print()\n",
    "np.where(array == array.max())"
   ]
  },
  {
   "cell_type": "code",
   "execution_count": 68,
   "id": "f713c4cc",
   "metadata": {},
   "outputs": [
    {
     "name": "stdout",
     "output_type": "stream",
     "text": [
      "Array\n",
      " [  3 400   5   6  70   8   3   6   3   9]\n",
      "\n"
     ]
    },
    {
     "data": {
      "text/plain": [
       "1"
      ]
     },
     "execution_count": 68,
     "metadata": {},
     "output_type": "execute_result"
    }
   ],
   "source": [
    "lst = [3,400,5,6,70,8,3,6,3,9]  # index of  [7,8,9] \n",
    "array = np.array(lst)\n",
    "print(\"Array\\n\",array)\n",
    "print()\n",
    "array.argmax()"
   ]
  },
  {
   "cell_type": "code",
   "execution_count": 69,
   "id": "78c53b07",
   "metadata": {},
   "outputs": [
    {
     "name": "stdout",
     "output_type": "stream",
     "text": [
      "Array\n",
      " [  3 400   5   6  70   8   3   6   3   9]\n",
      "\n"
     ]
    },
    {
     "data": {
      "text/plain": [
       "0"
      ]
     },
     "execution_count": 69,
     "metadata": {},
     "output_type": "execute_result"
    }
   ],
   "source": [
    "lst = [3,400,5,6,70,8,3,6,3,9]  # index of  [7,8,9] \n",
    "array = np.array(lst)\n",
    "print(\"Array\\n\",array)\n",
    "print()\n",
    "array.argmin()"
   ]
  },
  {
   "cell_type": "markdown",
   "id": "6d5fb35f",
   "metadata": {},
   "source": [
    "## ques"
   ]
  },
  {
   "cell_type": "code",
   "execution_count": 70,
   "id": "6151ae36",
   "metadata": {},
   "outputs": [
    {
     "data": {
      "text/plain": [
       "array([1, 2, 3, 4, 1, 2, 3, 4])"
      ]
     },
     "execution_count": 70,
     "metadata": {},
     "output_type": "execute_result"
    }
   ],
   "source": [
    "lst = [1,2,3,4]  # [1,2,3,4,1,2,3,4]\n",
    "arr1 = np.array(lst)\n",
    "arr2 = np.array(lst)\n",
    "np.concatenate([arr1,arr2])"
   ]
  },
  {
   "cell_type": "code",
   "execution_count": 71,
   "id": "9fbce501",
   "metadata": {},
   "outputs": [
    {
     "data": {
      "text/plain": [
       "[1, 2, 3, 4, 1, 2, 3, 4]"
      ]
     },
     "execution_count": 71,
     "metadata": {},
     "output_type": "execute_result"
    }
   ],
   "source": [
    "lst * 2"
   ]
  },
  {
   "cell_type": "code",
   "execution_count": 72,
   "id": "5b030e7d",
   "metadata": {},
   "outputs": [
    {
     "data": {
      "text/plain": [
       "array([1, 2, 3, 4, 1, 2, 3, 4])"
      ]
     },
     "execution_count": 72,
     "metadata": {},
     "output_type": "execute_result"
    }
   ],
   "source": [
    "np.tile(lst,2)"
   ]
  },
  {
   "cell_type": "markdown",
   "id": "e4df77db",
   "metadata": {},
   "source": [
    "## ques"
   ]
  },
  {
   "cell_type": "code",
   "execution_count": null,
   "id": "c1eacbc5",
   "metadata": {},
   "outputs": [],
   "source": [
    "lst = [1,2,3,4]  # [1,1,2,2,3,3,4,4]"
   ]
  },
  {
   "cell_type": "code",
   "execution_count": 74,
   "id": "daa0e001",
   "metadata": {},
   "outputs": [
    {
     "data": {
      "text/plain": [
       "array([1, 1, 2, 2, 3, 3, 4, 4])"
      ]
     },
     "execution_count": 74,
     "metadata": {},
     "output_type": "execute_result"
    }
   ],
   "source": [
    "np.sort(np.tile(lst,2))"
   ]
  },
  {
   "cell_type": "code",
   "execution_count": 75,
   "id": "7784c695",
   "metadata": {},
   "outputs": [
    {
     "data": {
      "text/plain": [
       "array([1, 1, 2, 2, 3, 3, 4, 4])"
      ]
     },
     "execution_count": 75,
     "metadata": {},
     "output_type": "execute_result"
    }
   ],
   "source": [
    "np.repeat(lst,2)"
   ]
  },
  {
   "cell_type": "code",
   "execution_count": 77,
   "id": "d53b6d6e",
   "metadata": {},
   "outputs": [
    {
     "data": {
      "text/plain": [
       "array([1, 1, 2, 2, 3, 3, 4, 4])"
      ]
     },
     "execution_count": 77,
     "metadata": {},
     "output_type": "execute_result"
    }
   ],
   "source": [
    "lst = [1,2,3,4]  \n",
    "arr1 = np.array(lst)\n",
    "arr2 = np.array(lst)\n",
    "np.sort(np.append(arr1,arr2))"
   ]
  },
  {
   "cell_type": "code",
   "execution_count": null,
   "id": "08b8096d",
   "metadata": {},
   "outputs": [],
   "source": []
  }
 ],
 "metadata": {
  "kernelspec": {
   "display_name": "Python 3 (ipykernel)",
   "language": "python",
   "name": "python3"
  },
  "language_info": {
   "codemirror_mode": {
    "name": "ipython",
    "version": 3
   },
   "file_extension": ".py",
   "mimetype": "text/x-python",
   "name": "python",
   "nbconvert_exporter": "python",
   "pygments_lexer": "ipython3",
   "version": "3.9.7"
  }
 },
 "nbformat": 4,
 "nbformat_minor": 5
}
